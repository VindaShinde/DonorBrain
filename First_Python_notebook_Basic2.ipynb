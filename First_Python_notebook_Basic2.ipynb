{
  "nbformat": 4,
  "nbformat_minor": 0,
  "metadata": {
    "colab": {
      "name": "First_Python_notebook_Basic2.ipynb",
      "provenance": [],
      "collapsed_sections": [],
      "authorship_tag": "ABX9TyPwiewL4yJUMocjV1xk+GZw",
      "include_colab_link": true
    },
    "kernelspec": {
      "name": "python3",
      "display_name": "Python 3"
    },
    "language_info": {
      "name": "python"
    }
  },
  "cells": [
    {
      "cell_type": "markdown",
      "metadata": {
        "id": "view-in-github",
        "colab_type": "text"
      },
      "source": [
        "<a href=\"https://colab.research.google.com/github/VindaShinde/DonorBrain/blob/master/First_Python_notebook_Basic2.ipynb\" target=\"_parent\"><img src=\"https://colab.research.google.com/assets/colab-badge.svg\" alt=\"Open In Colab\"/></a>"
      ]
    },
    {
      "cell_type": "markdown",
      "metadata": {
        "id": "qzyUIpk9737D"
      },
      "source": [
        "# Date and time functions"
      ]
    },
    {
      "cell_type": "code",
      "metadata": {
        "colab": {
          "base_uri": "https://localhost:8080/"
        },
        "id": "ZT4YFpmf1Bu7",
        "outputId": "eb0da25b-41b0-4c03-80d5-7f56455249a8"
      },
      "source": [
        "import datetime\n",
        "current_Day = datetime.datetime.now() #show current date with year, month, day, hour, minute, second, microsecond, and tzinfo.\n",
        "current_Day"
      ],
      "execution_count": 6,
      "outputs": [
        {
          "output_type": "execute_result",
          "data": {
            "text/plain": [
              "datetime.datetime(2021, 10, 6, 9, 18, 9, 41160)"
            ]
          },
          "metadata": {},
          "execution_count": 6
        }
      ]
    },
    {
      "cell_type": "code",
      "metadata": {
        "colab": {
          "base_uri": "https://localhost:8080/"
        },
        "id": "Rat_8xAR2asD",
        "outputId": "b67b1ced-7ecd-4576-ee01-8615d7d4c18f"
      },
      "source": [
        "another_day = datetime.time(10,5,6) #assign some date\n",
        "another_day"
      ],
      "execution_count": 8,
      "outputs": [
        {
          "output_type": "execute_result",
          "data": {
            "text/plain": [
              "datetime.time(10, 5, 6)"
            ]
          },
          "metadata": {},
          "execution_count": 8
        }
      ]
    },
    {
      "cell_type": "code",
      "metadata": {
        "colab": {
          "base_uri": "https://localhost:8080/"
        },
        "id": "NPYI5C0J4jRt",
        "outputId": "064e79fa-8f7b-4578-f3e9-bb1b7254b158"
      },
      "source": [
        "#different ways to use datetime\n",
        "print('day  :',current_Day.day)\n",
        "print('month  :',current_Day.month)\n",
        "print('year  :',current_Day.year)\n",
        "print('hour  :',current_Day.hour, 'and Minute  :',current_Day.minute )\n",
        "print('second  :',current_Day.second, 'and Microsecond  :',current_Day.microsecond )"
      ],
      "execution_count": 20,
      "outputs": [
        {
          "output_type": "stream",
          "name": "stdout",
          "text": [
            "day  : 6\n",
            "month  : 10\n",
            "year  : 2021\n",
            "hour  : 9 and Minute  : 18\n",
            "second  : 9 and Microsecond  : 41160\n"
          ]
        }
      ]
    },
    {
      "cell_type": "markdown",
      "metadata": {
        "id": "zfm9oBJZ8AEr"
      },
      "source": [
        "# Date functions"
      ]
    },
    {
      "cell_type": "code",
      "metadata": {
        "colab": {
          "base_uri": "https://localhost:8080/"
        },
        "id": "-ItChuiX6nEe",
        "outputId": "05d03256-7d86-4cb1-bc31-121cdcec2732"
      },
      "source": [
        "today_date = datetime.date.today()\n",
        "today_date \n"
      ],
      "execution_count": 22,
      "outputs": [
        {
          "output_type": "execute_result",
          "data": {
            "text/plain": [
              "datetime.date(2021, 10, 6)"
            ]
          },
          "metadata": {},
          "execution_count": 22
        }
      ]
    },
    {
      "cell_type": "code",
      "metadata": {
        "colab": {
          "base_uri": "https://localhost:8080/"
        },
        "id": "jOiNqpnG8C7G",
        "outputId": "d8dd6cfe-e880-473d-a902-7d4544919700"
      },
      "source": [
        "print(today_date)\n",
        "print('ctime:',today_date.ctime())#shows time with date\n",
        "print('tuple:',today_date.timetuple())#returns complete datetime in tuple\n",
        "print('ordinal:',today_date.toordinal())#Return the date corresponding to the proleptic Gregorian ordinal\n",
        "print('year:',today_date.year,'Month:',today_date.month,'Day:',today_date.day)#theses int are not callable and hence no()"
      ],
      "execution_count": 31,
      "outputs": [
        {
          "output_type": "stream",
          "name": "stdout",
          "text": [
            "2021-10-06\n",
            "ctime: Wed Oct  6 00:00:00 2021\n",
            "tuple: time.struct_time(tm_year=2021, tm_mon=10, tm_mday=6, tm_hour=0, tm_min=0, tm_sec=0, tm_wday=2, tm_yday=279, tm_isdst=-1)\n",
            "ordinal: 738069\n",
            "year: 2021 Month: 10 Day: 6\n"
          ]
        }
      ]
    },
    {
      "cell_type": "code",
      "metadata": {
        "colab": {
          "base_uri": "https://localhost:8080/"
        },
        "id": "HaEJn9lSijw2",
        "outputId": "2115bdf6-edb0-4a3b-f1cd-ca1e1b343351"
      },
      "source": [
        "Date_1 = datetime.date(2008,11,12)\n",
        "Date_1"
      ],
      "execution_count": 32,
      "outputs": [
        {
          "output_type": "execute_result",
          "data": {
            "text/plain": [
              "datetime.date(2008, 11, 12)"
            ]
          },
          "metadata": {},
          "execution_count": 32
        }
      ]
    },
    {
      "cell_type": "code",
      "metadata": {
        "colab": {
          "base_uri": "https://localhost:8080/"
        },
        "id": "XhQ5FUXFkn-S",
        "outputId": "573f758e-d835-44ee-de80-d6d0589b479f"
      },
      "source": [
        "Date_2 = Date_1.replace(2009,12,11)\n",
        "Date_2"
      ],
      "execution_count": 34,
      "outputs": [
        {
          "output_type": "execute_result",
          "data": {
            "text/plain": [
              "datetime.date(2009, 12, 11)"
            ]
          },
          "metadata": {},
          "execution_count": 34
        }
      ]
    },
    {
      "cell_type": "code",
      "metadata": {
        "colab": {
          "base_uri": "https://localhost:8080/"
        },
        "id": "6uOOaQ_RkjU4",
        "outputId": "dc29ccb8-7ced-4032-e7b4-8eb833ac474b"
      },
      "source": [
        "Date_1 == Date_2 #Date compare with operators"
      ],
      "execution_count": 35,
      "outputs": [
        {
          "output_type": "execute_result",
          "data": {
            "text/plain": [
              "False"
            ]
          },
          "metadata": {},
          "execution_count": 35
        }
      ]
    },
    {
      "cell_type": "code",
      "metadata": {
        "colab": {
          "base_uri": "https://localhost:8080/"
        },
        "id": "3h-L9EOflERQ",
        "outputId": "eb6c499e-ae0e-44d6-a2f0-a4d1713a9343"
      },
      "source": [
        "Date_1 < Date_2 #Date comparison "
      ],
      "execution_count": 38,
      "outputs": [
        {
          "output_type": "execute_result",
          "data": {
            "text/plain": [
              "True"
            ]
          },
          "metadata": {},
          "execution_count": 38
        }
      ]
    },
    {
      "cell_type": "markdown",
      "metadata": {
        "id": "zXaBEI8qm3Bf"
      },
      "source": [
        "# Different ways of representing date"
      ]
    },
    {
      "cell_type": "code",
      "metadata": {
        "colab": {
          "base_uri": "https://localhost:8080/"
        },
        "id": "UWdVcAPKlJfT",
        "outputId": "ec7de490-0f81-4385-fd64-465d92fda841"
      },
      "source": [
        "Date_6_Oct_21 = datetime.datetime(2021,10,6,18,2,1)\n",
        "Date_6_Oct_21"
      ],
      "execution_count": 43,
      "outputs": [
        {
          "output_type": "execute_result",
          "data": {
            "text/plain": [
              "datetime.datetime(2021, 10, 6, 18, 2, 1)"
            ]
          },
          "metadata": {},
          "execution_count": 43
        }
      ]
    },
    {
      "cell_type": "code",
      "metadata": {
        "colab": {
          "base_uri": "https://localhost:8080/",
          "height": 35
        },
        "id": "_LbnFWmIlyDa",
        "outputId": "0e4a6d7e-c2d4-4526-d2e1-2c004e6bb6c7"
      },
      "source": [
        "Date_6_Oct_21.strftime('%Y/%m/%d %H:%M:%S')"
      ],
      "execution_count": 47,
      "outputs": [
        {
          "output_type": "execute_result",
          "data": {
            "application/vnd.google.colaboratory.intrinsic+json": {
              "type": "string"
            },
            "text/plain": [
              "'2021/10/06 18:02:01'"
            ]
          },
          "metadata": {},
          "execution_count": 47
        }
      ]
    },
    {
      "cell_type": "code",
      "metadata": {
        "colab": {
          "base_uri": "https://localhost:8080/",
          "height": 35
        },
        "id": "U8-9vGlrmVAO",
        "outputId": "01c4faa0-2eb1-422a-c744-9c1d0564b50a"
      },
      "source": [
        "Date_6_Oct_21.strftime(\"%y of %B\")"
      ],
      "execution_count": 48,
      "outputs": [
        {
          "output_type": "execute_result",
          "data": {
            "application/vnd.google.colaboratory.intrinsic+json": {
              "type": "string"
            },
            "text/plain": [
              "'21 of October'"
            ]
          },
          "metadata": {},
          "execution_count": 48
        }
      ]
    },
    {
      "cell_type": "code",
      "metadata": {
        "colab": {
          "base_uri": "https://localhost:8080/"
        },
        "id": "ZyGoRz1Umwcb",
        "outputId": "54208105-00c6-409d-a19c-41eefbd828b2"
      },
      "source": [
        "type(Date_6_Oct_21)"
      ],
      "execution_count": 49,
      "outputs": [
        {
          "output_type": "execute_result",
          "data": {
            "text/plain": [
              "datetime.datetime"
            ]
          },
          "metadata": {},
          "execution_count": 49
        }
      ]
    },
    {
      "cell_type": "markdown",
      "metadata": {
        "id": "wcWo8K54oASB"
      },
      "source": [
        "# Conversting different dates (available in strings) to datetime for analysis\n",
        "This link gives more details <https://docs.python.org/3/library/datetime.html#strftime-strptime-behavior>"
      ]
    },
    {
      "cell_type": "code",
      "metadata": {
        "colab": {
          "base_uri": "https://localhost:8080/"
        },
        "id": "nB6OJkwkn9tq",
        "outputId": "fd2a8f6e-227e-4b15-e58d-422194db3ef0"
      },
      "source": [
        "date_in_word = datetime.datetime.strptime('October 6, 2021', '%B %d, %Y')\n",
        "date_in_word #here the date is available as string and with Month name day, year format - %B tell full month %d is date, and %Y is year"
      ],
      "execution_count": 58,
      "outputs": [
        {
          "output_type": "execute_result",
          "data": {
            "text/plain": [
              "datetime.datetime(2021, 10, 6, 0, 0)"
            ]
          },
          "metadata": {},
          "execution_count": 58
        }
      ]
    },
    {
      "cell_type": "code",
      "metadata": {
        "colab": {
          "base_uri": "https://localhost:8080/"
        },
        "id": "4ZHkAbEmn2Bn",
        "outputId": "d44241e3-78df-4f70-aec7-a728360b0811"
      },
      "source": [
        "datetime.datetime.strptime('2021/10/06 16:29:00', '%Y/%m/%d %H:%M:%S')"
      ],
      "execution_count": 59,
      "outputs": [
        {
          "output_type": "execute_result",
          "data": {
            "text/plain": [
              "datetime.datetime(2021, 10, 6, 16, 29)"
            ]
          },
          "metadata": {},
          "execution_count": 59
        }
      ]
    },
    {
      "cell_type": "code",
      "metadata": {
        "colab": {
          "base_uri": "https://localhost:8080/"
        },
        "id": "ZoSUnEnSq3JE",
        "outputId": "f1e4d932-3d39-4d70-8f3b-6c5c65615261"
      },
      "source": [
        "datetime.datetime.strptime(\"October of '21\", \"%B of '%y\")#since single quote in date we taken it in Double quotes"
      ],
      "execution_count": 62,
      "outputs": [
        {
          "output_type": "execute_result",
          "data": {
            "text/plain": [
              "datetime.datetime(2021, 10, 1, 0, 0)"
            ]
          },
          "metadata": {},
          "execution_count": 62
        }
      ]
    },
    {
      "cell_type": "code",
      "metadata": {
        "id": "6DcKMhITrFrM"
      },
      "source": [
        ""
      ],
      "execution_count": null,
      "outputs": []
    }
  ]
}