{
  "nbformat": 4,
  "nbformat_minor": 5,
  "metadata": {
    "colab": {
      "name": "Regression_train/test_cement_data.ipynb",
      "provenance": [],
      "collapsed_sections": [],
      "include_colab_link": true
    },
    "kernelspec": {
      "display_name": "Python 3",
      "language": "python",
      "name": "python3"
    },
    "language_info": {
      "codemirror_mode": {
        "name": "ipython",
        "version": 3
      },
      "file_extension": ".py",
      "mimetype": "text/x-python",
      "name": "python",
      "nbconvert_exporter": "python",
      "pygments_lexer": "ipython3",
      "version": "3.8.8"
    }
  },
  "cells": [
    {
      "cell_type": "markdown",
      "metadata": {
        "id": "view-in-github",
        "colab_type": "text"
      },
      "source": [
        "<a href=\"https://colab.research.google.com/github/VindaShinde/DonorBrain/blob/master/Regression_train_test_cement_data.ipynb\" target=\"_parent\"><img src=\"https://colab.research.google.com/assets/colab-badge.svg\" alt=\"Open In Colab\"/></a>"
      ]
    },
    {
      "cell_type": "markdown",
      "metadata": {
        "id": "a8014bd5"
      },
      "source": [
        "# Problem\n",
        "This Train file contains data on different batches of concrete containing different amounts of the ingredients of the concrete recipe. The ingredients (the X data) are:\n",
        "\n",
        "Cement,\n",
        "Blast Furnace Slag,\n",
        "Fly Ash,\n",
        "Water,\n",
        "Superplasticizer,\n",
        "Coarse Aggregate,\n",
        "Fine Aggregate\n",
        "\n",
        "In addition the data contains a field for the Age of the concrete, which could be a factor.\n",
        "\n",
        "The y value to be predicted is the last column:  Compressive Strength.\n",
        "\n",
        " \n",
        "\n",
        "Use the Training data to create a multivariate linear regression model. You can use the methods I showed you in Python, or use R.\n",
        "Then use the Test data to make predictions ( y^ )about the strength of the Test batches.\n",
        "Compare your predictions with the true y values in the y_concrete_strength_test.csv file.\n",
        "How well would you say your model works?\n",
        "\n",
        "Make a scatter plot your y^ (x-axis) versus the true y values (y-axis). If your model is accurate these should show a linear relationship."
      ],
      "id": "a8014bd5"
    },
    {
      "cell_type": "code",
      "metadata": {
        "id": "2a61f33a"
      },
      "source": [
        "import numpy as np\n",
        "import pandas as pd\n",
        "import matplotlib.pyplot as plt\n",
        "import seaborn as sns"
      ],
      "id": "2a61f33a",
      "execution_count": null,
      "outputs": []
    },
    {
      "cell_type": "code",
      "metadata": {
        "id": "42bd22a1"
      },
      "source": [
        "x_testData = pd.read_csv(\"concrete_strength_test-1.csv\")\n",
        "trainData = pd.read_csv(\"concrete_strength_train.csv\")\n",
        "y_testData = pd.read_csv(\"y_concrete_strength_test.csv\")['Compressive Strength']"
      ],
      "id": "42bd22a1",
      "execution_count": null,
      "outputs": []
    },
    {
      "cell_type": "code",
      "metadata": {
        "colab": {
          "base_uri": "https://localhost:8080/"
        },
        "id": "c23650a5",
        "outputId": "4dfcdfed-c8dd-4da5-abc7-1a6d78ec117a"
      },
      "source": [
        "y_testData.head()"
      ],
      "id": "c23650a5",
      "execution_count": null,
      "outputs": [
        {
          "data": {
            "text/plain": [
              "0    26.97\n",
              "1    26.15\n",
              "2    39.30\n",
              "3    22.72\n",
              "4    27.04\n",
              "Name: Compressive Strength, dtype: float64"
            ]
          },
          "execution_count": 4,
          "metadata": {},
          "output_type": "execute_result"
        }
      ]
    },
    {
      "cell_type": "code",
      "metadata": {
        "colab": {
          "base_uri": "https://localhost:8080/"
        },
        "id": "c0a35d2f",
        "outputId": "4845ea1a-d426-4e65-df58-a73294458185"
      },
      "source": [
        "cement_features = trainData.iloc[:,:-1]\n",
        "#print(cement_features[:5])\n",
        "\n",
        "cement_strength = trainData.iloc[:,-1]\n",
        "print(cement_strength[:5])"
      ],
      "id": "c0a35d2f",
      "execution_count": null,
      "outputs": [
        {
          "name": "stdout",
          "output_type": "stream",
          "text": [
            "0    26.92\n",
            "1    52.01\n",
            "2     8.49\n",
            "3    33.09\n",
            "4    11.58\n",
            "Name: Compressive Strength, dtype: float64\n"
          ]
        }
      ]
    },
    {
      "cell_type": "code",
      "metadata": {
        "colab": {
          "base_uri": "https://localhost:8080/"
        },
        "id": "9a2f210e",
        "outputId": "c989bd08-6b26-4795-84ba-de2c65061b48"
      },
      "source": [
        "from sklearn import linear_model\n",
        "\n",
        "model = linear_model.LinearRegression()\n",
        "model.fit(cement_features,cement_strength)\n",
        "\n",
        "model.intercept_, model.coef_\n",
        "\n"
      ],
      "id": "9a2f210e",
      "execution_count": null,
      "outputs": [
        {
          "data": {
            "text/plain": [
              "(-19.43921135960464,\n",
              " array([-0.00468736,  0.1209828 ,  0.10685529,  0.08931185, -0.17161426,\n",
              "         0.21693972,  0.02020416,  0.01935289,  0.11647834]))"
            ]
          },
          "execution_count": 6,
          "metadata": {},
          "output_type": "execute_result"
        }
      ]
    },
    {
      "cell_type": "code",
      "metadata": {
        "colab": {
          "base_uri": "https://localhost:8080/"
        },
        "id": "e162a5f4",
        "outputId": "5aab95ba-a885-408b-c04a-eea19158296a"
      },
      "source": [
        "# Predict on test data\n",
        "predicted_value = model.predict(x_testData)\n",
        "predicted_value[:5]"
      ],
      "id": "e162a5f4",
      "execution_count": null,
      "outputs": [
        {
          "data": {
            "text/plain": [
              "array([29.3886812 , 30.33382688, 54.99203688, 28.26242805, 24.05013244])"
            ]
          },
          "execution_count": 7,
          "metadata": {},
          "output_type": "execute_result"
        }
      ]
    },
    {
      "cell_type": "code",
      "metadata": {
        "colab": {
          "base_uri": "https://localhost:8080/",
          "height": 353
        },
        "id": "96c5335a",
        "outputId": "2990148d-f579-4afd-ab24-34d81efd48b1"
      },
      "source": [
        "plt.figure(figsize=(5,5))\n",
        "\n",
        "plt.plot(y_testData,predicted_value,'.', alpha=0.7)\n",
        "xline=np.linspace(0,80)\n",
        "plt.plot(xline, xline,'-', alpha=0.5)\n",
        "plt.title('y_test vs predicted_y')"
      ],
      "id": "96c5335a",
      "execution_count": null,
      "outputs": [
        {
          "data": {
            "text/plain": [
              "Text(0.5, 1.0, 'y_test vs predicted_y')"
            ]
          },
          "execution_count": 8,
          "metadata": {},
          "output_type": "execute_result"
        },
        {
          "data": {
            "image/png": "[encoded data removed]",
            "text/plain": [
              "<Figure size 360x360 with 1 Axes>"
            ]
          },
          "metadata": {
            "needs_background": "light"
          },
          "output_type": "display_data"
        }
      ]
    },
    {
      "cell_type": "code",
      "metadata": {
        "colab": {
          "base_uri": "https://localhost:8080/"
        },
        "id": "1NGEHDBbXGN8",
        "outputId": "1feaf76c-bdfb-45ad-d116-1d263e1e1a24"
      },
      "source": [
        "type(predicted_value)"
      ],
      "id": "1NGEHDBbXGN8",
      "execution_count": null,
      "outputs": [
        {
          "data": {
            "text/plain": [
              "numpy.ndarray"
            ]
          },
          "execution_count": 9,
          "metadata": {},
          "output_type": "execute_result"
        }
      ]
    },
    {
      "cell_type": "markdown",
      "metadata": {
        "id": "hqz6rR_NVPm4"
      },
      "source": [
        "# For better comaprison will use Stat models\n"
      ],
      "id": "hqz6rR_NVPm4"
    },
    {
      "cell_type": "code",
      "metadata": {
        "colab": {
          "base_uri": "https://localhost:8080/",
          "height": 711
        },
        "id": "09729e35",
        "outputId": "5006449a-75b0-4b1c-d95c-ca5fa4a4e206"
      },
      "source": [
        "import statsmodels.api as sm\n",
        "\n",
        "# adding the ones column, for the intercept w_0\n",
        "cement_features_1 = sm.add_constant(cement_features) \n",
        "\n",
        "model_stat = sm.OLS(cement_strength, cement_features_1).fit()\n",
        "model_stat.summary()"
      ],
      "id": "09729e35",
      "execution_count": null,
      "outputs": [
        {
          "data": {
            "text/html": [
              "<table class=\"simpletable\">\n",
              "<caption>OLS Regression Results</caption>\n",
              "<tr>\n",
              "  <th>Dep. Variable:</th>    <td>Compressive Strength</td> <th>  R-squared:         </th> <td>   0.635</td> \n",
              "</tr>\n",
              "<tr>\n",
              "  <th>Model:</th>                     <td>OLS</td>         <th>  Adj. R-squared:    </th> <td>   0.630</td> \n",
              "</tr>\n",
              "<tr>\n",
              "  <th>Method:</th>               <td>Least Squares</td>    <th>  F-statistic:       </th> <td>   133.5</td> \n",
              "</tr>\n",
              "<tr>\n",
              "  <th>Date:</th>               <td>Mon, 25 Oct 2021</td>   <th>  Prob (F-statistic):</th> <td>1.06e-144</td>\n",
              "</tr>\n",
              "<tr>\n",
              "  <th>Time:</th>                   <td>10:40:21</td>       <th>  Log-Likelihood:    </th> <td> -2616.7</td> \n",
              "</tr>\n",
              "<tr>\n",
              "  <th>No. Observations:</th>        <td>   700</td>        <th>  AIC:               </th> <td>   5253.</td> \n",
              "</tr>\n",
              "<tr>\n",
              "  <th>Df Residuals:</th>            <td>   690</td>        <th>  BIC:               </th> <td>   5299.</td> \n",
              "</tr>\n",
              "<tr>\n",
              "  <th>Df Model:</th>                <td>     9</td>        <th>                     </th>     <td> </td>    \n",
              "</tr>\n",
              "<tr>\n",
              "  <th>Covariance Type:</th>        <td>nonrobust</td>      <th>                     </th>     <td> </td>    \n",
              "</tr>\n",
              "</table>\n",
              "<table class=\"simpletable\">\n",
              "<tr>\n",
              "           <td></td>             <th>coef</th>     <th>std err</th>      <th>t</th>      <th>P>|t|</th>  <th>[0.025</th>    <th>0.975]</th>  \n",
              "</tr>\n",
              "<tr>\n",
              "  <th>const</th>              <td>  -19.4392</td> <td>   33.477</td> <td>   -0.581</td> <td> 0.562</td> <td>  -85.169</td> <td>   46.290</td>\n",
              "</tr>\n",
              "<tr>\n",
              "  <th>Batch</th>              <td>   -0.0047</td> <td>    0.002</td> <td>   -2.438</td> <td> 0.015</td> <td>   -0.008</td> <td>   -0.001</td>\n",
              "</tr>\n",
              "<tr>\n",
              "  <th>Cement</th>             <td>    0.1210</td> <td>    0.010</td> <td>   11.569</td> <td> 0.000</td> <td>    0.100</td> <td>    0.142</td>\n",
              "</tr>\n",
              "<tr>\n",
              "  <th>Blast Furnace Slag</th> <td>    0.1069</td> <td>    0.012</td> <td>    8.591</td> <td> 0.000</td> <td>    0.082</td> <td>    0.131</td>\n",
              "</tr>\n",
              "<tr>\n",
              "  <th>Fly Ash</th>            <td>    0.0893</td> <td>    0.015</td> <td>    5.870</td> <td> 0.000</td> <td>    0.059</td> <td>    0.119</td>\n",
              "</tr>\n",
              "<tr>\n",
              "  <th>Water</th>              <td>   -0.1716</td> <td>    0.051</td> <td>   -3.350</td> <td> 0.001</td> <td>   -0.272</td> <td>   -0.071</td>\n",
              "</tr>\n",
              "<tr>\n",
              "  <th>Superplasticizer</th>   <td>    0.2169</td> <td>    0.113</td> <td>    1.924</td> <td> 0.055</td> <td>   -0.004</td> <td>    0.438</td>\n",
              "</tr>\n",
              "<tr>\n",
              "  <th>Coarse Aggregate</th>   <td>    0.0202</td> <td>    0.012</td> <td>    1.695</td> <td> 0.090</td> <td>   -0.003</td> <td>    0.044</td>\n",
              "</tr>\n",
              "<tr>\n",
              "  <th>Fine Aggregate</th>     <td>    0.0194</td> <td>    0.013</td> <td>    1.475</td> <td> 0.141</td> <td>   -0.006</td> <td>    0.045</td>\n",
              "</tr>\n",
              "<tr>\n",
              "  <th>Age</th>                <td>    0.1165</td> <td>    0.007</td> <td>   17.878</td> <td> 0.000</td> <td>    0.104</td> <td>    0.129</td>\n",
              "</tr>\n",
              "</table>\n",
              "<table class=\"simpletable\">\n",
              "<tr>\n",
              "  <th>Omnibus:</th>       <td> 2.226</td> <th>  Durbin-Watson:     </th> <td>   2.099</td>\n",
              "</tr>\n",
              "<tr>\n",
              "  <th>Prob(Omnibus):</th> <td> 0.328</td> <th>  Jarque-Bera (JB):  </th> <td>   2.092</td>\n",
              "</tr>\n",
              "<tr>\n",
              "  <th>Skew:</th>          <td>-0.130</td> <th>  Prob(JB):          </th> <td>   0.351</td>\n",
              "</tr>\n",
              "<tr>\n",
              "  <th>Kurtosis:</th>      <td> 3.067</td> <th>  Cond. No.          </th> <td>1.16e+05</td>\n",
              "</tr>\n",
              "</table><br/><br/>Notes:<br/>[1] Standard Errors assume that the covariance matrix of the errors is correctly specified.<br/>[2] The condition number is large, 1.16e+05. This might indicate that there are<br/>strong multicollinearity or other numerical problems."
            ],
            "text/plain": [
              "<class 'statsmodels.iolib.summary.Summary'>\n",
              "\"\"\"\n",
              "                             OLS Regression Results                             \n",
              "================================================================================\n",
              "Dep. Variable:     Compressive Strength   R-squared:                       0.635\n",
              "Model:                              OLS   Adj. R-squared:                  0.630\n",
              "Method:                   Least Squares   F-statistic:                     133.5\n",
              "Date:                  Mon, 25 Oct 2021   Prob (F-statistic):          1.06e-144\n",
              "Time:                          10:40:21   Log-Likelihood:                -2616.7\n",
              "No. Observations:                   700   AIC:                             5253.\n",
              "Df Residuals:                       690   BIC:                             5299.\n",
              "Df Model:                             9                                         \n",
              "Covariance Type:              nonrobust                                         \n",
              "======================================================================================\n",
              "                         coef    std err          t      P>|t|      [0.025      0.975]\n",
              "--------------------------------------------------------------------------------------\n",
              "const                -19.4392     33.477     -0.581      0.562     -85.169      46.290\n",
              "Batch                 -0.0047      0.002     -2.438      0.015      -0.008      -0.001\n",
              "Cement                 0.1210      0.010     11.569      0.000       0.100       0.142\n",
              "Blast Furnace Slag     0.1069      0.012      8.591      0.000       0.082       0.131\n",
              "Fly Ash                0.0893      0.015      5.870      0.000       0.059       0.119\n",
              "Water                 -0.1716      0.051     -3.350      0.001      -0.272      -0.071\n",
              "Superplasticizer       0.2169      0.113      1.924      0.055      -0.004       0.438\n",
              "Coarse Aggregate       0.0202      0.012      1.695      0.090      -0.003       0.044\n",
              "Fine Aggregate         0.0194      0.013      1.475      0.141      -0.006       0.045\n",
              "Age                    0.1165      0.007     17.878      0.000       0.104       0.129\n",
              "==============================================================================\n",
              "Omnibus:                        2.226   Durbin-Watson:                   2.099\n",
              "Prob(Omnibus):                  0.328   Jarque-Bera (JB):                2.092\n",
              "Skew:                          -0.130   Prob(JB):                        0.351\n",
              "Kurtosis:                       3.067   Cond. No.                     1.16e+05\n",
              "==============================================================================\n",
              "\n",
              "Notes:\n",
              "[1] Standard Errors assume that the covariance matrix of the errors is correctly specified.\n",
              "[2] The condition number is large, 1.16e+05. This might indicate that there are\n",
              "strong multicollinearity or other numerical problems.\n",
              "\"\"\""
            ]
          },
          "execution_count": 10,
          "metadata": {},
          "output_type": "execute_result"
        }
      ]
    },
    {
      "cell_type": "code",
      "metadata": {
        "colab": {
          "base_uri": "https://localhost:8080/"
        },
        "id": "90e6e9ca",
        "outputId": "d9a085d5-690c-4c8e-d80b-03715eeca20e"
      },
      "source": [
        "# Check the model on test data\n",
        "\n",
        "x_testData_1 = sm.add_constant(x_testData)\n",
        "y_predicted = model_stat.predict(x_testData_1)\n",
        "y_predicted[:5]\n"
      ],
      "id": "90e6e9ca",
      "execution_count": null,
      "outputs": [
        {
          "data": {
            "text/plain": [
              "0    29.388681\n",
              "1    30.333827\n",
              "2    54.992037\n",
              "3    28.262428\n",
              "4    24.050132\n",
              "dtype: float64"
            ]
          },
          "execution_count": 11,
          "metadata": {},
          "output_type": "execute_result"
        }
      ]
    },
    {
      "cell_type": "code",
      "metadata": {
        "colab": {
          "base_uri": "https://localhost:8080/",
          "height": 353
        },
        "id": "hTnX02_fa5KD",
        "outputId": "275cc4b9-2f89-4366-b8d2-33cdf62df3f1"
      },
      "source": [
        "plt.figure(figsize=(5,5))\n",
        "\n",
        "plt.plot(y_testData,y_predicted,'.', alpha=0.7)\n",
        "xline=np.linspace(0,80)\n",
        "plt.plot(xline, xline,'-', alpha=0.5)\n",
        "plt.title('y_test vs predicted_y')"
      ],
      "id": "hTnX02_fa5KD",
      "execution_count": null,
      "outputs": [
        {
          "data": {
            "text/plain": [
              "Text(0.5, 1.0, 'y_test vs predicted_y')"
            ]
          },
          "execution_count": 12,
          "metadata": {},
          "output_type": "execute_result"
        },
        {
          "data": {
            "image/png": "[encoded data removed]",
            "text/plain": [
              "<Figure size 360x360 with 1 Axes>"
            ]
          },
          "metadata": {
            "needs_background": "light"
          },
          "output_type": "display_data"
        }
      ]
    },
    {
      "cell_type": "code",
      "metadata": {
        "colab": {
          "base_uri": "https://localhost:8080/",
          "height": 363
        },
        "id": "caZnCvBmdCKK",
        "outputId": "fd197b66-666d-4f56-d0be-ef2be4c67593"
      },
      "source": [
        "wo_w1_values = pd.concat([model_stat.params, model_stat.bse, model_stat.pvalues], axis=1) \n",
        "wo_w1_values.columns = ['W-values', 'SD', 'P-value']\n",
        "wo_w1_values"
      ],
      "id": "caZnCvBmdCKK",
      "execution_count": null,
      "outputs": [
        {
          "data": {
            "text/html": [
              "<div>\n",
              "<style scoped>\n",
              "    .dataframe tbody tr th:only-of-type {\n",
              "        vertical-align: middle;\n",
              "    }\n",
              "\n",
              "    .dataframe tbody tr th {\n",
              "        vertical-align: top;\n",
              "    }\n",
              "\n",
              "    .dataframe thead th {\n",
              "        text-align: right;\n",
              "    }\n",
              "</style>\n",
              "<table border=\"1\" class=\"dataframe\">\n",
              "  <thead>\n",
              "    <tr style=\"text-align: right;\">\n",
              "      <th></th>\n",
              "      <th>W-values</th>\n",
              "      <th>SD</th>\n",
              "      <th>P-value</th>\n",
              "    </tr>\n",
              "  </thead>\n",
              "  <tbody>\n",
              "    <tr>\n",
              "      <th>const</th>\n",
              "      <td>-19.439211</td>\n",
              "      <td>33.477144</td>\n",
              "      <td>5.616517e-01</td>\n",
              "    </tr>\n",
              "    <tr>\n",
              "      <th>Batch</th>\n",
              "      <td>-0.004687</td>\n",
              "      <td>0.001922</td>\n",
              "      <td>1.501358e-02</td>\n",
              "    </tr>\n",
              "    <tr>\n",
              "      <th>Cement</th>\n",
              "      <td>0.120983</td>\n",
              "      <td>0.010458</td>\n",
              "      <td>2.047412e-28</td>\n",
              "    </tr>\n",
              "    <tr>\n",
              "      <th>Blast Furnace Slag</th>\n",
              "      <td>0.106855</td>\n",
              "      <td>0.012438</td>\n",
              "      <td>5.722358e-17</td>\n",
              "    </tr>\n",
              "    <tr>\n",
              "      <th>Fly Ash</th>\n",
              "      <td>0.089312</td>\n",
              "      <td>0.015216</td>\n",
              "      <td>6.784186e-09</td>\n",
              "    </tr>\n",
              "    <tr>\n",
              "      <th>Water</th>\n",
              "      <td>-0.171614</td>\n",
              "      <td>0.051222</td>\n",
              "      <td>8.509694e-04</td>\n",
              "    </tr>\n",
              "    <tr>\n",
              "      <th>Superplasticizer</th>\n",
              "      <td>0.216940</td>\n",
              "      <td>0.112732</td>\n",
              "      <td>5.471799e-02</td>\n",
              "    </tr>\n",
              "    <tr>\n",
              "      <th>Coarse Aggregate</th>\n",
              "      <td>0.020204</td>\n",
              "      <td>0.011918</td>\n",
              "      <td>9.046350e-02</td>\n",
              "    </tr>\n",
              "    <tr>\n",
              "      <th>Fine Aggregate</th>\n",
              "      <td>0.019353</td>\n",
              "      <td>0.013122</td>\n",
              "      <td>1.406962e-01</td>\n",
              "    </tr>\n",
              "    <tr>\n",
              "      <th>Age</th>\n",
              "      <td>0.116478</td>\n",
              "      <td>0.006515</td>\n",
              "      <td>5.002141e-59</td>\n",
              "    </tr>\n",
              "  </tbody>\n",
              "</table>\n",
              "</div>"
            ],
            "text/plain": [
              "                     W-values         SD       P-value\n",
              "const              -19.439211  33.477144  5.616517e-01\n",
              "Batch               -0.004687   0.001922  1.501358e-02\n",
              "Cement               0.120983   0.010458  2.047412e-28\n",
              "Blast Furnace Slag   0.106855   0.012438  5.722358e-17\n",
              "Fly Ash              0.089312   0.015216  6.784186e-09\n",
              "Water               -0.171614   0.051222  8.509694e-04\n",
              "Superplasticizer     0.216940   0.112732  5.471799e-02\n",
              "Coarse Aggregate     0.020204   0.011918  9.046350e-02\n",
              "Fine Aggregate       0.019353   0.013122  1.406962e-01\n",
              "Age                  0.116478   0.006515  5.002141e-59"
            ]
          },
          "execution_count": 13,
          "metadata": {},
          "output_type": "execute_result"
        }
      ]
    },
    {
      "cell_type": "code",
      "metadata": {
        "colab": {
          "base_uri": "https://localhost:8080/",
          "height": 537
        },
        "id": "oTj5MSjtggjg",
        "outputId": "d42bfc8b-1e72-4d44-c8a9-ce62240058de"
      },
      "source": [
        "#New model as the batch, Coarse Aggregate and Fine Aggregate are almost close to 0 \n",
        "\n",
        "New_model_stat = sm.OLS(cement_strength, cement_features[['Cement', 'Blast Furnace Slag', 'Fly Ash', 'Water', 'Superplasticizer', 'Age']]).fit()\n",
        "New_model_stat.summary()\n"
      ],
      "id": "oTj5MSjtggjg",
      "execution_count": null,
      "outputs": [
        {
          "data": {
            "text/html": [
              "<table class=\"simpletable\">\n",
              "<caption>OLS Regression Results</caption>\n",
              "<tr>\n",
              "  <th>Dep. Variable:</th>    <td>Compressive Strength</td> <th>  R-squared (uncentered):</th>      <td>   0.930</td>\n",
              "</tr>\n",
              "<tr>\n",
              "  <th>Model:</th>                     <td>OLS</td>         <th>  Adj. R-squared (uncentered):</th> <td>   0.929</td>\n",
              "</tr>\n",
              "<tr>\n",
              "  <th>Method:</th>               <td>Least Squares</td>    <th>  F-statistic:       </th>          <td>   1528.</td>\n",
              "</tr>\n",
              "<tr>\n",
              "  <th>Date:</th>               <td>Mon, 25 Oct 2021</td>   <th>  Prob (F-statistic):</th>           <td>  0.00</td> \n",
              "</tr>\n",
              "<tr>\n",
              "  <th>Time:</th>                   <td>10:40:21</td>       <th>  Log-Likelihood:    </th>          <td> -2642.7</td>\n",
              "</tr>\n",
              "<tr>\n",
              "  <th>No. Observations:</th>        <td>   700</td>        <th>  AIC:               </th>          <td>   5297.</td>\n",
              "</tr>\n",
              "<tr>\n",
              "  <th>Df Residuals:</th>            <td>   694</td>        <th>  BIC:               </th>          <td>   5325.</td>\n",
              "</tr>\n",
              "<tr>\n",
              "  <th>Df Model:</th>                <td>     6</td>        <th>                     </th>              <td> </td>   \n",
              "</tr>\n",
              "<tr>\n",
              "  <th>Covariance Type:</th>        <td>nonrobust</td>      <th>                     </th>              <td> </td>   \n",
              "</tr>\n",
              "</table>\n",
              "<table class=\"simpletable\">\n",
              "<tr>\n",
              "           <td></td>             <th>coef</th>     <th>std err</th>      <th>t</th>      <th>P>|t|</th>  <th>[0.025</th>    <th>0.975]</th>  \n",
              "</tr>\n",
              "<tr>\n",
              "  <th>Cement</th>             <td>    0.1152</td> <td>    0.005</td> <td>   22.505</td> <td> 0.000</td> <td>    0.105</td> <td>    0.125</td>\n",
              "</tr>\n",
              "<tr>\n",
              "  <th>Blast Furnace Slag</th> <td>    0.0908</td> <td>    0.006</td> <td>   14.742</td> <td> 0.000</td> <td>    0.079</td> <td>    0.103</td>\n",
              "</tr>\n",
              "<tr>\n",
              "  <th>Fly Ash</th>            <td>    0.0800</td> <td>    0.009</td> <td>    8.522</td> <td> 0.000</td> <td>    0.062</td> <td>    0.098</td>\n",
              "</tr>\n",
              "<tr>\n",
              "  <th>Water</th>              <td>   -0.0872</td> <td>    0.010</td> <td>   -8.573</td> <td> 0.000</td> <td>   -0.107</td> <td>   -0.067</td>\n",
              "</tr>\n",
              "<tr>\n",
              "  <th>Superplasticizer</th>   <td>    0.4841</td> <td>    0.089</td> <td>    5.460</td> <td> 0.000</td> <td>    0.310</td> <td>    0.658</td>\n",
              "</tr>\n",
              "<tr>\n",
              "  <th>Age</th>                <td>    0.1091</td> <td>    0.007</td> <td>   16.475</td> <td> 0.000</td> <td>    0.096</td> <td>    0.122</td>\n",
              "</tr>\n",
              "</table>\n",
              "<table class=\"simpletable\">\n",
              "<tr>\n",
              "  <th>Omnibus:</th>       <td> 1.299</td> <th>  Durbin-Watson:     </th> <td>   2.085</td>\n",
              "</tr>\n",
              "<tr>\n",
              "  <th>Prob(Omnibus):</th> <td> 0.522</td> <th>  Jarque-Bera (JB):  </th> <td>   1.149</td>\n",
              "</tr>\n",
              "<tr>\n",
              "  <th>Skew:</th>          <td>-0.044</td> <th>  Prob(JB):          </th> <td>   0.563</td>\n",
              "</tr>\n",
              "<tr>\n",
              "  <th>Kurtosis:</th>      <td> 3.178</td> <th>  Cond. No.          </th> <td>    80.0</td>\n",
              "</tr>\n",
              "</table><br/><br/>Notes:<br/>[1] R² is computed without centering (uncentered) since the model does not contain a constant.<br/>[2] Standard Errors assume that the covariance matrix of the errors is correctly specified."
            ],
            "text/plain": [
              "<class 'statsmodels.iolib.summary.Summary'>\n",
              "\"\"\"\n",
              "                                  OLS Regression Results                                 \n",
              "=========================================================================================\n",
              "Dep. Variable:     Compressive Strength   R-squared (uncentered):                   0.930\n",
              "Model:                              OLS   Adj. R-squared (uncentered):              0.929\n",
              "Method:                   Least Squares   F-statistic:                              1528.\n",
              "Date:                  Mon, 25 Oct 2021   Prob (F-statistic):                        0.00\n",
              "Time:                          10:40:21   Log-Likelihood:                         -2642.7\n",
              "No. Observations:                   700   AIC:                                      5297.\n",
              "Df Residuals:                       694   BIC:                                      5325.\n",
              "Df Model:                             6                                                  \n",
              "Covariance Type:              nonrobust                                                  \n",
              "======================================================================================\n",
              "                         coef    std err          t      P>|t|      [0.025      0.975]\n",
              "--------------------------------------------------------------------------------------\n",
              "Cement                 0.1152      0.005     22.505      0.000       0.105       0.125\n",
              "Blast Furnace Slag     0.0908      0.006     14.742      0.000       0.079       0.103\n",
              "Fly Ash                0.0800      0.009      8.522      0.000       0.062       0.098\n",
              "Water                 -0.0872      0.010     -8.573      0.000      -0.107      -0.067\n",
              "Superplasticizer       0.4841      0.089      5.460      0.000       0.310       0.658\n",
              "Age                    0.1091      0.007     16.475      0.000       0.096       0.122\n",
              "==============================================================================\n",
              "Omnibus:                        1.299   Durbin-Watson:                   2.085\n",
              "Prob(Omnibus):                  0.522   Jarque-Bera (JB):                1.149\n",
              "Skew:                          -0.044   Prob(JB):                        0.563\n",
              "Kurtosis:                       3.178   Cond. No.                         80.0\n",
              "==============================================================================\n",
              "\n",
              "Notes:\n",
              "[1] R² is computed without centering (uncentered) since the model does not contain a constant.\n",
              "[2] Standard Errors assume that the covariance matrix of the errors is correctly specified.\n",
              "\"\"\""
            ]
          },
          "execution_count": 14,
          "metadata": {},
          "output_type": "execute_result"
        }
      ]
    },
    {
      "cell_type": "code",
      "metadata": {
        "id": "jiLbTBbuKj8_"
      },
      "source": [
        "predicted_y_new = New_model_stat.predict(x_testData_1[['Cement', 'Blast Furnace Slag', 'Fly Ash', 'Water', 'Superplasticizer', 'Age']])"
      ],
      "id": "jiLbTBbuKj8_",
      "execution_count": null,
      "outputs": []
    },
    {
      "cell_type": "code",
      "metadata": {
        "colab": {
          "base_uri": "https://localhost:8080/",
          "height": 353
        },
        "id": "aKoRmZntBQKq",
        "outputId": "5b2cd6af-cff6-4864-d359-4b802f4a5029"
      },
      "source": [
        "plt.figure(figsize=(5,5))\n",
        "\n",
        "plt.plot(y_testData,predicted_y_new,'.', alpha=0.7)\n",
        "xline=np.linspace(0,80)\n",
        "plt.plot(xline, xline,'-', alpha=0.5)\n",
        "plt.title('y_test vs predicted_y_new')"
      ],
      "id": "aKoRmZntBQKq",
      "execution_count": null,
      "outputs": [
        {
          "data": {
            "text/plain": [
              "Text(0.5, 1.0, 'y_test vs predicted_y_new')"
            ]
          },
          "execution_count": 16,
          "metadata": {},
          "output_type": "execute_result"
        },
        {
          "data": {
            "image/png": "[encoded data removed]",
            "text/plain": [
              "<Figure size 360x360 with 1 Axes>"
            ]
          },
          "metadata": {
            "needs_background": "light"
          },
          "output_type": "display_data"
        }
      ]
    },
    {
      "cell_type": "code",
      "metadata": {
        "colab": {
          "base_uri": "https://localhost:8080/",
          "height": 515
        },
        "id": "QFkU4HmVLOLa",
        "outputId": "6694dd4d-5e6c-4744-84dd-93acefff2fa5"
      },
      "source": [
        "# To find more\n",
        "\n",
        "New_model_stat_2 = sm.OLS(cement_strength, cement_features[['Cement', 'Blast Furnace Slag', 'Fly Ash', 'Water', 'Age']]).fit()\n",
        "New_model_stat_2.summary()"
      ],
      "id": "QFkU4HmVLOLa",
      "execution_count": null,
      "outputs": [
        {
          "data": {
            "text/html": [
              "<table class=\"simpletable\">\n",
              "<caption>OLS Regression Results</caption>\n",
              "<tr>\n",
              "  <th>Dep. Variable:</th>    <td>Compressive Strength</td> <th>  R-squared (uncentered):</th>      <td>   0.927</td>\n",
              "</tr>\n",
              "<tr>\n",
              "  <th>Model:</th>                     <td>OLS</td>         <th>  Adj. R-squared (uncentered):</th> <td>   0.926</td>\n",
              "</tr>\n",
              "<tr>\n",
              "  <th>Method:</th>               <td>Least Squares</td>    <th>  F-statistic:       </th>          <td>   1754.</td>\n",
              "</tr>\n",
              "<tr>\n",
              "  <th>Date:</th>               <td>Mon, 25 Oct 2021</td>   <th>  Prob (F-statistic):</th>           <td>  0.00</td> \n",
              "</tr>\n",
              "<tr>\n",
              "  <th>Time:</th>                   <td>10:40:22</td>       <th>  Log-Likelihood:    </th>          <td> -2657.4</td>\n",
              "</tr>\n",
              "<tr>\n",
              "  <th>No. Observations:</th>        <td>   700</td>        <th>  AIC:               </th>          <td>   5325.</td>\n",
              "</tr>\n",
              "<tr>\n",
              "  <th>Df Residuals:</th>            <td>   695</td>        <th>  BIC:               </th>          <td>   5348.</td>\n",
              "</tr>\n",
              "<tr>\n",
              "  <th>Df Model:</th>                <td>     5</td>        <th>                     </th>              <td> </td>   \n",
              "</tr>\n",
              "<tr>\n",
              "  <th>Covariance Type:</th>        <td>nonrobust</td>      <th>                     </th>              <td> </td>   \n",
              "</tr>\n",
              "</table>\n",
              "<table class=\"simpletable\">\n",
              "<tr>\n",
              "           <td></td>             <th>coef</th>     <th>std err</th>      <th>t</th>      <th>P>|t|</th>  <th>[0.025</th>    <th>0.975]</th>  \n",
              "</tr>\n",
              "<tr>\n",
              "  <th>Cement</th>             <td>    0.1333</td> <td>    0.004</td> <td>   33.440</td> <td> 0.000</td> <td>    0.125</td> <td>    0.141</td>\n",
              "</tr>\n",
              "<tr>\n",
              "  <th>Blast Furnace Slag</th> <td>    0.1084</td> <td>    0.005</td> <td>   20.206</td> <td> 0.000</td> <td>    0.098</td> <td>    0.119</td>\n",
              "</tr>\n",
              "<tr>\n",
              "  <th>Fly Ash</th>            <td>    0.1141</td> <td>    0.007</td> <td>   15.948</td> <td> 0.000</td> <td>    0.100</td> <td>    0.128</td>\n",
              "</tr>\n",
              "<tr>\n",
              "  <th>Water</th>              <td>   -0.1153</td> <td>    0.009</td> <td>  -12.896</td> <td> 0.000</td> <td>   -0.133</td> <td>   -0.098</td>\n",
              "</tr>\n",
              "<tr>\n",
              "  <th>Age</th>                <td>    0.1069</td> <td>    0.007</td> <td>   15.847</td> <td> 0.000</td> <td>    0.094</td> <td>    0.120</td>\n",
              "</tr>\n",
              "</table>\n",
              "<table class=\"simpletable\">\n",
              "<tr>\n",
              "  <th>Omnibus:</th>       <td> 2.797</td> <th>  Durbin-Watson:     </th> <td>   2.009</td>\n",
              "</tr>\n",
              "<tr>\n",
              "  <th>Prob(Omnibus):</th> <td> 0.247</td> <th>  Jarque-Bera (JB):  </th> <td>   2.751</td>\n",
              "</tr>\n",
              "<tr>\n",
              "  <th>Skew:</th>          <td>-0.090</td> <th>  Prob(JB):          </th> <td>   0.253</td>\n",
              "</tr>\n",
              "<tr>\n",
              "  <th>Kurtosis:</th>      <td> 3.248</td> <th>  Cond. No.          </th> <td>    10.1</td>\n",
              "</tr>\n",
              "</table><br/><br/>Notes:<br/>[1] R² is computed without centering (uncentered) since the model does not contain a constant.<br/>[2] Standard Errors assume that the covariance matrix of the errors is correctly specified."
            ],
            "text/plain": [
              "<class 'statsmodels.iolib.summary.Summary'>\n",
              "\"\"\"\n",
              "                                  OLS Regression Results                                 \n",
              "=========================================================================================\n",
              "Dep. Variable:     Compressive Strength   R-squared (uncentered):                   0.927\n",
              "Model:                              OLS   Adj. R-squared (uncentered):              0.926\n",
              "Method:                   Least Squares   F-statistic:                              1754.\n",
              "Date:                  Mon, 25 Oct 2021   Prob (F-statistic):                        0.00\n",
              "Time:                          10:40:22   Log-Likelihood:                         -2657.4\n",
              "No. Observations:                   700   AIC:                                      5325.\n",
              "Df Residuals:                       695   BIC:                                      5348.\n",
              "Df Model:                             5                                                  \n",
              "Covariance Type:              nonrobust                                                  \n",
              "======================================================================================\n",
              "                         coef    std err          t      P>|t|      [0.025      0.975]\n",
              "--------------------------------------------------------------------------------------\n",
              "Cement                 0.1333      0.004     33.440      0.000       0.125       0.141\n",
              "Blast Furnace Slag     0.1084      0.005     20.206      0.000       0.098       0.119\n",
              "Fly Ash                0.1141      0.007     15.948      0.000       0.100       0.128\n",
              "Water                 -0.1153      0.009    -12.896      0.000      -0.133      -0.098\n",
              "Age                    0.1069      0.007     15.847      0.000       0.094       0.120\n",
              "==============================================================================\n",
              "Omnibus:                        2.797   Durbin-Watson:                   2.009\n",
              "Prob(Omnibus):                  0.247   Jarque-Bera (JB):                2.751\n",
              "Skew:                          -0.090   Prob(JB):                        0.253\n",
              "Kurtosis:                       3.248   Cond. No.                         10.1\n",
              "==============================================================================\n",
              "\n",
              "Notes:\n",
              "[1] R² is computed without centering (uncentered) since the model does not contain a constant.\n",
              "[2] Standard Errors assume that the covariance matrix of the errors is correctly specified.\n",
              "\"\"\""
            ]
          },
          "execution_count": 17,
          "metadata": {},
          "output_type": "execute_result"
        }
      ]
    },
    {
      "cell_type": "code",
      "metadata": {
        "colab": {
          "base_uri": "https://localhost:8080/",
          "height": 353
        },
        "id": "nlG35DukLobq",
        "outputId": "c46aacda-dc6e-4f2d-a152-d4bd7b0d5554"
      },
      "source": [
        "predicted_y_new_2 = New_model_stat_2.predict(x_testData_1[['Cement', 'Blast Furnace Slag', 'Fly Ash', 'Water', 'Age']])\n",
        "\n",
        "plt.figure(figsize=(5,5))\n",
        "\n",
        "plt.plot(y_testData,predicted_y_new_2,'.', alpha=0.7)\n",
        "xline=np.linspace(0,80)\n",
        "plt.plot(xline, xline,'-', alpha=0.5)\n",
        "plt.title('y_test vs predicted_y_new_2')\n",
        "\n",
        "##################### PLOT IN PNG  #################################\n",
        "plt.savefig('plot_in_png.png', dpi=300, bbox_inches='tight')\n"
      ],
      "id": "nlG35DukLobq",
      "execution_count": null,
      "outputs": [
        {
          "data": {
            "image/png": "[encoded data removed]",
            "text/plain": [
              "<Figure size 360x360 with 1 Axes>"
            ]
          },
          "metadata": {
            "needs_background": "light"
          },
          "output_type": "display_data"
        }
      ]
    },
    {
      "cell_type": "markdown",
      "metadata": {
        "id": "ddjJtSuwPII1"
      },
      "source": [
        "After comapring all the models with list of diffrent features,\n",
        "Model 2 and Model 3 are almost similar and better than model 1."
      ],
      "id": "ddjJtSuwPII1"
    }
  ]
}