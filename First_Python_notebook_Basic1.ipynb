{
 "cells": [
  {
   "cell_type": "markdown",
   "id": "48f4884d",
   "metadata": {},
   "source": [
    "\n",
    "My first notebook in Python"
   ]
  },
  {
   "cell_type": "code",
   "execution_count": 1,
   "id": "39554a31",
   "metadata": {},
   "outputs": [],
   "source": [
    "my_fav_movie = \"Goldy\" #This is a string variable"
   ]
  },
  {
   "cell_type": "code",
   "execution_count": 2,
   "id": "06a03f83",
   "metadata": {},
   "outputs": [],
   "source": [
    "move_rating = 8 #This is a integer variable \n"
   ]
  },
  {
   "cell_type": "code",
   "execution_count": 3,
   "id": "4d48d435",
   "metadata": {},
   "outputs": [],
   "source": [
    "movie_director = \"James Cameron\""
   ]
  },
  {
   "cell_type": "code",
   "execution_count": 4,
   "id": "37534935",
   "metadata": {},
   "outputs": [
    {
     "data": {
      "text/plain": [
       "8"
      ]
     },
     "execution_count": 4,
     "metadata": {},
     "output_type": "execute_result"
    }
   ],
   "source": [
    "move_rating"
   ]
  },
  {
   "cell_type": "code",
   "execution_count": 5,
   "id": "61a81a44",
   "metadata": {},
   "outputs": [],
   "source": [
    "mood = \"happy\""
   ]
  },
  {
   "cell_type": "code",
   "execution_count": 6,
   "id": "311b9bce",
   "metadata": {},
   "outputs": [
    {
     "name": "stdout",
     "output_type": "stream",
     "text": [
      "The mood of a person is: happy\n"
     ]
    }
   ],
   "source": [
    "print(\"The mood of a person is:\", mood) #printing variable"
   ]
  },
  {
   "cell_type": "code",
   "execution_count": 7,
   "id": "404445f1",
   "metadata": {},
   "outputs": [
    {
     "data": {
      "text/plain": [
       "str"
      ]
     },
     "execution_count": 7,
     "metadata": {},
     "output_type": "execute_result"
    }
   ],
   "source": [
    "type(mood)"
   ]
  },
  {
   "cell_type": "code",
   "execution_count": 8,
   "id": "a3c6a856",
   "metadata": {},
   "outputs": [
    {
     "data": {
      "text/plain": [
       "float"
      ]
     },
     "execution_count": 8,
     "metadata": {},
     "output_type": "execute_result"
    }
   ],
   "source": [
    "mood = 3.56 #New variable for type float is creted\n",
    "type(mood)"
   ]
  },
  {
   "cell_type": "code",
   "execution_count": 9,
   "id": "cd1cf35a",
   "metadata": {},
   "outputs": [
    {
     "data": {
      "text/plain": [
       "32"
      ]
     },
     "execution_count": 9,
     "metadata": {},
     "output_type": "execute_result"
    }
   ],
   "source": [
    "a = 3\n",
    "b=29\n",
    "c= a+b #Integers operations\n",
    "c"
   ]
  },
  {
   "cell_type": "code",
   "execution_count": 10,
   "id": "cd2ce3c5",
   "metadata": {},
   "outputs": [
    {
     "data": {
      "text/plain": [
       "87"
      ]
     },
     "execution_count": 10,
     "metadata": {},
     "output_type": "execute_result"
    }
   ],
   "source": [
    "a*b"
   ]
  },
  {
   "cell_type": "code",
   "execution_count": 11,
   "id": "6e4ef75b",
   "metadata": {},
   "outputs": [
    {
     "data": {
      "text/plain": [
       "0"
      ]
     },
     "execution_count": 11,
     "metadata": {},
     "output_type": "execute_result"
    }
   ],
   "source": [
    "a//b"
   ]
  },
  {
   "cell_type": "code",
   "execution_count": 12,
   "id": "7345e9a8",
   "metadata": {},
   "outputs": [
    {
     "data": {
      "text/plain": [
       "3"
      ]
     },
     "execution_count": 12,
     "metadata": {},
     "output_type": "execute_result"
    }
   ],
   "source": [
    "a%b"
   ]
  },
  {
   "cell_type": "code",
   "execution_count": 13,
   "id": "f81bb572",
   "metadata": {},
   "outputs": [
    {
     "data": {
      "text/plain": [
       "68630377364883"
      ]
     },
     "execution_count": 13,
     "metadata": {},
     "output_type": "execute_result"
    }
   ],
   "source": [
    "a**b"
   ]
  },
  {
   "cell_type": "code",
   "execution_count": 15,
   "id": "1cc028ea",
   "metadata": {},
   "outputs": [
    {
     "name": "stdout",
     "output_type": "stream",
     "text": [
      "True\n"
     ]
    }
   ],
   "source": [
    "is_rainig = True\n",
    "are_you_poor = False\n",
    "print(is_rainig)"
   ]
  },
  {
   "cell_type": "code",
   "execution_count": 17,
   "id": "825cb6cd",
   "metadata": {},
   "outputs": [
    {
     "name": "stdout",
     "output_type": "stream",
     "text": [
      "Its raining today\n"
     ]
    }
   ],
   "source": [
    "if is_rainig:\n",
    "    print(\"Its raining today\") #Indentation is must in conditions"
   ]
  },
  {
   "cell_type": "code",
   "execution_count": 22,
   "id": "7921d1f2",
   "metadata": {},
   "outputs": [
    {
     "name": "stdout",
     "output_type": "stream",
     "text": [
      "what is your age?8\n",
      "Sorry you have to be 21 to attend\n"
     ]
    }
   ],
   "source": [
    "age = input(\"what is your age?\") #Take inputs from user and simple condition check\n",
    "if int(age)>= 21:\n",
    "    print(\"You are welcome to attend here\")\n",
    "    print(\"It will start on 8.00 pm\")\n",
    "else:\n",
    "    print(\"Sorry you have to be 21 to attend\")"
   ]
  },
  {
   "cell_type": "code",
   "execution_count": 19,
   "id": "0fa5b640",
   "metadata": {},
   "outputs": [
    {
     "name": "stdout",
     "output_type": "stream",
     "text": [
      "78\n"
     ]
    }
   ],
   "source": [
    "print(age)"
   ]
  },
  {
   "cell_type": "code",
   "execution_count": 24,
   "id": "5b7b54f2",
   "metadata": {},
   "outputs": [
    {
     "data": {
      "text/plain": [
       "False"
      ]
     },
     "execution_count": 24,
     "metadata": {},
     "output_type": "execute_result"
    }
   ],
   "source": [
    "my_boolean_var = 8>98 #Automatically creates float variables\n",
    "my_boolean_var"
   ]
  },
  {
   "cell_type": "code",
   "execution_count": 25,
   "id": "6d34f86f",
   "metadata": {},
   "outputs": [
    {
     "data": {
      "text/plain": [
       "'if'"
      ]
     },
     "execution_count": 25,
     "metadata": {},
     "output_type": "execute_result"
    }
   ],
   "source": [
    "state = \"California\"\n",
    "state[3:5] #starts from index 0, shows 3rd and 4th ...not print 5"
   ]
  },
  {
   "cell_type": "code",
   "execution_count": 28,
   "id": "c6bd2b97",
   "metadata": {},
   "outputs": [
    {
     "data": {
      "text/plain": [
       "'nia'"
      ]
     },
     "execution_count": 28,
     "metadata": {},
     "output_type": "execute_result"
    }
   ],
   "source": [
    "state[-3:] #reverse indexing"
   ]
  },
  {
   "cell_type": "code",
   "execution_count": 29,
   "id": "4f0c0c05",
   "metadata": {},
   "outputs": [
    {
     "data": {
      "text/plain": [
       "'Calif'"
      ]
     },
     "execution_count": 29,
     "metadata": {},
     "output_type": "execute_result"
    }
   ],
   "source": [
    "state[:5] #All till 5th element"
   ]
  },
  {
   "cell_type": "markdown",
   "id": "b18eb1a9",
   "metadata": {},
   "source": [
    "# Sequences "
   ]
  },
  {
   "cell_type": "code",
   "execution_count": 30,
   "id": "fffe84a1",
   "metadata": {},
   "outputs": [],
   "source": [
    "my_tuple = (3,18,5,78,-6,-5,89)"
   ]
  },
  {
   "cell_type": "code",
   "execution_count": 31,
   "id": "1a286624",
   "metadata": {},
   "outputs": [
    {
     "data": {
      "text/plain": [
       "5"
      ]
     },
     "execution_count": 31,
     "metadata": {},
     "output_type": "execute_result"
    }
   ],
   "source": [
    "my_tuple[2]"
   ]
  },
  {
   "cell_type": "code",
   "execution_count": 32,
   "id": "5c349298",
   "metadata": {},
   "outputs": [
    {
     "ename": "TypeError",
     "evalue": "'tuple' object does not support item assignment",
     "output_type": "error",
     "traceback": [
      "\u001b[1;31m---------------------------------------------------------------------------\u001b[0m",
      "\u001b[1;31mTypeError\u001b[0m                                 Traceback (most recent call last)",
      "\u001b[1;32m<ipython-input-32-5eed0a5b1017>\u001b[0m in \u001b[0;36m<module>\u001b[1;34m\u001b[0m\n\u001b[1;32m----> 1\u001b[1;33m \u001b[0mmy_tuple\u001b[0m\u001b[1;33m[\u001b[0m\u001b[1;36m2\u001b[0m\u001b[1;33m]\u001b[0m \u001b[1;33m=\u001b[0m \u001b[1;36m45\u001b[0m\u001b[1;33m\u001b[0m\u001b[1;33m\u001b[0m\u001b[0m\n\u001b[0m",
      "\u001b[1;31mTypeError\u001b[0m: 'tuple' object does not support item assignment"
     ]
    }
   ],
   "source": [
    "my_tuple[2] = 45 #tuple is immutable, can not add anymore value inside directly"
   ]
  },
  {
   "cell_type": "code",
   "execution_count": 34,
   "id": "16aaaf5c",
   "metadata": {},
   "outputs": [
    {
     "data": {
      "text/plain": [
       "(3, 18, 5, 78, -6, -5, 89, 9, 2)"
      ]
     },
     "execution_count": 34,
     "metadata": {},
     "output_type": "execute_result"
    }
   ],
   "source": [
    "my_tuple + (9,2) #Can add another tuple its like append"
   ]
  },
  {
   "cell_type": "code",
   "execution_count": 37,
   "id": "59e82982",
   "metadata": {},
   "outputs": [
    {
     "name": "stdout",
     "output_type": "stream",
     "text": [
      "93\n",
      "108\n",
      "95\n",
      "168\n",
      "84\n",
      "85\n",
      "179\n"
     ]
    }
   ],
   "source": [
    "for element in my_tuple:\n",
    "    print(element+90) #in print since its not stored operation can be performed"
   ]
  },
  {
   "cell_type": "code",
   "execution_count": 38,
   "id": "b6e1200c",
   "metadata": {},
   "outputs": [],
   "source": [
    "mixed_tuple = (\"vin\", 3, 8.9)"
   ]
  },
  {
   "cell_type": "code",
   "execution_count": 39,
   "id": "1c5ab847",
   "metadata": {},
   "outputs": [
    {
     "data": {
      "text/plain": [
       "tuple"
      ]
     },
     "execution_count": 39,
     "metadata": {},
     "output_type": "execute_result"
    }
   ],
   "source": [
    "type(mixed_tuple)"
   ]
  },
  {
   "cell_type": "code",
   "execution_count": 43,
   "id": "24f5ee8e",
   "metadata": {},
   "outputs": [
    {
     "ename": "TypeError",
     "evalue": "can only concatenate str (not \"int\") to str",
     "output_type": "error",
     "traceback": [
      "\u001b[1;31m---------------------------------------------------------------------------\u001b[0m",
      "\u001b[1;31mTypeError\u001b[0m                                 Traceback (most recent call last)",
      "\u001b[1;32m<ipython-input-43-20f2fd318c22>\u001b[0m in \u001b[0;36m<module>\u001b[1;34m\u001b[0m\n\u001b[0;32m      1\u001b[0m \u001b[1;32mfor\u001b[0m \u001b[0mitem\u001b[0m \u001b[1;32min\u001b[0m \u001b[0mmixed_tuple\u001b[0m\u001b[1;33m:\u001b[0m\u001b[1;33m\u001b[0m\u001b[1;33m\u001b[0m\u001b[0m\n\u001b[1;32m----> 2\u001b[1;33m     \u001b[0mprint\u001b[0m\u001b[1;33m(\u001b[0m\u001b[0mitem\u001b[0m \u001b[1;33m+\u001b[0m \u001b[1;33m(\u001b[0m\u001b[1;36m90\u001b[0m\u001b[1;33m)\u001b[0m\u001b[1;33m)\u001b[0m\u001b[1;33m\u001b[0m\u001b[1;33m\u001b[0m\u001b[0m\n\u001b[0m",
      "\u001b[1;31mTypeError\u001b[0m: can only concatenate str (not \"int\") to str"
     ]
    }
   ],
   "source": [
    "for item in mixed_tuple:\n",
    "    print(item + (90)) #since current tuple has string value it wont allow this oeration"
   ]
  },
  {
   "cell_type": "code",
   "execution_count": 91,
   "id": "ff0c8089",
   "metadata": {},
   "outputs": [
    {
     "data": {
      "text/plain": [
       "list"
      ]
     },
     "execution_count": 91,
     "metadata": {},
     "output_type": "execute_result"
    }
   ],
   "source": [
    "my_list = list() #Way to create list 1\n",
    "type(my_list)"
   ]
  },
  {
   "cell_type": "code",
   "execution_count": 46,
   "id": "772ec4d8",
   "metadata": {},
   "outputs": [
    {
     "data": {
      "text/plain": [
       "list"
      ]
     },
     "execution_count": 46,
     "metadata": {},
     "output_type": "execute_result"
    }
   ],
   "source": [
    "list2 = [] #Way to create list 2\n",
    "type(list2)"
   ]
  },
  {
   "cell_type": "code",
   "execution_count": 93,
   "id": "2dfa72a0",
   "metadata": {},
   "outputs": [],
   "source": [
    "State_list = [\"Arizona\",\"California\",\"Texas\"]"
   ]
  },
  {
   "cell_type": "code",
   "execution_count": 94,
   "id": "33dfbf44",
   "metadata": {},
   "outputs": [
    {
     "data": {
      "text/plain": [
       "'Texas'"
      ]
     },
     "execution_count": 94,
     "metadata": {},
     "output_type": "execute_result"
    }
   ],
   "source": [
    "State_list[-1] #print last item in list"
   ]
  },
  {
   "cell_type": "code",
   "execution_count": 95,
   "id": "92fa8d36",
   "metadata": {},
   "outputs": [
    {
     "data": {
      "text/plain": [
       "['California', 'Texas']"
      ]
     },
     "execution_count": 95,
     "metadata": {},
     "output_type": "execute_result"
    }
   ],
   "source": [
    "State_list[-2:] #reverese index"
   ]
  },
  {
   "cell_type": "code",
   "execution_count": 96,
   "id": "f2a4bd73",
   "metadata": {},
   "outputs": [
    {
     "data": {
      "text/plain": [
       "['new', 'California', 'Texas']"
      ]
     },
     "execution_count": 96,
     "metadata": {},
     "output_type": "execute_result"
    }
   ],
   "source": [
    "State_list[0] = \"new\" #Add at perticular position\n",
    "State_list"
   ]
  },
  {
   "cell_type": "code",
   "execution_count": 97,
   "id": "6596ec55",
   "metadata": {},
   "outputs": [
    {
     "name": "stdout",
     "output_type": "stream",
     "text": [
      "Names in list are: new\n",
      "Names in list are: California\n",
      "Names in list are: Texas\n"
     ]
    }
   ],
   "source": [
    "for state in State_list:\n",
    "    print(\"Names in list are:\",state) #Print every item in list"
   ]
  },
  {
   "cell_type": "code",
   "execution_count": 98,
   "id": "68649a78",
   "metadata": {},
   "outputs": [
    {
     "name": "stdout",
     "output_type": "stream",
     "text": [
      "the day today is : tuesday\n"
     ]
    }
   ],
   "source": [
    "weekday = \"tuesday\"\n",
    "meal = \"chicken\"\n",
    "side = \"rice\"\n",
    "print(\"the day today is :\",weekday)"
   ]
  },
  {
   "cell_type": "code",
   "execution_count": 99,
   "id": "74d32ec5",
   "metadata": {},
   "outputs": [
    {
     "data": {
      "text/plain": [
       "'Because the day is <Tuesday>, we will have <chicken> for dinner and not <rice>'"
      ]
     },
     "execution_count": 99,
     "metadata": {},
     "output_type": "execute_result"
    }
   ],
   "source": [
    "\"Because the day is <Tuesday>, we will have <chicken> for dinner and not <rice>\""
   ]
  },
  {
   "cell_type": "markdown",
   "id": "d9d21a95",
   "metadata": {},
   "source": [
    "What is the best way to replace \"<--->\" in this? the best way... Using \"f\""
   ]
  },
  {
   "cell_type": "code",
   "execution_count": 100,
   "id": "36019730",
   "metadata": {},
   "outputs": [
    {
     "name": "stdout",
     "output_type": "stream",
     "text": [
      "Because the day istuesday, we will have chicken for dinner and not rice\n"
     ]
    }
   ],
   "source": [
    "print(f\"Because the day is{weekday}, we will have {meal} for dinner and not {side}\")"
   ]
  },
  {
   "cell_type": "code",
   "execution_count": 101,
   "id": "e861bfa0",
   "metadata": {},
   "outputs": [
    {
     "name": "stdout",
     "output_type": "stream",
     "text": [
      "['new', 'California', 'Texas']\n"
     ]
    }
   ],
   "source": [
    "print(State_list)"
   ]
  },
  {
   "cell_type": "code",
   "execution_count": 103,
   "id": "0dd28f73",
   "metadata": {},
   "outputs": [
    {
     "name": "stdout",
     "output_type": "stream",
     "text": [
      "['new', 'California', 'Texas', 'cali', 'Nevada']\n"
     ]
    }
   ],
   "source": [
    "State_list.append(\"Nevada\")\n",
    "print(State_list)"
   ]
  },
  {
   "cell_type": "code",
   "execution_count": 104,
   "id": "431e2140",
   "metadata": {},
   "outputs": [],
   "source": [
    "State_list += \"test\""
   ]
  },
  {
   "cell_type": "code",
   "execution_count": 105,
   "id": "426917c3",
   "metadata": {},
   "outputs": [
    {
     "data": {
      "text/plain": [
       "6"
      ]
     },
     "execution_count": 105,
     "metadata": {},
     "output_type": "execute_result"
    }
   ],
   "source": [
    "a=6\n",
    "a"
   ]
  },
  {
   "cell_type": "code",
   "execution_count": 107,
   "id": "1a21323e",
   "metadata": {},
   "outputs": [
    {
     "data": {
      "text/plain": [
       "20"
      ]
     },
     "execution_count": 107,
     "metadata": {},
     "output_type": "execute_result"
    }
   ],
   "source": [
    "a +=7 #Easy wat to do show a = a+7\n",
    "a"
   ]
  },
  {
   "cell_type": "markdown",
   "id": "e7b53810",
   "metadata": {},
   "source": [
    "# Dictionaries"
   ]
  },
  {
   "cell_type": "code",
   "execution_count": 68,
   "id": "323d510f",
   "metadata": {},
   "outputs": [],
   "source": [
    "#Not by ordered - they are not indexed like lists, tupules etc.\n",
    "new_dictionary ={}"
   ]
  },
  {
   "cell_type": "code",
   "execution_count": 69,
   "id": "e2789ffb",
   "metadata": {},
   "outputs": [
    {
     "data": {
      "text/plain": [
       "dict"
      ]
     },
     "execution_count": 69,
     "metadata": {},
     "output_type": "execute_result"
    }
   ],
   "source": [
    "type(new_dictionary)"
   ]
  },
  {
   "cell_type": "code",
   "execution_count": 70,
   "id": "638291e8",
   "metadata": {},
   "outputs": [
    {
     "data": {
      "text/plain": [
       "{'Rohan': 'Red', 'Nancy': 'Green', 'James': 'Blue'}"
      ]
     },
     "execution_count": 70,
     "metadata": {},
     "output_type": "execute_result"
    }
   ],
   "source": [
    "new_dictionary[\"Rohan\"]= \"Red\"\n",
    "new_dictionary[\"Nancy\"]= \"Green\"\n",
    "new_dictionary[\"James\"]= \"Blue\"\n",
    "new_dictionary"
   ]
  },
  {
   "cell_type": "code",
   "execution_count": 71,
   "id": "410ffe08",
   "metadata": {},
   "outputs": [
    {
     "data": {
      "text/plain": [
       "'Green'"
      ]
     },
     "execution_count": 71,
     "metadata": {},
     "output_type": "execute_result"
    }
   ],
   "source": [
    "new_dictionary[\"Nancy\"]"
   ]
  },
  {
   "cell_type": "code",
   "execution_count": 72,
   "id": "7384b02a",
   "metadata": {},
   "outputs": [
    {
     "data": {
      "text/plain": [
       "{'Rohan': 'Red',\n",
       " 'Nancy': 'Green',\n",
       " 'James': 'Blue',\n",
       " 'Po-Chen': 1000,\n",
       " 'Vinda': 5000}"
      ]
     },
     "execution_count": 72,
     "metadata": {},
     "output_type": "execute_result"
    }
   ],
   "source": [
    "new_dictionary[\"Po-Chen\"] =1000\n",
    "new_dictionary[\"Vinda\"] = 5000\n",
    "new_dictionary"
   ]
  },
  {
   "cell_type": "code",
   "execution_count": 73,
   "id": "0f922e8d",
   "metadata": {},
   "outputs": [
    {
     "name": "stdout",
     "output_type": "stream",
     "text": [
      "Rohan\n",
      "Nancy\n",
      "James\n",
      "Po-Chen\n",
      "Vinda\n"
     ]
    }
   ],
   "source": [
    "for person in new_dictionary:\n",
    "    print(person) #prints only indexes"
   ]
  },
  {
   "cell_type": "code",
   "execution_count": 108,
   "id": "042a8db1",
   "metadata": {},
   "outputs": [
    {
     "name": "stdout",
     "output_type": "stream",
     "text": [
      "Red\n",
      "Green\n",
      "Blue\n",
      "1000\n",
      "5000\n"
     ]
    }
   ],
   "source": [
    "for person in new_dictionary:\n",
    "    print(new_dictionary[person]) #prints only values"
   ]
  },
  {
   "cell_type": "code",
   "execution_count": 76,
   "id": "ce6f92a0",
   "metadata": {},
   "outputs": [
    {
     "name": "stdout",
     "output_type": "stream",
     "text": [
      "person name Rohan --> Red\n",
      "person name Nancy --> Green\n",
      "person name James --> Blue\n",
      "person name Po-Chen --> 1000\n",
      "person name Vinda --> 5000\n"
     ]
    }
   ],
   "source": [
    "for person in new_dictionary:\n",
    "    print(f\"person name {person} --> {new_dictionary[person]}\")"
   ]
  },
  {
   "cell_type": "code",
   "execution_count": 109,
   "id": "df913b17",
   "metadata": {},
   "outputs": [
    {
     "data": {
      "text/plain": [
       "'using double braces'"
      ]
     },
     "execution_count": 109,
     "metadata": {},
     "output_type": "execute_result"
    }
   ],
   "source": [
    "my_string = \"using double braces\"\n",
    "my_string"
   ]
  },
  {
   "cell_type": "code",
   "execution_count": 110,
   "id": "a65f79b1",
   "metadata": {},
   "outputs": [
    {
     "data": {
      "text/plain": [
       "'using single braces'"
      ]
     },
     "execution_count": 110,
     "metadata": {},
     "output_type": "execute_result"
    }
   ],
   "source": [
    "str2 = 'using single braces'\n",
    "str2"
   ]
  },
  {
   "cell_type": "code",
   "execution_count": 112,
   "id": "281a7960",
   "metadata": {},
   "outputs": [
    {
     "data": {
      "text/plain": [
       "'To have \"something\" special'"
      ]
     },
     "execution_count": 112,
     "metadata": {},
     "output_type": "execute_result"
    }
   ],
   "source": [
    "str3 = 'To have \"something\" special' #Both single quotes and double quotes allowed to use for special strings\n",
    "str3"
   ]
  },
  {
   "cell_type": "code",
   "execution_count": 113,
   "id": "a9a0b9ac",
   "metadata": {},
   "outputs": [
    {
     "data": {
      "text/plain": [
       "\"Let's try this, now\""
      ]
     },
     "execution_count": 113,
     "metadata": {},
     "output_type": "execute_result"
    }
   ],
   "source": [
    "str4 = \"Let's try this, now\"\n",
    "str4"
   ]
  },
  {
   "cell_type": "code",
   "execution_count": 115,
   "id": "e6b62e8e",
   "metadata": {},
   "outputs": [
    {
     "name": "stdout",
     "output_type": "stream",
     "text": [
      "\n",
      "this is a example\n",
      "of doing somethings\n",
      "in any of the way\n",
      "and its gre8\n",
      "\n"
     ]
    },
    {
     "data": {
      "text/plain": [
       "'\\nthis is a example\\nof doing somethings\\nin any of the way\\nand its gre8\\n'"
      ]
     },
     "execution_count": 115,
     "metadata": {},
     "output_type": "execute_result"
    }
   ],
   "source": [
    "long_string = \"\"\"\n",
    "this is a example\n",
    "of doing somethings\n",
    "in any of the way\n",
    "and its gre8\n",
    "\"\"\"\n",
    "print(long_string)\n",
    "long_string #prints a full str variable"
   ]
  },
  {
   "cell_type": "code",
   "execution_count": 85,
   "id": "44532b67",
   "metadata": {},
   "outputs": [
    {
     "data": {
      "text/plain": [
       "{100: 'Exellent', 90: 'Pretty good', 50: 'You failed', 'Peter': [3, 4, 5, 6]}"
      ]
     },
     "execution_count": 85,
     "metadata": {},
     "output_type": "execute_result"
    }
   ],
   "source": [
    "my_populated_dict = {100:\"Exellent\",90:\"Pretty good\",50:\"You failed\",\"Peter\":[3,4,5,6]}\n",
    "my_populated_dict"
   ]
  },
  {
   "cell_type": "code",
   "execution_count": 86,
   "id": "bf23b797",
   "metadata": {},
   "outputs": [
    {
     "data": {
      "text/plain": [
       "list"
      ]
     },
     "execution_count": 86,
     "metadata": {},
     "output_type": "execute_result"
    }
   ],
   "source": [
    "type(my_populated_dict[\"Peter\"])"
   ]
  },
  {
   "cell_type": "code",
   "execution_count": 87,
   "id": "08cc9b82",
   "metadata": {},
   "outputs": [
    {
     "name": "stdout",
     "output_type": "stream",
     "text": [
      "They are not\n"
     ]
    }
   ],
   "source": [
    "a=3\n",
    "b=17\n",
    "if a==b:\n",
    "    print(\"they are equal\")\n",
    "else:\n",
    "    print(\"They are not\")"
   ]
  },
  {
   "cell_type": "code",
   "execution_count": 88,
   "id": "cee7e99b",
   "metadata": {},
   "outputs": [
    {
     "data": {
      "text/plain": [
       "True"
      ]
     },
     "execution_count": 88,
     "metadata": {},
     "output_type": "execute_result"
    }
   ],
   "source": [
    "100 in my_populated_dict #is element inside the dict"
   ]
  },
  {
   "cell_type": "code",
   "execution_count": null,
   "id": "cfe696e3",
   "metadata": {},
   "outputs": [],
   "source": []
  }
 ],
 "metadata": {
  "kernelspec": {
   "display_name": "Python 3",
   "language": "python",
   "name": "python3"
  },
  "language_info": {
   "codemirror_mode": {
    "name": "ipython",
    "version": 3
   },
   "file_extension": ".py",
   "mimetype": "text/x-python",
   "name": "python",
   "nbconvert_exporter": "python",
   "pygments_lexer": "ipython3",
   "version": "3.8.8"
  }
 },
 "nbformat": 4,
 "nbformat_minor": 5
}
