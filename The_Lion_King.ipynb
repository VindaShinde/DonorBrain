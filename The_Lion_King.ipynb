{
  "nbformat": 4,
  "nbformat_minor": 0,
  "metadata": {
    "colab": {
      "name": "The Lion King.ipynb",
      "provenance": [],
      "authorship_tag": "ABX9TyOJFB6QrPoEKcYuxpaVxvC1",
      "include_colab_link": true
    },
    "kernelspec": {
      "name": "ir",
      "display_name": "R"
    },
    "language_info": {
      "name": "R"
    }
  },
  "cells": [
    {
      "cell_type": "markdown",
      "metadata": {
        "id": "view-in-github",
        "colab_type": "text"
      },
      "source": [
        "<a href=\"https://colab.research.google.com/github/VindaShinde/DonorBrain/blob/master/The_Lion_King.ipynb\" target=\"_parent\"><img src=\"https://colab.research.google.com/assets/colab-badge.svg\" alt=\"Open In Colab\"/></a>"
      ]
    },
    {
      "cell_type": "code",
      "metadata": {
        "id": "z6DVtQA_FQU4"
      },
      "source": [
        ""
      ],
      "execution_count": null,
      "outputs": []
    },
    {
      "cell_type": "markdown",
      "metadata": {
        "id": "Z2k192DeT9Cd"
      },
      "source": [
        "This is the first class of lionking.\n",
        "# First Class work.\n",
        "## The coding work rocks.\n",
        "### Keep practicing is the key."
      ]
    },
    {
      "cell_type": "code",
      "metadata": {
        "id": "kLt-zDSCF3yJ",
        "colab": {
          "base_uri": "https://localhost:8080/"
        },
        "outputId": "8a76e28d-f9b9-40ef-e46e-2acf297e7a8b"
      },
      "source": [
        "print (\"hello world\")\n",
        "print ( 1 + 2)\n"
      ],
      "execution_count": 4,
      "outputs": [
        {
          "output_type": "stream",
          "text": [
            "[1] \"hello world\"\n",
            "[1] 3\n"
          ],
          "name": "stdout"
        }
      ]
    },
    {
      "cell_type": "markdown",
      "metadata": {
        "id": "ZHH3bYywFvRW"
      },
      "source": [
        "# Hey this is a Lion King class.\n",
        "## Very interesting class."
      ]
    },
    {
      "cell_type": "markdown",
      "metadata": {
        "id": "8VEdTGyxMDWI"
      },
      "source": [
        "test this type...\n",
        "- first\n",
        "- next\n",
        "-next after \n",
        "-and last\n",
        "\n"
      ]
    },
    {
      "cell_type": "markdown",
      "metadata": {
        "id": "v03n-6t3inE5"
      },
      "source": [
        "Bullets with numbers\n",
        "\n",
        "1 One\n",
        "2 Two\n"
      ]
    },
    {
      "cell_type": "markdown",
      "metadata": {
        "id": "5QBbr3DoV2cZ"
      },
      "source": [
        "## Image example...\n",
        "\n",
        "\n",
        "![](https://images.unsplash.com/photo-1586227740560-8cf2732c1531?ixid=MnwxMjA3fDB8MHxleHBsb3JlLWZlZWR8MXx8fGVufDB8fHx8&ixlib=rb-1.2.1&auto=format&fit=crop&w=600&q=60)\n",
        "\n",
        "![](https://miro.medium.com/max/1400/1*Bk6dec-nG1PuAJv3PjZq9w.png)\n"
      ]
    },
    {
      "cell_type": "code",
      "metadata": {
        "id": "MqKF5JuUX0Mo"
      },
      "source": [
        ""
      ],
      "execution_count": null,
      "outputs": []
    }
  ]
}