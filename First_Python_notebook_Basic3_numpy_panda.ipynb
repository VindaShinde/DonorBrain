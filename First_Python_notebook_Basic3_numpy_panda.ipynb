{
  "nbformat": 4,
  "nbformat_minor": 0,
  "metadata": {
    "colab": {
      "name": "First_Python_notebook_Basic3_numpy_panda.ipynb",
      "provenance": [],
      "collapsed_sections": [],
      "authorship_tag": "ABX9TyMiq1hYk4J8f/P0E7ciygfy",
      "include_colab_link": true
    },
    "kernelspec": {
      "name": "python3",
      "display_name": "Python 3"
    },
    "language_info": {
      "name": "python"
    }
  },
  "cells": [
    {
      "cell_type": "markdown",
      "metadata": {
        "id": "view-in-github",
        "colab_type": "text"
      },
      "source": [
        "<a href=\"https://colab.research.google.com/github/VindaShinde/DonorBrain/blob/master/First_Python_notebook_Basic3_numpy_panda.ipynb\" target=\"_parent\"><img src=\"https://colab.research.google.com/assets/colab-badge.svg\" alt=\"Open In Colab\"/></a>"
      ]
    },
    {
      "cell_type": "markdown",
      "metadata": {
        "id": "10D9LfkE0xw0"
      },
      "source": [
        "# NumPy and Pandas"
      ]
    },
    {
      "cell_type": "code",
      "metadata": {
        "id": "ADOruGOy04Ll"
      },
      "source": [
        "import numpy as np"
      ],
      "execution_count": null,
      "outputs": []
    },
    {
      "cell_type": "code",
      "metadata": {
        "colab": {
          "base_uri": "https://localhost:8080/"
        },
        "id": "knZKkSg80RBn",
        "outputId": "5bf9299b-acc9-4ecf-a24b-1b896d030e95"
      },
      "source": [
        "arr_1 = np.array([0,1,2,3]) #np object calls function array and defines one dimentional array\n",
        "print(arr_1)\n",
        "arr_2 = np.array([[0,3,5],[2,8,7]]) # 2D array\n",
        "arr_2"
      ],
      "execution_count": null,
      "outputs": [
        {
          "output_type": "stream",
          "name": "stdout",
          "text": [
            "[0 1 2 3]\n"
          ]
        },
        {
          "output_type": "execute_result",
          "data": {
            "text/plain": [
              "array([[0, 3, 5],\n",
              "       [2, 8, 7]])"
            ]
          },
          "metadata": {},
          "execution_count": 11
        }
      ]
    },
    {
      "cell_type": "code",
      "metadata": {
        "colab": {
          "base_uri": "https://localhost:8080/"
        },
        "id": "bvJ3l_7V1WO8",
        "outputId": "11586bf7-214d-40dc-fd89-c62e3637a2a6"
      },
      "source": [
        "print(arr_2.shape) #To find shape\n",
        "arr_2.ndim #To find dimention"
      ],
      "execution_count": null,
      "outputs": [
        {
          "output_type": "stream",
          "name": "stdout",
          "text": [
            "(2, 3)\n"
          ]
        },
        {
          "output_type": "execute_result",
          "data": {
            "text/plain": [
              "2"
            ]
          },
          "metadata": {},
          "execution_count": 14
        }
      ]
    },
    {
      "cell_type": "code",
      "metadata": {
        "colab": {
          "base_uri": "https://localhost:8080/"
        },
        "id": "8537iWLt2x4R",
        "outputId": "135c34cd-38a5-497f-ddd2-b0b029041759"
      },
      "source": [
        "#To generate and array of size 12...\n",
        "arr_3 = np.arange(12) #This can also be creted as (0,12)\n",
        "print(arr_3)\n",
        "\n",
        "arr_4 = np.arange(2,14,2) #From 2 till 14 at the gap of 2 steps\n",
        "print(arr_4)"
      ],
      "execution_count": null,
      "outputs": [
        {
          "output_type": "stream",
          "name": "stdout",
          "text": [
            "[ 0  1  2  3  4  5  6  7  8  9 10 11]\n",
            "[ 2  4  6  8 10 12]\n"
          ]
        }
      ]
    },
    {
      "cell_type": "markdown",
      "metadata": {
        "id": "OQdagTKX4VoC"
      },
      "source": [
        "### $ndarray.linspace$ generates linear evenly spaced elements between the start and the end"
      ]
    },
    {
      "cell_type": "code",
      "metadata": {
        "colab": {
          "base_uri": "https://localhost:8080/"
        },
        "id": "yuWnjeue4l2g",
        "outputId": "abc98266-546a-47e8-a1d8-dbc6ae151425"
      },
      "source": [
        "  arr_5 = np.linspace(0,2,16) #generate 0 to 2 values in 16 values\n",
        "  arr_5"
      ],
      "execution_count": null,
      "outputs": [
        {
          "output_type": "execute_result",
          "data": {
            "text/plain": [
              "array([0.        , 0.13333333, 0.26666667, 0.4       , 0.53333333,\n",
              "       0.66666667, 0.8       , 0.93333333, 1.06666667, 1.2       ,\n",
              "       1.33333333, 1.46666667, 1.6       , 1.73333333, 1.86666667,\n",
              "       2.        ])"
            ]
          },
          "metadata": {},
          "execution_count": 22
        }
      ]
    },
    {
      "cell_type": "code",
      "metadata": {
        "colab": {
          "base_uri": "https://localhost:8080/"
        },
        "id": "7jnfBhYH46JE",
        "outputId": "9175b16a-76c2-4595-d51c-f79e2f77a2a6"
      },
      "source": [
        "print(np.zeros((2,3,4)))# 2 outer rows, and 3X4 array within - filled with 0 values\n",
        "np.ones((2,3,4)) #filled with 1 values"
      ],
      "execution_count": null,
      "outputs": [
        {
          "output_type": "stream",
          "name": "stdout",
          "text": [
            "[[[0. 0. 0. 0.]\n",
            "  [0. 0. 0. 0.]\n",
            "  [0. 0. 0. 0.]]\n",
            "\n",
            " [[0. 0. 0. 0.]\n",
            "  [0. 0. 0. 0.]\n",
            "  [0. 0. 0. 0.]]]\n"
          ]
        },
        {
          "output_type": "execute_result",
          "data": {
            "text/plain": [
              "array([[[1., 1., 1., 1.],\n",
              "        [1., 1., 1., 1.],\n",
              "        [1., 1., 1., 1.]],\n",
              "\n",
              "       [[1., 1., 1., 1.],\n",
              "        [1., 1., 1., 1.],\n",
              "        [1., 1., 1., 1.]]])"
            ]
          },
          "metadata": {},
          "execution_count": 29
        }
      ]
    },
    {
      "cell_type": "code",
      "metadata": {
        "colab": {
          "base_uri": "https://localhost:8080/"
        },
        "id": "3P8pckrT5YWR",
        "outputId": "2845e9be-8d1f-4ff0-e431-a81bc7b5c8a7"
      },
      "source": [
        "#create identity matrix\n",
        "np.eye(5)"
      ],
      "execution_count": null,
      "outputs": [
        {
          "output_type": "execute_result",
          "data": {
            "text/plain": [
              "array([[1., 0., 0., 0., 0.],\n",
              "       [0., 1., 0., 0., 0.],\n",
              "       [0., 0., 1., 0., 0.],\n",
              "       [0., 0., 0., 1., 0.],\n",
              "       [0., 0., 0., 0., 1.]])"
            ]
          },
          "metadata": {},
          "execution_count": 31
        }
      ]
    },
    {
      "cell_type": "code",
      "metadata": {
        "colab": {
          "base_uri": "https://localhost:8080/"
        },
        "id": "4MO50-vm6nqK",
        "outputId": "f0219fbc-e82e-400d-9091-b1b65b808496"
      },
      "source": [
        "#create diagonal array\n",
        "np.diag((3,4,5,7)) #takes array as parameter "
      ],
      "execution_count": null,
      "outputs": [
        {
          "output_type": "execute_result",
          "data": {
            "text/plain": [
              "array([[3, 0, 0, 0],\n",
              "       [0, 4, 0, 0],\n",
              "       [0, 0, 5, 0],\n",
              "       [0, 0, 0, 7]])"
            ]
          },
          "metadata": {},
          "execution_count": 33
        }
      ]
    },
    {
      "cell_type": "markdown",
      "metadata": {
        "id": "lRKOuMPHcHuh"
      },
      "source": [
        "# Random numbers generation\n",
        "produces uniformly distributed random numbers with range 0 to n(upper limit)"
      ]
    },
    {
      "cell_type": "code",
      "metadata": {
        "colab": {
          "base_uri": "https://localhost:8080/"
        },
        "id": "s68m8_rUcR0Q",
        "outputId": "21dc4c4c-0faf-4dfe-8b21-3ce2b1440b00"
      },
      "source": [
        "np.random.seed(200) #set seed\n",
        "arr_6 = np.random.rand(3)\n",
        "print(arr_6)\n",
        "\n",
        "arr_7 = np.random.rand(5)\n",
        "arr_7"
      ],
      "execution_count": null,
      "outputs": [
        {
          "output_type": "stream",
          "name": "stdout",
          "text": [
            "[0.94763226 0.22654742 0.59442014]\n"
          ]
        },
        {
          "output_type": "execute_result",
          "data": {
            "text/plain": [
              "array([0.42830868, 0.76414069, 0.00286059, 0.35742368, 0.90969489])"
            ]
          },
          "metadata": {},
          "execution_count": 46
        }
      ]
    },
    {
      "cell_type": "code",
      "metadata": {
        "colab": {
          "base_uri": "https://localhost:8080/"
        },
        "id": "NQqrzsx2crjT",
        "outputId": "3b8865a0-2f9f-4608-eead-98708287bea7"
      },
      "source": [
        "# empty - Using np.empty to create an uninitialized array is a cheaper and faster way to allocate an array,\n",
        "# However, you should only use it if you're sure that all the elements will be initialized later:\n",
        "np.empty((2,2))"
      ],
      "execution_count": null,
      "outputs": [
        {
          "output_type": "execute_result",
          "data": {
            "text/plain": [
              "array([[1.5e-323, 2.0e-323],\n",
              "       [2.5e-323, 3.5e-323]])"
            ]
          },
          "metadata": {},
          "execution_count": 49
        }
      ]
    },
    {
      "cell_type": "code",
      "metadata": {
        "colab": {
          "base_uri": "https://localhost:8080/"
        },
        "id": "Y_hnq3Pkegv4",
        "outputId": "cda88a4a-8edf-45f5-f473-864b095b511e"
      },
      "source": [
        "#The np.tile function allows one to construct an array from a smaller array by repeating it several times on the basis of a parameter:\n",
        "arr_8 = np.array([[1,2],[6,7]],dtype='float') #define array data type\n",
        "print(np.tile(np.array(arr_8),3))\n",
        "print(np.tile(np.array(arr_8),(3,3)))\n",
        "arr_8.dtype"
      ],
      "execution_count": null,
      "outputs": [
        {
          "output_type": "stream",
          "name": "stdout",
          "text": [
            "[[1. 2. 1. 2. 1. 2.]\n",
            " [6. 7. 6. 7. 6. 7.]]\n",
            "[[1. 2. 1. 2. 1. 2.]\n",
            " [6. 7. 6. 7. 6. 7.]\n",
            " [1. 2. 1. 2. 1. 2.]\n",
            " [6. 7. 6. 7. 6. 7.]\n",
            " [1. 2. 1. 2. 1. 2.]\n",
            " [6. 7. 6. 7. 6. 7.]]\n"
          ]
        },
        {
          "output_type": "execute_result",
          "data": {
            "text/plain": [
              "dtype('float64')"
            ]
          },
          "metadata": {},
          "execution_count": 58
        }
      ]
    },
    {
      "cell_type": "code",
      "metadata": {
        "colab": {
          "base_uri": "https://localhost:8080/"
        },
        "id": "P3ztRmfKe6rC",
        "outputId": "2ac7a071-82da-45b7-ad3d-8197a90291c6"
      },
      "source": [
        "sar=np.array(['Goodbye','Welcome','Tata','Goodnight']); print(sar.dtype); print(sar)\n",
        "# we cannot create variable-length strings in NumPy, since NumPy needs to know how much space to allocate for the string.\n"
      ],
      "execution_count": null,
      "outputs": [
        {
          "output_type": "stream",
          "name": "stdout",
          "text": [
            "<U9\n",
            "['Goodbye' 'Welcome' 'Tata' 'Goodnight']\n"
          ]
        }
      ]
    },
    {
      "cell_type": "code",
      "metadata": {
        "colab": {
          "base_uri": "https://localhost:8080/"
        },
        "id": "rStHODZBgsMx",
        "outputId": "f344214f-99a9-41ee-fbf8-27368094cdc8"
      },
      "source": [
        "# change data type of array\n",
        "r_arr = np.array([5,2.3,8,9.7]); r_arr\n",
        "type(r_arr)\n",
        "r_arr1 = np.array([5,3,8,7])\n",
        "\n",
        "print(r_arr.astype(int)) #from float to int\n",
        "r_arr1.astype(float)"
      ],
      "execution_count": null,
      "outputs": [
        {
          "output_type": "stream",
          "name": "stdout",
          "text": [
            "[5 2 8 9]\n"
          ]
        },
        {
          "output_type": "execute_result",
          "data": {
            "text/plain": [
              "array([5., 3., 8., 7.])"
            ]
          },
          "metadata": {},
          "execution_count": 68
        }
      ]
    },
    {
      "cell_type": "markdown",
      "metadata": {
        "id": "vgsl17lI6lJ4"
      },
      "source": [
        "# Slicing and indexing\n",
        "\n",
        "Indexing"
      ]
    },
    {
      "cell_type": "code",
      "metadata": {
        "colab": {
          "base_uri": "https://localhost:8080/"
        },
        "id": "xaXstOnC0zSQ",
        "outputId": "72c35137-e559-4787-e6bf-1b65ce9d734e"
      },
      "source": [
        "ar = np.arange(5); print (ar); ar[0], ar[1], ar[-1::],ar[::-1]#reverse array order\n",
        "ar[-2] = 7; ar"
      ],
      "execution_count": null,
      "outputs": [
        {
          "output_type": "stream",
          "name": "stdout",
          "text": [
            "[0 1 2 3 4]\n"
          ]
        },
        {
          "output_type": "execute_result",
          "data": {
            "text/plain": [
              "array([0, 1, 2, 7, 4])"
            ]
          },
          "metadata": {},
          "execution_count": 89
        }
      ]
    },
    {
      "cell_type": "code",
      "metadata": {
        "colab": {
          "base_uri": "https://localhost:8080/"
        },
        "id": "Lzt07Ck-3o9q",
        "outputId": "a366c3cf-0e71-4186-f3b7-ada825d05d98"
      },
      "source": [
        "#Multi-dimensional arrays are indexed using tuples of integers:\n",
        "ar = np.array([[2,3,4],[9,8,7],[11,12,13]]); print(ar)\n",
        "ar[1,2]#as index is from 0, it shows 2nd row and 3rd column"
      ],
      "execution_count": null,
      "outputs": [
        {
          "output_type": "stream",
          "name": "stdout",
          "text": [
            "[[ 2  3  4]\n",
            " [ 9  8  7]\n",
            " [11 12 13]]\n"
          ]
        },
        {
          "output_type": "execute_result",
          "data": {
            "text/plain": [
              "7"
            ]
          },
          "metadata": {},
          "execution_count": 92
        }
      ]
    },
    {
      "cell_type": "code",
      "metadata": {
        "colab": {
          "base_uri": "https://localhost:8080/"
        },
        "id": "aRxqobap67OE",
        "outputId": "054c7f59-19a8-42dc-f8c5-49285b253824"
      },
      "source": [
        "#set specific value in array\n",
        "ar [1,2]= 5; ar"
      ],
      "execution_count": null,
      "outputs": [
        {
          "output_type": "execute_result",
          "data": {
            "text/plain": [
              "array([[ 2,  3,  4],\n",
              "       [ 9,  8,  5],\n",
              "       [11, 12, 13]])"
            ]
          },
          "metadata": {},
          "execution_count": 93
        }
      ]
    },
    {
      "cell_type": "code",
      "metadata": {
        "colab": {
          "base_uri": "https://localhost:8080/"
        },
        "id": "r--gt2dB7fIx",
        "outputId": "3fcc5423-3f75-41d4-8322-072b219efe15"
      },
      "source": [
        "print(\"1:\",ar[1:]) #retrive all rows from 1\n",
        "print(\"2:\",ar[1]) #retrrive single row of index 1\n",
        "print(\"3:\",ar[0:2]) #from 0 to 2 and do not take last\n",
        "\n",
        "print(\"4:\",ar[:,1]) #retrives cloumn indexed 1 and starting ':' shows all rows\n",
        "print(\"5:\",ar[:,-1])# last column\n",
        "print(\"6:\",ar[:,1:]) #from indexd 1 to all columns\n",
        "\n",
        "print(\"7:\",ar[1:,1])\n",
        "\n",
        "###'''Thus, for 2D arrays, the first dimension denotes rows and the second dimension, the columns. \n",
        "### The colon (:) denotes selection across all elements of the dimension.'''\n"
      ],
      "execution_count": null,
      "outputs": [
        {
          "output_type": "stream",
          "name": "stdout",
          "text": [
            "1: [[ 9  8  5]\n",
            " [11 12 13]]\n",
            "2: [9 8 5]\n",
            "3: [[2 3 4]\n",
            " [9 8 5]]\n",
            "4: [ 3  8 12]\n",
            "5: [ 4  5 13]\n",
            "6: [[ 3  4]\n",
            " [ 8  5]\n",
            " [12 13]]\n",
            "7: [ 8 12]\n"
          ]
        }
      ]
    },
    {
      "cell_type": "markdown",
      "metadata": {
        "id": "C2I8zm2OAa_G"
      },
      "source": [
        "## Array slicing\n",
        "Arrays can be sliced using the following syntax: ar[startIndex: endIndex: stepValue]."
      ]
    },
    {
      "cell_type": "code",
      "metadata": {
        "colab": {
          "base_uri": "https://localhost:8080/"
        },
        "id": "0ge2HHOf8QT5",
        "outputId": "79f922f2-a72c-404a-afcb-b1ec5e7e76a9"
      },
      "source": [
        "ar = 3*np.arange(2,20,2); print(\"Original array:\",ar)\n",
        "print(ar[1:6:2])\n",
        "#if we wish to include the endIndex value, we need to go above it, as follows:\n",
        "print(ar[1:9])\n",
        "print(ar[:4]) # print from 0 to 3\n",
        "print(ar[::4]) #step value is 4"
      ],
      "execution_count": null,
      "outputs": [
        {
          "output_type": "stream",
          "name": "stdout",
          "text": [
            "Original array: [ 6 12 18 24 30 36 42 48 54]\n",
            "[12 24 36]\n",
            "[12 18 24 30 36 42 48 54]\n",
            "[ 6 12 18 24]\n",
            "[ 6 30 54]\n"
          ]
        }
      ]
    },
    {
      "cell_type": "code",
      "metadata": {
        "id": "Cu8-n83qAp_m"
      },
      "source": [
        ""
      ],
      "execution_count": null,
      "outputs": []
    }
  ]
}