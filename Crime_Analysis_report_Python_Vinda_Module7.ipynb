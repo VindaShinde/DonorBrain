{
  "nbformat": 4,
  "nbformat_minor": 0,
  "metadata": {
    "colab": {
      "name": "Crime_Analysis_report_Python_Vinda.ipynb",
      "provenance": [],
      "collapsed_sections": [],
      "authorship_tag": "ABX9TyPV3ckmNBpm8h401t/hOm6u",
      "include_colab_link": true
    },
    "kernelspec": {
      "name": "python3",
      "display_name": "Python 3"
    },
    "language_info": {
      "name": "python"
    }
  },
  "cells": [
    {
      "cell_type": "markdown",
      "metadata": {
        "id": "view-in-github",
        "colab_type": "text"
      },
      "source": [
        "<a href=\"https://colab.research.google.com/github/VindaShinde/DonorBrain/blob/master/Crime_Analysis_report_Python_Vinda_Module7.ipynb\" target=\"_parent\"><img src=\"https://colab.research.google.com/assets/colab-badge.svg\" alt=\"Open In Colab\"/></a>"
      ]
    },
    {
      "cell_type": "markdown",
      "metadata": {
        "id": "fCE7rgy6qvbx"
      },
      "source": [
        "# Crime in Context, 1975-2015\n",
        "Are violent crime rates rising or falling in American cities?\n",
        "# Module 7 - Report\n",
        "### Author - Vinda Shinde"
      ]
    },
    {
      "cell_type": "code",
      "metadata": {
        "id": "cLDzGR_qSv1X"
      },
      "source": [
        "import pandas as pd\n",
        "import numpy as np\n",
        "from pandas import DataFrame, Series\n",
        "# Preparation for matplotlib\n",
        "%matplotlib inline \n",
        "import matplotlib.pyplot as plt\n"
      ],
      "execution_count": 2,
      "outputs": []
    },
    {
      "cell_type": "code",
      "metadata": {
        "colab": {
          "resources": {
            "http://localhost:8080/nbextensions/google.colab/files.js": {
              "data": "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",
              "ok": true,
              "headers": [
                [
                  "content-type",
                  "application/javascript"
                ]
              ],
              "status": 200,
              "status_text": ""
            }
          },
          "base_uri": "https://localhost:8080/",
          "height": 73
        },
        "id": "g6NoD1dCkfhO",
        "outputId": "de0fd836-a11c-4964-9f3c-e52a368aaa84"
      },
      "source": [
        "from google.colab import files\n",
        "uploaded = files.upload()"
      ],
      "execution_count": 5,
      "outputs": [
        {
          "output_type": "display_data",
          "data": {
            "text/html": [
              "\n",
              "     <input type=\"file\" id=\"files-e3adc669-e6bf-46e3-98f9-01b52da4bf28\" name=\"files[]\" multiple disabled\n",
              "        style=\"border:none\" />\n",
              "     <output id=\"result-e3adc669-e6bf-46e3-98f9-01b52da4bf28\">\n",
              "      Upload widget is only available when the cell has been executed in the\n",
              "      current browser session. Please rerun this cell to enable.\n",
              "      </output>\n",
              "      <script src=\"/nbextensions/google.colab/files.js\"></script> "
            ],
            "text/plain": [
              "<IPython.core.display.HTML object>"
            ]
          },
          "metadata": {}
        },
        {
          "output_type": "stream",
          "name": "stdout",
          "text": [
            "Saving report.csv to report.csv\n"
          ]
        }
      ]
    },
    {
      "cell_type": "code",
      "metadata": {
        "colab": {
          "base_uri": "https://localhost:8080/",
          "height": 573
        },
        "id": "pFeVFjfuk_VV",
        "outputId": "6016a692-dfa7-41d6-aa00-9678c1bd1aeb"
      },
      "source": [
        "ogi_data = pd.read_csv('report.csv')\n",
        "print(ogi_data.describe())\n",
        "ogi_data.head(10)"
      ],
      "execution_count": 6,
      "outputs": [
        {
          "output_type": "stream",
          "name": "stdout",
          "text": [
            "       report_year    population  ...  assaults_percapita  robberies_percapita\n",
            "count  2829.000000  2.760000e+03  ...         2753.000000          2754.000000\n",
            "mean   1995.000000  7.956981e+05  ...          566.595434           459.968112\n",
            "std      11.834251  1.012451e+06  ...          369.436996           340.903534\n",
            "min    1975.000000  1.007630e+05  ...            1.610000            11.460000\n",
            "25%    1985.000000  3.779310e+05  ...          319.090000           210.242500\n",
            "50%    1995.000000  5.366145e+05  ...          487.480000           374.400000\n",
            "75%    2005.000000  8.168558e+05  ...          728.240000           612.005000\n",
            "max    2015.000000  8.550861e+06  ...         2368.220000          2337.520000\n",
            "\n",
            "[8 rows x 13 columns]\n"
          ]
        },
        {
          "output_type": "execute_result",
          "data": {
            "text/html": [
              "<div>\n",
              "<style scoped>\n",
              "    .dataframe tbody tr th:only-of-type {\n",
              "        vertical-align: middle;\n",
              "    }\n",
              "\n",
              "    .dataframe tbody tr th {\n",
              "        vertical-align: top;\n",
              "    }\n",
              "\n",
              "    .dataframe thead th {\n",
              "        text-align: right;\n",
              "    }\n",
              "</style>\n",
              "<table border=\"1\" class=\"dataframe\">\n",
              "  <thead>\n",
              "    <tr style=\"text-align: right;\">\n",
              "      <th></th>\n",
              "      <th>report_year</th>\n",
              "      <th>agency_code</th>\n",
              "      <th>agency_jurisdiction</th>\n",
              "      <th>population</th>\n",
              "      <th>violent_crimes</th>\n",
              "      <th>homicides</th>\n",
              "      <th>rapes</th>\n",
              "      <th>assaults</th>\n",
              "      <th>robberies</th>\n",
              "      <th>months_reported</th>\n",
              "      <th>crimes_percapita</th>\n",
              "      <th>homicides_percapita</th>\n",
              "      <th>rapes_percapita</th>\n",
              "      <th>assaults_percapita</th>\n",
              "      <th>robberies_percapita</th>\n",
              "    </tr>\n",
              "  </thead>\n",
              "  <tbody>\n",
              "    <tr>\n",
              "      <th>0</th>\n",
              "      <td>1975</td>\n",
              "      <td>NM00101</td>\n",
              "      <td>Albuquerque, NM</td>\n",
              "      <td>286238.0</td>\n",
              "      <td>2383.0</td>\n",
              "      <td>30.0</td>\n",
              "      <td>181.0</td>\n",
              "      <td>1353.0</td>\n",
              "      <td>819.0</td>\n",
              "      <td>12.0</td>\n",
              "      <td>832.52</td>\n",
              "      <td>10.48</td>\n",
              "      <td>63.23</td>\n",
              "      <td>472.68</td>\n",
              "      <td>286.13</td>\n",
              "    </tr>\n",
              "    <tr>\n",
              "      <th>1</th>\n",
              "      <td>1975</td>\n",
              "      <td>TX22001</td>\n",
              "      <td>Arlington, TX</td>\n",
              "      <td>112478.0</td>\n",
              "      <td>278.0</td>\n",
              "      <td>5.0</td>\n",
              "      <td>28.0</td>\n",
              "      <td>132.0</td>\n",
              "      <td>113.0</td>\n",
              "      <td>12.0</td>\n",
              "      <td>247.16</td>\n",
              "      <td>4.45</td>\n",
              "      <td>24.89</td>\n",
              "      <td>117.36</td>\n",
              "      <td>100.46</td>\n",
              "    </tr>\n",
              "    <tr>\n",
              "      <th>2</th>\n",
              "      <td>1975</td>\n",
              "      <td>GAAPD00</td>\n",
              "      <td>Atlanta, GA</td>\n",
              "      <td>490584.0</td>\n",
              "      <td>8033.0</td>\n",
              "      <td>185.0</td>\n",
              "      <td>443.0</td>\n",
              "      <td>3518.0</td>\n",
              "      <td>3887.0</td>\n",
              "      <td>12.0</td>\n",
              "      <td>1637.44</td>\n",
              "      <td>37.71</td>\n",
              "      <td>90.30</td>\n",
              "      <td>717.10</td>\n",
              "      <td>792.32</td>\n",
              "    </tr>\n",
              "    <tr>\n",
              "      <th>3</th>\n",
              "      <td>1975</td>\n",
              "      <td>CO00101</td>\n",
              "      <td>Aurora, CO</td>\n",
              "      <td>116656.0</td>\n",
              "      <td>611.0</td>\n",
              "      <td>7.0</td>\n",
              "      <td>44.0</td>\n",
              "      <td>389.0</td>\n",
              "      <td>171.0</td>\n",
              "      <td>12.0</td>\n",
              "      <td>523.76</td>\n",
              "      <td>6.00</td>\n",
              "      <td>37.72</td>\n",
              "      <td>333.46</td>\n",
              "      <td>146.58</td>\n",
              "    </tr>\n",
              "    <tr>\n",
              "      <th>4</th>\n",
              "      <td>1975</td>\n",
              "      <td>TX22701</td>\n",
              "      <td>Austin, TX</td>\n",
              "      <td>300400.0</td>\n",
              "      <td>1215.0</td>\n",
              "      <td>33.0</td>\n",
              "      <td>190.0</td>\n",
              "      <td>463.0</td>\n",
              "      <td>529.0</td>\n",
              "      <td>12.0</td>\n",
              "      <td>404.46</td>\n",
              "      <td>10.99</td>\n",
              "      <td>63.25</td>\n",
              "      <td>154.13</td>\n",
              "      <td>176.10</td>\n",
              "    </tr>\n",
              "    <tr>\n",
              "      <th>5</th>\n",
              "      <td>1975</td>\n",
              "      <td>MD00301</td>\n",
              "      <td>Baltimore County, MD</td>\n",
              "      <td>642154.0</td>\n",
              "      <td>1259.0</td>\n",
              "      <td>25.0</td>\n",
              "      <td>137.0</td>\n",
              "      <td>347.0</td>\n",
              "      <td>750.0</td>\n",
              "      <td>12.0</td>\n",
              "      <td>196.06</td>\n",
              "      <td>3.89</td>\n",
              "      <td>21.33</td>\n",
              "      <td>54.04</td>\n",
              "      <td>116.79</td>\n",
              "    </tr>\n",
              "    <tr>\n",
              "      <th>6</th>\n",
              "      <td>1975</td>\n",
              "      <td>MDBPD00</td>\n",
              "      <td>Baltimore, MD</td>\n",
              "      <td>864100.0</td>\n",
              "      <td>16086.0</td>\n",
              "      <td>259.0</td>\n",
              "      <td>463.0</td>\n",
              "      <td>6309.0</td>\n",
              "      <td>9055.0</td>\n",
              "      <td>12.0</td>\n",
              "      <td>1861.59</td>\n",
              "      <td>29.97</td>\n",
              "      <td>53.58</td>\n",
              "      <td>730.12</td>\n",
              "      <td>1047.91</td>\n",
              "    </tr>\n",
              "    <tr>\n",
              "      <th>7</th>\n",
              "      <td>1975</td>\n",
              "      <td>MA01301</td>\n",
              "      <td>Boston, MA</td>\n",
              "      <td>616120.0</td>\n",
              "      <td>11386.0</td>\n",
              "      <td>119.0</td>\n",
              "      <td>453.0</td>\n",
              "      <td>3036.0</td>\n",
              "      <td>7778.0</td>\n",
              "      <td>12.0</td>\n",
              "      <td>1848.02</td>\n",
              "      <td>19.31</td>\n",
              "      <td>73.52</td>\n",
              "      <td>492.76</td>\n",
              "      <td>1262.42</td>\n",
              "    </tr>\n",
              "    <tr>\n",
              "      <th>8</th>\n",
              "      <td>1975</td>\n",
              "      <td>NY01401</td>\n",
              "      <td>Buffalo, NY</td>\n",
              "      <td>422276.0</td>\n",
              "      <td>3350.0</td>\n",
              "      <td>63.0</td>\n",
              "      <td>192.0</td>\n",
              "      <td>755.0</td>\n",
              "      <td>2340.0</td>\n",
              "      <td>12.0</td>\n",
              "      <td>793.32</td>\n",
              "      <td>14.92</td>\n",
              "      <td>45.47</td>\n",
              "      <td>178.79</td>\n",
              "      <td>554.14</td>\n",
              "    </tr>\n",
              "    <tr>\n",
              "      <th>9</th>\n",
              "      <td>1975</td>\n",
              "      <td>NC06001</td>\n",
              "      <td>Charlotte, NC</td>\n",
              "      <td>262103.0</td>\n",
              "      <td>1937.0</td>\n",
              "      <td>68.0</td>\n",
              "      <td>71.0</td>\n",
              "      <td>976.0</td>\n",
              "      <td>822.0</td>\n",
              "      <td>12.0</td>\n",
              "      <td>739.02</td>\n",
              "      <td>25.94</td>\n",
              "      <td>27.09</td>\n",
              "      <td>372.37</td>\n",
              "      <td>313.62</td>\n",
              "    </tr>\n",
              "  </tbody>\n",
              "</table>\n",
              "</div>"
            ],
            "text/plain": [
              "   report_year agency_code  ... assaults_percapita  robberies_percapita\n",
              "0         1975     NM00101  ...             472.68               286.13\n",
              "1         1975     TX22001  ...             117.36               100.46\n",
              "2         1975     GAAPD00  ...             717.10               792.32\n",
              "3         1975     CO00101  ...             333.46               146.58\n",
              "4         1975     TX22701  ...             154.13               176.10\n",
              "5         1975     MD00301  ...              54.04               116.79\n",
              "6         1975     MDBPD00  ...             730.12              1047.91\n",
              "7         1975     MA01301  ...             492.76              1262.42\n",
              "8         1975     NY01401  ...             178.79               554.14\n",
              "9         1975     NC06001  ...             372.37               313.62\n",
              "\n",
              "[10 rows x 15 columns]"
            ]
          },
          "metadata": {},
          "execution_count": 6
        }
      ]
    },
    {
      "cell_type": "code",
      "metadata": {
        "colab": {
          "base_uri": "https://localhost:8080/"
        },
        "id": "TP1VXAxfqKWA",
        "outputId": "e49b28fb-4ee9-4e3a-c29f-17d338d5463a"
      },
      "source": [
        "unique_years = ogi_data.report_year.unique()\n",
        "unique_years_crimes = unique_years \n"
      ],
      "execution_count": 29,
      "outputs": [
        {
          "output_type": "execute_result",
          "data": {
            "text/plain": [
              "array([1975, 1976, 1977, 1978, 1979, 1980, 1981, 1982, 1983, 1984, 1985,\n",
              "       1986, 1987, 1988, 1989, 1990, 1991, 1992, 1993, 1994, 1995, 1996,\n",
              "       1997, 1998, 1999, 2000, 2001, 2002, 2003, 2004, 2005, 2006, 2007,\n",
              "       2008, 2009, 2010, 2011, 2012, 2013, 2014, 2015])"
            ]
          },
          "metadata": {},
          "execution_count": 29
        }
      ]
    },
    {
      "cell_type": "markdown",
      "metadata": {
        "id": "Gl5eGc2NqNax"
      },
      "source": [
        "# 1) Objective of the Proposed Research"
      ]
    },
    {
      "cell_type": "markdown",
      "metadata": {
        "id": "cDhzr0slqemW"
      },
      "source": [
        " \n",
        "The data set which is used for the analysis of research **Is crime in America rising or falling?** is taken from the Kaggle website.\n",
        "\n",
        "The Marshall Project collected and analyzed more than 40 years of data on the four major crimes the FBI classifies as violent — homicide, rape, robbery, and assault — in 68 police jurisdictions with populations of 250,000 or greater. The data available is from the year 1975 to 2015 with details to population and area of Jurisdiction.\n",
        "\n",
        "My objective with this data analysis is to find the patterns of data where maximum crimes are reported, in which areas they are reported, and find out what these details highlight. I am using the basic functions of pythons provided by numpy and pandas libraries. I am also wherever possible trying to get the plots to make them more descriptive.\n",
        "\n"
      ]
    },
    {
      "cell_type": "markdown",
      "metadata": {
        "id": "qTqvidfjqQZc"
      },
      "source": [
        "# 2) Data Exploration"
      ]
    },
    {
      "cell_type": "code",
      "metadata": {
        "id": "CWVapwu5qPiN",
        "colab": {
          "base_uri": "https://localhost:8080/",
          "height": 226
        },
        "outputId": "008df6c6-8c07-4ccf-9453-f24bb9b3cd88"
      },
      "source": [
        "ogi_data.head()"
      ],
      "execution_count": 35,
      "outputs": [
        {
          "output_type": "execute_result",
          "data": {
            "text/html": [
              "<div>\n",
              "<style scoped>\n",
              "    .dataframe tbody tr th:only-of-type {\n",
              "        vertical-align: middle;\n",
              "    }\n",
              "\n",
              "    .dataframe tbody tr th {\n",
              "        vertical-align: top;\n",
              "    }\n",
              "\n",
              "    .dataframe thead th {\n",
              "        text-align: right;\n",
              "    }\n",
              "</style>\n",
              "<table border=\"1\" class=\"dataframe\">\n",
              "  <thead>\n",
              "    <tr style=\"text-align: right;\">\n",
              "      <th></th>\n",
              "      <th>report_year</th>\n",
              "      <th>agency_code</th>\n",
              "      <th>agency_jurisdiction</th>\n",
              "      <th>population</th>\n",
              "      <th>violent_crimes</th>\n",
              "      <th>homicides</th>\n",
              "      <th>rapes</th>\n",
              "      <th>assaults</th>\n",
              "      <th>robberies</th>\n",
              "      <th>months_reported</th>\n",
              "      <th>crimes_percapita</th>\n",
              "      <th>homicides_percapita</th>\n",
              "      <th>rapes_percapita</th>\n",
              "      <th>assaults_percapita</th>\n",
              "      <th>robberies_percapita</th>\n",
              "      <th>Total_crimes</th>\n",
              "    </tr>\n",
              "  </thead>\n",
              "  <tbody>\n",
              "    <tr>\n",
              "      <th>0</th>\n",
              "      <td>1975</td>\n",
              "      <td>NM00101</td>\n",
              "      <td>Albuquerque, NM</td>\n",
              "      <td>286238.0</td>\n",
              "      <td>2383.0</td>\n",
              "      <td>30.0</td>\n",
              "      <td>181.0</td>\n",
              "      <td>1353.0</td>\n",
              "      <td>819.0</td>\n",
              "      <td>12.0</td>\n",
              "      <td>832.52</td>\n",
              "      <td>10.48</td>\n",
              "      <td>63.23</td>\n",
              "      <td>472.68</td>\n",
              "      <td>286.13</td>\n",
              "      <td>6741.0</td>\n",
              "    </tr>\n",
              "    <tr>\n",
              "      <th>1</th>\n",
              "      <td>1975</td>\n",
              "      <td>TX22001</td>\n",
              "      <td>Arlington, TX</td>\n",
              "      <td>112478.0</td>\n",
              "      <td>278.0</td>\n",
              "      <td>5.0</td>\n",
              "      <td>28.0</td>\n",
              "      <td>132.0</td>\n",
              "      <td>113.0</td>\n",
              "      <td>12.0</td>\n",
              "      <td>247.16</td>\n",
              "      <td>4.45</td>\n",
              "      <td>24.89</td>\n",
              "      <td>117.36</td>\n",
              "      <td>100.46</td>\n",
              "      <td>2531.0</td>\n",
              "    </tr>\n",
              "    <tr>\n",
              "      <th>2</th>\n",
              "      <td>1975</td>\n",
              "      <td>GAAPD00</td>\n",
              "      <td>Atlanta, GA</td>\n",
              "      <td>490584.0</td>\n",
              "      <td>8033.0</td>\n",
              "      <td>185.0</td>\n",
              "      <td>443.0</td>\n",
              "      <td>3518.0</td>\n",
              "      <td>3887.0</td>\n",
              "      <td>12.0</td>\n",
              "      <td>1637.44</td>\n",
              "      <td>37.71</td>\n",
              "      <td>90.30</td>\n",
              "      <td>717.10</td>\n",
              "      <td>792.32</td>\n",
              "      <td>18041.0</td>\n",
              "    </tr>\n",
              "    <tr>\n",
              "      <th>3</th>\n",
              "      <td>1975</td>\n",
              "      <td>CO00101</td>\n",
              "      <td>Aurora, CO</td>\n",
              "      <td>116656.0</td>\n",
              "      <td>611.0</td>\n",
              "      <td>7.0</td>\n",
              "      <td>44.0</td>\n",
              "      <td>389.0</td>\n",
              "      <td>171.0</td>\n",
              "      <td>12.0</td>\n",
              "      <td>523.76</td>\n",
              "      <td>6.00</td>\n",
              "      <td>37.72</td>\n",
              "      <td>333.46</td>\n",
              "      <td>146.58</td>\n",
              "      <td>3197.0</td>\n",
              "    </tr>\n",
              "    <tr>\n",
              "      <th>4</th>\n",
              "      <td>1975</td>\n",
              "      <td>TX22701</td>\n",
              "      <td>Austin, TX</td>\n",
              "      <td>300400.0</td>\n",
              "      <td>1215.0</td>\n",
              "      <td>33.0</td>\n",
              "      <td>190.0</td>\n",
              "      <td>463.0</td>\n",
              "      <td>529.0</td>\n",
              "      <td>12.0</td>\n",
              "      <td>404.46</td>\n",
              "      <td>10.99</td>\n",
              "      <td>63.25</td>\n",
              "      <td>154.13</td>\n",
              "      <td>176.10</td>\n",
              "      <td>4405.0</td>\n",
              "    </tr>\n",
              "  </tbody>\n",
              "</table>\n",
              "</div>"
            ],
            "text/plain": [
              "   report_year agency_code  ... robberies_percapita  Total_crimes\n",
              "0         1975     NM00101  ...              286.13        6741.0\n",
              "1         1975     TX22001  ...              100.46        2531.0\n",
              "2         1975     GAAPD00  ...              792.32       18041.0\n",
              "3         1975     CO00101  ...              146.58        3197.0\n",
              "4         1975     TX22701  ...              176.10        4405.0\n",
              "\n",
              "[5 rows x 16 columns]"
            ]
          },
          "metadata": {},
          "execution_count": 35
        }
      ]
    },
    {
      "cell_type": "code",
      "metadata": {
        "colab": {
          "base_uri": "https://localhost:8080/",
          "height": 226
        },
        "id": "pXM_8ikQX5rh",
        "outputId": "5282aa86-8cde-4b46-c047-92de55c68a2a"
      },
      "source": [
        "ogi_data.tail()"
      ],
      "execution_count": 36,
      "outputs": [
        {
          "output_type": "execute_result",
          "data": {
            "text/html": [
              "<div>\n",
              "<style scoped>\n",
              "    .dataframe tbody tr th:only-of-type {\n",
              "        vertical-align: middle;\n",
              "    }\n",
              "\n",
              "    .dataframe tbody tr th {\n",
              "        vertical-align: top;\n",
              "    }\n",
              "\n",
              "    .dataframe thead th {\n",
              "        text-align: right;\n",
              "    }\n",
              "</style>\n",
              "<table border=\"1\" class=\"dataframe\">\n",
              "  <thead>\n",
              "    <tr style=\"text-align: right;\">\n",
              "      <th></th>\n",
              "      <th>report_year</th>\n",
              "      <th>agency_code</th>\n",
              "      <th>agency_jurisdiction</th>\n",
              "      <th>population</th>\n",
              "      <th>violent_crimes</th>\n",
              "      <th>homicides</th>\n",
              "      <th>rapes</th>\n",
              "      <th>assaults</th>\n",
              "      <th>robberies</th>\n",
              "      <th>months_reported</th>\n",
              "      <th>crimes_percapita</th>\n",
              "      <th>homicides_percapita</th>\n",
              "      <th>rapes_percapita</th>\n",
              "      <th>assaults_percapita</th>\n",
              "      <th>robberies_percapita</th>\n",
              "      <th>Total_crimes</th>\n",
              "    </tr>\n",
              "  </thead>\n",
              "  <tbody>\n",
              "    <tr>\n",
              "      <th>2824</th>\n",
              "      <td>2015</td>\n",
              "      <td>OK07205</td>\n",
              "      <td>Tulsa, OK</td>\n",
              "      <td>401520.0</td>\n",
              "      <td>3628.0</td>\n",
              "      <td>55.0</td>\n",
              "      <td>365.0</td>\n",
              "      <td>2354.0</td>\n",
              "      <td>854.0</td>\n",
              "      <td>NaN</td>\n",
              "      <td>903.57</td>\n",
              "      <td>13.70</td>\n",
              "      <td>90.90</td>\n",
              "      <td>586.27</td>\n",
              "      <td>212.69</td>\n",
              "      <td>9271.0</td>\n",
              "    </tr>\n",
              "    <tr>\n",
              "      <th>2825</th>\n",
              "      <td>2015</td>\n",
              "      <td>VA12800</td>\n",
              "      <td>Virginia Beach, VA</td>\n",
              "      <td>452797.0</td>\n",
              "      <td>626.0</td>\n",
              "      <td>19.0</td>\n",
              "      <td>103.0</td>\n",
              "      <td>234.0</td>\n",
              "      <td>270.0</td>\n",
              "      <td>NaN</td>\n",
              "      <td>138.25</td>\n",
              "      <td>4.20</td>\n",
              "      <td>22.75</td>\n",
              "      <td>51.68</td>\n",
              "      <td>59.63</td>\n",
              "      <td>3267.0</td>\n",
              "    </tr>\n",
              "    <tr>\n",
              "      <th>2826</th>\n",
              "      <td>2015</td>\n",
              "      <td>DCMPD00</td>\n",
              "      <td>Washington, DC</td>\n",
              "      <td>672228.0</td>\n",
              "      <td>8084.0</td>\n",
              "      <td>162.0</td>\n",
              "      <td>494.0</td>\n",
              "      <td>4024.0</td>\n",
              "      <td>3404.0</td>\n",
              "      <td>NaN</td>\n",
              "      <td>1202.57</td>\n",
              "      <td>24.10</td>\n",
              "      <td>73.49</td>\n",
              "      <td>598.61</td>\n",
              "      <td>506.38</td>\n",
              "      <td>18183.0</td>\n",
              "    </tr>\n",
              "    <tr>\n",
              "      <th>2827</th>\n",
              "      <td>2015</td>\n",
              "      <td>KS08703</td>\n",
              "      <td>Wichita, KS</td>\n",
              "      <td>389824.0</td>\n",
              "      <td>3839.0</td>\n",
              "      <td>27.0</td>\n",
              "      <td>349.0</td>\n",
              "      <td>2730.0</td>\n",
              "      <td>733.0</td>\n",
              "      <td>NaN</td>\n",
              "      <td>984.80</td>\n",
              "      <td>6.93</td>\n",
              "      <td>89.53</td>\n",
              "      <td>700.32</td>\n",
              "      <td>188.03</td>\n",
              "      <td>9693.0</td>\n",
              "    </tr>\n",
              "    <tr>\n",
              "      <th>2828</th>\n",
              "      <td>2015</td>\n",
              "      <td>NaN</td>\n",
              "      <td>United States</td>\n",
              "      <td>NaN</td>\n",
              "      <td>1197704.0</td>\n",
              "      <td>15696.0</td>\n",
              "      <td>NaN</td>\n",
              "      <td>NaN</td>\n",
              "      <td>NaN</td>\n",
              "      <td>NaN</td>\n",
              "      <td>372.60</td>\n",
              "      <td>4.90</td>\n",
              "      <td>NaN</td>\n",
              "      <td>NaN</td>\n",
              "      <td>NaN</td>\n",
              "      <td>NaN</td>\n",
              "    </tr>\n",
              "  </tbody>\n",
              "</table>\n",
              "</div>"
            ],
            "text/plain": [
              "      report_year agency_code  ... robberies_percapita  Total_crimes\n",
              "2824         2015     OK07205  ...              212.69        9271.0\n",
              "2825         2015     VA12800  ...               59.63        3267.0\n",
              "2826         2015     DCMPD00  ...              506.38       18183.0\n",
              "2827         2015     KS08703  ...              188.03        9693.0\n",
              "2828         2015         NaN  ...                 NaN           NaN\n",
              "\n",
              "[5 rows x 16 columns]"
            ]
          },
          "metadata": {},
          "execution_count": 36
        }
      ]
    },
    {
      "cell_type": "markdown",
      "metadata": {
        "id": "t__h8YeALRwJ"
      },
      "source": [
        " \n",
        "The above 2 commands are helping to see the data at its start and at its end.\n"
      ]
    },
    {
      "cell_type": "code",
      "metadata": {
        "colab": {
          "base_uri": "https://localhost:8080/",
          "height": 320
        },
        "id": "_gFochvjX_vZ",
        "outputId": "3cc274a8-9c36-4db9-e643-a2343af36936"
      },
      "source": [
        "ogi_data.describe()\n"
      ],
      "execution_count": 48,
      "outputs": [
        {
          "output_type": "execute_result",
          "data": {
            "text/html": [
              "<div>\n",
              "<style scoped>\n",
              "    .dataframe tbody tr th:only-of-type {\n",
              "        vertical-align: middle;\n",
              "    }\n",
              "\n",
              "    .dataframe tbody tr th {\n",
              "        vertical-align: top;\n",
              "    }\n",
              "\n",
              "    .dataframe thead th {\n",
              "        text-align: right;\n",
              "    }\n",
              "</style>\n",
              "<table border=\"1\" class=\"dataframe\">\n",
              "  <thead>\n",
              "    <tr style=\"text-align: right;\">\n",
              "      <th></th>\n",
              "      <th>report_year</th>\n",
              "      <th>population</th>\n",
              "      <th>violent_crimes</th>\n",
              "      <th>homicides</th>\n",
              "      <th>rapes</th>\n",
              "      <th>assaults</th>\n",
              "      <th>robberies</th>\n",
              "      <th>months_reported</th>\n",
              "      <th>crimes_percapita</th>\n",
              "      <th>homicides_percapita</th>\n",
              "      <th>rapes_percapita</th>\n",
              "      <th>assaults_percapita</th>\n",
              "      <th>robberies_percapita</th>\n",
              "      <th>Total_crimes</th>\n",
              "    </tr>\n",
              "  </thead>\n",
              "  <tbody>\n",
              "    <tr>\n",
              "      <th>count</th>\n",
              "      <td>2829.000000</td>\n",
              "      <td>2.760000e+03</td>\n",
              "      <td>2.794000e+03</td>\n",
              "      <td>2795.000000</td>\n",
              "      <td>2754.000000</td>\n",
              "      <td>2753.000000</td>\n",
              "      <td>2754.000000</td>\n",
              "      <td>2692.000000</td>\n",
              "      <td>2794.000000</td>\n",
              "      <td>2795.000000</td>\n",
              "      <td>2754.000000</td>\n",
              "      <td>2753.000000</td>\n",
              "      <td>2754.000000</td>\n",
              "      <td>2753.000000</td>\n",
              "    </tr>\n",
              "    <tr>\n",
              "      <th>mean</th>\n",
              "      <td>1995.000000</td>\n",
              "      <td>7.956981e+05</td>\n",
              "      <td>2.963255e+04</td>\n",
              "      <td>398.385331</td>\n",
              "      <td>416.278867</td>\n",
              "      <td>4405.146023</td>\n",
              "      <td>4000.245098</td>\n",
              "      <td>11.868871</td>\n",
              "      <td>1093.049810</td>\n",
              "      <td>15.372812</td>\n",
              "      <td>59.305167</td>\n",
              "      <td>566.595434</td>\n",
              "      <td>459.968112</td>\n",
              "      <td>19887.801671</td>\n",
              "    </tr>\n",
              "    <tr>\n",
              "      <th>std</th>\n",
              "      <td>11.834251</td>\n",
              "      <td>1.012451e+06</td>\n",
              "      <td>1.728630e+05</td>\n",
              "      <td>2281.276402</td>\n",
              "      <td>479.811934</td>\n",
              "      <td>6977.293769</td>\n",
              "      <td>8653.902965</td>\n",
              "      <td>1.118194</td>\n",
              "      <td>676.884678</td>\n",
              "      <td>12.350640</td>\n",
              "      <td>31.971570</td>\n",
              "      <td>369.436996</td>\n",
              "      <td>340.903534</td>\n",
              "      <td>31725.281269</td>\n",
              "    </tr>\n",
              "    <tr>\n",
              "      <th>min</th>\n",
              "      <td>1975.000000</td>\n",
              "      <td>1.007630e+05</td>\n",
              "      <td>1.540000e+02</td>\n",
              "      <td>1.000000</td>\n",
              "      <td>15.000000</td>\n",
              "      <td>15.000000</td>\n",
              "      <td>83.000000</td>\n",
              "      <td>0.000000</td>\n",
              "      <td>16.490000</td>\n",
              "      <td>0.210000</td>\n",
              "      <td>1.640000</td>\n",
              "      <td>1.610000</td>\n",
              "      <td>11.460000</td>\n",
              "      <td>2308.000000</td>\n",
              "    </tr>\n",
              "    <tr>\n",
              "      <th>25%</th>\n",
              "      <td>1985.000000</td>\n",
              "      <td>3.779310e+05</td>\n",
              "      <td>3.014750e+03</td>\n",
              "      <td>32.000000</td>\n",
              "      <td>176.250000</td>\n",
              "      <td>1467.000000</td>\n",
              "      <td>1032.000000</td>\n",
              "      <td>12.000000</td>\n",
              "      <td>625.082500</td>\n",
              "      <td>6.955000</td>\n",
              "      <td>35.775000</td>\n",
              "      <td>319.090000</td>\n",
              "      <td>210.242500</td>\n",
              "      <td>7929.000000</td>\n",
              "    </tr>\n",
              "    <tr>\n",
              "      <th>50%</th>\n",
              "      <td>1995.000000</td>\n",
              "      <td>5.366145e+05</td>\n",
              "      <td>5.135500e+03</td>\n",
              "      <td>64.000000</td>\n",
              "      <td>291.000000</td>\n",
              "      <td>2597.000000</td>\n",
              "      <td>1940.000000</td>\n",
              "      <td>12.000000</td>\n",
              "      <td>949.680000</td>\n",
              "      <td>11.980000</td>\n",
              "      <td>55.900000</td>\n",
              "      <td>487.480000</td>\n",
              "      <td>374.400000</td>\n",
              "      <td>12127.000000</td>\n",
              "    </tr>\n",
              "    <tr>\n",
              "      <th>75%</th>\n",
              "      <td>2005.000000</td>\n",
              "      <td>8.168558e+05</td>\n",
              "      <td>9.058500e+03</td>\n",
              "      <td>131.000000</td>\n",
              "      <td>465.000000</td>\n",
              "      <td>4556.000000</td>\n",
              "      <td>3609.750000</td>\n",
              "      <td>12.000000</td>\n",
              "      <td>1409.507500</td>\n",
              "      <td>20.230000</td>\n",
              "      <td>77.797500</td>\n",
              "      <td>728.240000</td>\n",
              "      <td>612.005000</td>\n",
              "      <td>19594.000000</td>\n",
              "    </tr>\n",
              "    <tr>\n",
              "      <th>max</th>\n",
              "      <td>2015.000000</td>\n",
              "      <td>8.550861e+06</td>\n",
              "      <td>1.932274e+06</td>\n",
              "      <td>24703.000000</td>\n",
              "      <td>3899.000000</td>\n",
              "      <td>71030.000000</td>\n",
              "      <td>107475.000000</td>\n",
              "      <td>12.000000</td>\n",
              "      <td>4352.830000</td>\n",
              "      <td>94.740000</td>\n",
              "      <td>199.300000</td>\n",
              "      <td>2368.220000</td>\n",
              "      <td>2337.520000</td>\n",
              "      <td>351074.000000</td>\n",
              "    </tr>\n",
              "  </tbody>\n",
              "</table>\n",
              "</div>"
            ],
            "text/plain": [
              "       report_year    population  ...  robberies_percapita   Total_crimes\n",
              "count  2829.000000  2.760000e+03  ...          2754.000000    2753.000000\n",
              "mean   1995.000000  7.956981e+05  ...           459.968112   19887.801671\n",
              "std      11.834251  1.012451e+06  ...           340.903534   31725.281269\n",
              "min    1975.000000  1.007630e+05  ...            11.460000    2308.000000\n",
              "25%    1985.000000  3.779310e+05  ...           210.242500    7929.000000\n",
              "50%    1995.000000  5.366145e+05  ...           374.400000   12127.000000\n",
              "75%    2005.000000  8.168558e+05  ...           612.005000   19594.000000\n",
              "max    2015.000000  8.550861e+06  ...          2337.520000  351074.000000\n",
              "\n",
              "[8 rows x 14 columns]"
            ]
          },
          "metadata": {},
          "execution_count": 48
        }
      ]
    },
    {
      "cell_type": "code",
      "metadata": {
        "colab": {
          "base_uri": "https://localhost:8080/"
        },
        "id": "tq4TioxQYRm8",
        "outputId": "dc9a3a44-660e-495e-f774-a8859a428733"
      },
      "source": [
        "ogi_data.info()"
      ],
      "execution_count": 49,
      "outputs": [
        {
          "output_type": "stream",
          "name": "stdout",
          "text": [
            "<class 'pandas.core.frame.DataFrame'>\n",
            "RangeIndex: 2829 entries, 0 to 2828\n",
            "Data columns (total 16 columns):\n",
            " #   Column               Non-Null Count  Dtype  \n",
            "---  ------               --------------  -----  \n",
            " 0   report_year          2829 non-null   int64  \n",
            " 1   agency_code          2788 non-null   object \n",
            " 2   agency_jurisdiction  2829 non-null   object \n",
            " 3   population           2760 non-null   float64\n",
            " 4   violent_crimes       2794 non-null   float64\n",
            " 5   homicides            2795 non-null   float64\n",
            " 6   rapes                2754 non-null   float64\n",
            " 7   assaults             2753 non-null   float64\n",
            " 8   robberies            2754 non-null   float64\n",
            " 9   months_reported      2692 non-null   float64\n",
            " 10  crimes_percapita     2794 non-null   float64\n",
            " 11  homicides_percapita  2795 non-null   float64\n",
            " 12  rapes_percapita      2754 non-null   float64\n",
            " 13  assaults_percapita   2753 non-null   float64\n",
            " 14  robberies_percapita  2754 non-null   float64\n",
            " 15  Total_crimes         2753 non-null   float64\n",
            "dtypes: float64(13), int64(1), object(2)\n",
            "memory usage: 353.8+ KB\n"
          ]
        }
      ]
    },
    {
      "cell_type": "markdown",
      "metadata": {
        "id": "lMKmOH1yLagN"
      },
      "source": [
        " \n",
        "Here describe and info is showing more details like numbers of records and summary.\n"
      ]
    },
    {
      "cell_type": "code",
      "metadata": {
        "id": "2gDS-YIDM_LJ",
        "colab": {
          "base_uri": "https://localhost:8080/",
          "height": 738
        },
        "outputId": "78951798-f6de-49d4-8ed5-381f58a8ce99"
      },
      "source": [
        "print(ogi_data.isna().sum())\n",
        "ogi_data.dropna()"
      ],
      "execution_count": 50,
      "outputs": [
        {
          "output_type": "stream",
          "name": "stdout",
          "text": [
            "report_year              0\n",
            "agency_code             41\n",
            "agency_jurisdiction      0\n",
            "population              69\n",
            "violent_crimes          35\n",
            "homicides               34\n",
            "rapes                   75\n",
            "assaults                76\n",
            "robberies               75\n",
            "months_reported        137\n",
            "crimes_percapita        35\n",
            "homicides_percapita     34\n",
            "rapes_percapita         75\n",
            "assaults_percapita      76\n",
            "robberies_percapita     75\n",
            "Total_crimes            76\n",
            "dtype: int64\n"
          ]
        },
        {
          "output_type": "execute_result",
          "data": {
            "text/html": [
              "<div>\n",
              "<style scoped>\n",
              "    .dataframe tbody tr th:only-of-type {\n",
              "        vertical-align: middle;\n",
              "    }\n",
              "\n",
              "    .dataframe tbody tr th {\n",
              "        vertical-align: top;\n",
              "    }\n",
              "\n",
              "    .dataframe thead th {\n",
              "        text-align: right;\n",
              "    }\n",
              "</style>\n",
              "<table border=\"1\" class=\"dataframe\">\n",
              "  <thead>\n",
              "    <tr style=\"text-align: right;\">\n",
              "      <th></th>\n",
              "      <th>report_year</th>\n",
              "      <th>agency_code</th>\n",
              "      <th>agency_jurisdiction</th>\n",
              "      <th>population</th>\n",
              "      <th>violent_crimes</th>\n",
              "      <th>homicides</th>\n",
              "      <th>rapes</th>\n",
              "      <th>assaults</th>\n",
              "      <th>robberies</th>\n",
              "      <th>months_reported</th>\n",
              "      <th>crimes_percapita</th>\n",
              "      <th>homicides_percapita</th>\n",
              "      <th>rapes_percapita</th>\n",
              "      <th>assaults_percapita</th>\n",
              "      <th>robberies_percapita</th>\n",
              "      <th>Total_crimes</th>\n",
              "    </tr>\n",
              "  </thead>\n",
              "  <tbody>\n",
              "    <tr>\n",
              "      <th>0</th>\n",
              "      <td>1975</td>\n",
              "      <td>NM00101</td>\n",
              "      <td>Albuquerque, NM</td>\n",
              "      <td>286238.0</td>\n",
              "      <td>2383.0</td>\n",
              "      <td>30.0</td>\n",
              "      <td>181.0</td>\n",
              "      <td>1353.0</td>\n",
              "      <td>819.0</td>\n",
              "      <td>12.0</td>\n",
              "      <td>832.52</td>\n",
              "      <td>10.48</td>\n",
              "      <td>63.23</td>\n",
              "      <td>472.68</td>\n",
              "      <td>286.13</td>\n",
              "      <td>6741.0</td>\n",
              "    </tr>\n",
              "    <tr>\n",
              "      <th>1</th>\n",
              "      <td>1975</td>\n",
              "      <td>TX22001</td>\n",
              "      <td>Arlington, TX</td>\n",
              "      <td>112478.0</td>\n",
              "      <td>278.0</td>\n",
              "      <td>5.0</td>\n",
              "      <td>28.0</td>\n",
              "      <td>132.0</td>\n",
              "      <td>113.0</td>\n",
              "      <td>12.0</td>\n",
              "      <td>247.16</td>\n",
              "      <td>4.45</td>\n",
              "      <td>24.89</td>\n",
              "      <td>117.36</td>\n",
              "      <td>100.46</td>\n",
              "      <td>2531.0</td>\n",
              "    </tr>\n",
              "    <tr>\n",
              "      <th>2</th>\n",
              "      <td>1975</td>\n",
              "      <td>GAAPD00</td>\n",
              "      <td>Atlanta, GA</td>\n",
              "      <td>490584.0</td>\n",
              "      <td>8033.0</td>\n",
              "      <td>185.0</td>\n",
              "      <td>443.0</td>\n",
              "      <td>3518.0</td>\n",
              "      <td>3887.0</td>\n",
              "      <td>12.0</td>\n",
              "      <td>1637.44</td>\n",
              "      <td>37.71</td>\n",
              "      <td>90.30</td>\n",
              "      <td>717.10</td>\n",
              "      <td>792.32</td>\n",
              "      <td>18041.0</td>\n",
              "    </tr>\n",
              "    <tr>\n",
              "      <th>3</th>\n",
              "      <td>1975</td>\n",
              "      <td>CO00101</td>\n",
              "      <td>Aurora, CO</td>\n",
              "      <td>116656.0</td>\n",
              "      <td>611.0</td>\n",
              "      <td>7.0</td>\n",
              "      <td>44.0</td>\n",
              "      <td>389.0</td>\n",
              "      <td>171.0</td>\n",
              "      <td>12.0</td>\n",
              "      <td>523.76</td>\n",
              "      <td>6.00</td>\n",
              "      <td>37.72</td>\n",
              "      <td>333.46</td>\n",
              "      <td>146.58</td>\n",
              "      <td>3197.0</td>\n",
              "    </tr>\n",
              "    <tr>\n",
              "      <th>4</th>\n",
              "      <td>1975</td>\n",
              "      <td>TX22701</td>\n",
              "      <td>Austin, TX</td>\n",
              "      <td>300400.0</td>\n",
              "      <td>1215.0</td>\n",
              "      <td>33.0</td>\n",
              "      <td>190.0</td>\n",
              "      <td>463.0</td>\n",
              "      <td>529.0</td>\n",
              "      <td>12.0</td>\n",
              "      <td>404.46</td>\n",
              "      <td>10.99</td>\n",
              "      <td>63.25</td>\n",
              "      <td>154.13</td>\n",
              "      <td>176.10</td>\n",
              "      <td>4405.0</td>\n",
              "    </tr>\n",
              "    <tr>\n",
              "      <th>...</th>\n",
              "      <td>...</td>\n",
              "      <td>...</td>\n",
              "      <td>...</td>\n",
              "      <td>...</td>\n",
              "      <td>...</td>\n",
              "      <td>...</td>\n",
              "      <td>...</td>\n",
              "      <td>...</td>\n",
              "      <td>...</td>\n",
              "      <td>...</td>\n",
              "      <td>...</td>\n",
              "      <td>...</td>\n",
              "      <td>...</td>\n",
              "      <td>...</td>\n",
              "      <td>...</td>\n",
              "      <td>...</td>\n",
              "    </tr>\n",
              "    <tr>\n",
              "      <th>2754</th>\n",
              "      <td>2014</td>\n",
              "      <td>AZ01003</td>\n",
              "      <td>Tucson, AZ</td>\n",
              "      <td>527328.0</td>\n",
              "      <td>3443.0</td>\n",
              "      <td>35.0</td>\n",
              "      <td>399.0</td>\n",
              "      <td>2021.0</td>\n",
              "      <td>988.0</td>\n",
              "      <td>12.0</td>\n",
              "      <td>652.91</td>\n",
              "      <td>6.64</td>\n",
              "      <td>75.66</td>\n",
              "      <td>383.25</td>\n",
              "      <td>187.36</td>\n",
              "      <td>8900.0</td>\n",
              "    </tr>\n",
              "    <tr>\n",
              "      <th>2755</th>\n",
              "      <td>2014</td>\n",
              "      <td>OK07205</td>\n",
              "      <td>Tulsa, OK</td>\n",
              "      <td>399556.0</td>\n",
              "      <td>3217.0</td>\n",
              "      <td>46.0</td>\n",
              "      <td>313.0</td>\n",
              "      <td>1938.0</td>\n",
              "      <td>920.0</td>\n",
              "      <td>12.0</td>\n",
              "      <td>805.14</td>\n",
              "      <td>11.51</td>\n",
              "      <td>78.34</td>\n",
              "      <td>485.04</td>\n",
              "      <td>230.26</td>\n",
              "      <td>8448.0</td>\n",
              "    </tr>\n",
              "    <tr>\n",
              "      <th>2756</th>\n",
              "      <td>2014</td>\n",
              "      <td>VA12800</td>\n",
              "      <td>Virginia Beach, VA</td>\n",
              "      <td>451102.0</td>\n",
              "      <td>667.0</td>\n",
              "      <td>17.0</td>\n",
              "      <td>115.0</td>\n",
              "      <td>285.0</td>\n",
              "      <td>250.0</td>\n",
              "      <td>12.0</td>\n",
              "      <td>147.86</td>\n",
              "      <td>3.77</td>\n",
              "      <td>25.49</td>\n",
              "      <td>63.18</td>\n",
              "      <td>55.42</td>\n",
              "      <td>3348.0</td>\n",
              "    </tr>\n",
              "    <tr>\n",
              "      <th>2757</th>\n",
              "      <td>2014</td>\n",
              "      <td>DCMPD00</td>\n",
              "      <td>Washington, DC</td>\n",
              "      <td>658893.0</td>\n",
              "      <td>7810.0</td>\n",
              "      <td>105.0</td>\n",
              "      <td>470.0</td>\n",
              "      <td>4004.0</td>\n",
              "      <td>3231.0</td>\n",
              "      <td>12.0</td>\n",
              "      <td>1185.32</td>\n",
              "      <td>15.94</td>\n",
              "      <td>71.33</td>\n",
              "      <td>607.69</td>\n",
              "      <td>490.37</td>\n",
              "      <td>17634.0</td>\n",
              "    </tr>\n",
              "    <tr>\n",
              "      <th>2758</th>\n",
              "      <td>2014</td>\n",
              "      <td>KS08703</td>\n",
              "      <td>Wichita, KS</td>\n",
              "      <td>387493.0</td>\n",
              "      <td>2939.0</td>\n",
              "      <td>21.0</td>\n",
              "      <td>243.0</td>\n",
              "      <td>2179.0</td>\n",
              "      <td>496.0</td>\n",
              "      <td>12.0</td>\n",
              "      <td>758.47</td>\n",
              "      <td>5.42</td>\n",
              "      <td>62.71</td>\n",
              "      <td>562.33</td>\n",
              "      <td>128.00</td>\n",
              "      <td>7892.0</td>\n",
              "    </tr>\n",
              "  </tbody>\n",
              "</table>\n",
              "<p>2688 rows × 16 columns</p>\n",
              "</div>"
            ],
            "text/plain": [
              "      report_year agency_code  ... robberies_percapita  Total_crimes\n",
              "0            1975     NM00101  ...              286.13        6741.0\n",
              "1            1975     TX22001  ...              100.46        2531.0\n",
              "2            1975     GAAPD00  ...              792.32       18041.0\n",
              "3            1975     CO00101  ...              146.58        3197.0\n",
              "4            1975     TX22701  ...              176.10        4405.0\n",
              "...           ...         ...  ...                 ...           ...\n",
              "2754         2014     AZ01003  ...              187.36        8900.0\n",
              "2755         2014     OK07205  ...              230.26        8448.0\n",
              "2756         2014     VA12800  ...               55.42        3348.0\n",
              "2757         2014     DCMPD00  ...              490.37       17634.0\n",
              "2758         2014     KS08703  ...              128.00        7892.0\n",
              "\n",
              "[2688 rows x 16 columns]"
            ]
          },
          "metadata": {},
          "execution_count": 50
        }
      ]
    },
    {
      "cell_type": "markdown",
      "metadata": {
        "id": "qB7HoY54-P24"
      },
      "source": [
        "# 3) One column selection"
      ]
    },
    {
      "cell_type": "markdown",
      "metadata": {
        "id": "z1NJlK4sD1Pr"
      },
      "source": [
        " \n",
        "I have created a new column, names \"Total_crimes\". This is to add all the 5 crimes, recorded per year. This will give information about the crime rate overall from the year 1975 to 2015.\n"
      ]
    },
    {
      "cell_type": "code",
      "metadata": {
        "colab": {
          "base_uri": "https://localhost:8080/",
          "height": 293
        },
        "id": "xAUU51ZCSjr4",
        "outputId": "b87d230c-7e6a-43cd-91b3-623a6d51df87"
      },
      "source": [
        "ogi_data['Total_crimes'] = ogi_data['report_year']+ ogi_data['violent_crimes']+ ogi_data['homicides']+ ogi_data['rapes'] + ogi_data['assaults'] + ogi_data['robberies']\n",
        "crimes_by_years = ogi_data.groupby(\"report_year\")[['Total_crimes']].sum()\n",
        "#crimes_by_years.info()\n",
        "plt.plot(crimes_by_years,color='green', marker='o', linestyle='dashed',linewidth=2, markersize=5,)"
      ],
      "execution_count": 47,
      "outputs": [
        {
          "output_type": "execute_result",
          "data": {
            "text/plain": [
              "[<matplotlib.lines.Line2D at 0x7fe4eb119050>]"
            ]
          },
          "metadata": {},
          "execution_count": 47
        },
        {
          "output_type": "display_data",
          "data": {
            "image/png": "[encoded data removed]",
            "text/plain": [
              "<Figure size 432x288 with 1 Axes>"
            ]
          },
          "metadata": {
            "needs_background": "light"
          }
        }
      ]
    },
    {
      "cell_type": "markdown",
      "metadata": {
        "id": "Gyq5nM02cvbl"
      },
      "source": [
        " \n",
        "The plot above clearly shows that the crime rates in America have increased from the year 1980 to the year 1990. Post that from the year 1995 crime rates have reduced and from the year 2011 it becomes almost stable.\n",
        "\n",
        "In the below table the details of the highest 10 years where crime reported were high are shown.\n"
      ]
    },
    {
      "cell_type": "code",
      "metadata": {
        "colab": {
          "base_uri": "https://localhost:8080/",
          "height": 383
        },
        "id": "Bs-je1NEvQgW",
        "outputId": "64937900-a484-45bb-d9eb-3f507610764c"
      },
      "source": [
        "ogi_data.nlargest(10,['Total_crimes']) "
      ],
      "execution_count": 33,
      "outputs": [
        {
          "output_type": "execute_result",
          "data": {
            "text/html": [
              "<div>\n",
              "<style scoped>\n",
              "    .dataframe tbody tr th:only-of-type {\n",
              "        vertical-align: middle;\n",
              "    }\n",
              "\n",
              "    .dataframe tbody tr th {\n",
              "        vertical-align: top;\n",
              "    }\n",
              "\n",
              "    .dataframe thead th {\n",
              "        text-align: right;\n",
              "    }\n",
              "</style>\n",
              "<table border=\"1\" class=\"dataframe\">\n",
              "  <thead>\n",
              "    <tr style=\"text-align: right;\">\n",
              "      <th></th>\n",
              "      <th>report_year</th>\n",
              "      <th>agency_code</th>\n",
              "      <th>agency_jurisdiction</th>\n",
              "      <th>population</th>\n",
              "      <th>violent_crimes</th>\n",
              "      <th>homicides</th>\n",
              "      <th>rapes</th>\n",
              "      <th>assaults</th>\n",
              "      <th>robberies</th>\n",
              "      <th>months_reported</th>\n",
              "      <th>crimes_percapita</th>\n",
              "      <th>homicides_percapita</th>\n",
              "      <th>rapes_percapita</th>\n",
              "      <th>assaults_percapita</th>\n",
              "      <th>robberies_percapita</th>\n",
              "      <th>Total_crimes</th>\n",
              "    </tr>\n",
              "  </thead>\n",
              "  <tbody>\n",
              "    <tr>\n",
              "      <th>1076</th>\n",
              "      <td>1990</td>\n",
              "      <td>NY03030</td>\n",
              "      <td>New York City, NY</td>\n",
              "      <td>7322564.0</td>\n",
              "      <td>174542.0</td>\n",
              "      <td>2245.0</td>\n",
              "      <td>3126.0</td>\n",
              "      <td>68891.0</td>\n",
              "      <td>100280.0</td>\n",
              "      <td>12.0</td>\n",
              "      <td>2383.62</td>\n",
              "      <td>30.66</td>\n",
              "      <td>42.69</td>\n",
              "      <td>940.80</td>\n",
              "      <td>1369.47</td>\n",
              "      <td>351074.0</td>\n",
              "    </tr>\n",
              "    <tr>\n",
              "      <th>1145</th>\n",
              "      <td>1991</td>\n",
              "      <td>NY03030</td>\n",
              "      <td>New York City, NY</td>\n",
              "      <td>7350023.0</td>\n",
              "      <td>170390.0</td>\n",
              "      <td>2154.0</td>\n",
              "      <td>2892.0</td>\n",
              "      <td>66832.0</td>\n",
              "      <td>98512.0</td>\n",
              "      <td>12.0</td>\n",
              "      <td>2318.22</td>\n",
              "      <td>29.31</td>\n",
              "      <td>39.35</td>\n",
              "      <td>909.28</td>\n",
              "      <td>1340.30</td>\n",
              "      <td>342771.0</td>\n",
              "    </tr>\n",
              "    <tr>\n",
              "      <th>1007</th>\n",
              "      <td>1989</td>\n",
              "      <td>NY03030</td>\n",
              "      <td>New York City, NY</td>\n",
              "      <td>7369454.0</td>\n",
              "      <td>169487.0</td>\n",
              "      <td>1905.0</td>\n",
              "      <td>3254.0</td>\n",
              "      <td>70951.0</td>\n",
              "      <td>93377.0</td>\n",
              "      <td>12.0</td>\n",
              "      <td>2299.86</td>\n",
              "      <td>25.85</td>\n",
              "      <td>44.16</td>\n",
              "      <td>962.77</td>\n",
              "      <td>1267.08</td>\n",
              "      <td>340963.0</td>\n",
              "    </tr>\n",
              "    <tr>\n",
              "      <th>938</th>\n",
              "      <td>1988</td>\n",
              "      <td>NY03030</td>\n",
              "      <td>New York City, NY</td>\n",
              "      <td>7346352.0</td>\n",
              "      <td>162916.0</td>\n",
              "      <td>1896.0</td>\n",
              "      <td>3412.0</td>\n",
              "      <td>71030.0</td>\n",
              "      <td>86578.0</td>\n",
              "      <td>12.0</td>\n",
              "      <td>2217.64</td>\n",
              "      <td>25.81</td>\n",
              "      <td>46.44</td>\n",
              "      <td>966.87</td>\n",
              "      <td>1178.52</td>\n",
              "      <td>327820.0</td>\n",
              "    </tr>\n",
              "    <tr>\n",
              "      <th>1214</th>\n",
              "      <td>1992</td>\n",
              "      <td>NY03030</td>\n",
              "      <td>New York City, NY</td>\n",
              "      <td>7375097.0</td>\n",
              "      <td>159578.0</td>\n",
              "      <td>1995.0</td>\n",
              "      <td>2815.0</td>\n",
              "      <td>63529.0</td>\n",
              "      <td>91239.0</td>\n",
              "      <td>12.0</td>\n",
              "      <td>2163.74</td>\n",
              "      <td>27.05</td>\n",
              "      <td>38.17</td>\n",
              "      <td>861.40</td>\n",
              "      <td>1237.12</td>\n",
              "      <td>321148.0</td>\n",
              "    </tr>\n",
              "    <tr>\n",
              "      <th>455</th>\n",
              "      <td>1981</td>\n",
              "      <td>NY03030</td>\n",
              "      <td>New York City, NY</td>\n",
              "      <td>7070429.0</td>\n",
              "      <td>156946.0</td>\n",
              "      <td>1826.0</td>\n",
              "      <td>3862.0</td>\n",
              "      <td>43783.0</td>\n",
              "      <td>107475.0</td>\n",
              "      <td>12.0</td>\n",
              "      <td>2219.75</td>\n",
              "      <td>25.83</td>\n",
              "      <td>54.62</td>\n",
              "      <td>619.24</td>\n",
              "      <td>1520.06</td>\n",
              "      <td>315873.0</td>\n",
              "    </tr>\n",
              "    <tr>\n",
              "      <th>1283</th>\n",
              "      <td>1993</td>\n",
              "      <td>NY03030</td>\n",
              "      <td>New York City, NY</td>\n",
              "      <td>7347257.0</td>\n",
              "      <td>153543.0</td>\n",
              "      <td>1946.0</td>\n",
              "      <td>2818.0</td>\n",
              "      <td>62778.0</td>\n",
              "      <td>86001.0</td>\n",
              "      <td>12.0</td>\n",
              "      <td>2089.80</td>\n",
              "      <td>26.49</td>\n",
              "      <td>38.35</td>\n",
              "      <td>854.44</td>\n",
              "      <td>1170.52</td>\n",
              "      <td>309079.0</td>\n",
              "    </tr>\n",
              "    <tr>\n",
              "      <th>386</th>\n",
              "      <td>1980</td>\n",
              "      <td>NY03030</td>\n",
              "      <td>New York City, NY</td>\n",
              "      <td>7035348.0</td>\n",
              "      <td>149549.0</td>\n",
              "      <td>1812.0</td>\n",
              "      <td>3711.0</td>\n",
              "      <td>43476.0</td>\n",
              "      <td>100550.0</td>\n",
              "      <td>12.0</td>\n",
              "      <td>2125.68</td>\n",
              "      <td>25.76</td>\n",
              "      <td>52.75</td>\n",
              "      <td>617.97</td>\n",
              "      <td>1429.21</td>\n",
              "      <td>301078.0</td>\n",
              "    </tr>\n",
              "    <tr>\n",
              "      <th>869</th>\n",
              "      <td>1987</td>\n",
              "      <td>NY03030</td>\n",
              "      <td>New York City, NY</td>\n",
              "      <td>7284319.0</td>\n",
              "      <td>148313.0</td>\n",
              "      <td>1672.0</td>\n",
              "      <td>3507.0</td>\n",
              "      <td>64244.0</td>\n",
              "      <td>78890.0</td>\n",
              "      <td>12.0</td>\n",
              "      <td>2036.06</td>\n",
              "      <td>22.95</td>\n",
              "      <td>48.14</td>\n",
              "      <td>881.95</td>\n",
              "      <td>1083.01</td>\n",
              "      <td>298613.0</td>\n",
              "    </tr>\n",
              "    <tr>\n",
              "      <th>524</th>\n",
              "      <td>1982</td>\n",
              "      <td>NY03030</td>\n",
              "      <td>New York City, NY</td>\n",
              "      <td>7096559.0</td>\n",
              "      <td>143943.0</td>\n",
              "      <td>1668.0</td>\n",
              "      <td>3547.0</td>\n",
              "      <td>42784.0</td>\n",
              "      <td>95944.0</td>\n",
              "      <td>12.0</td>\n",
              "      <td>2028.35</td>\n",
              "      <td>23.50</td>\n",
              "      <td>49.98</td>\n",
              "      <td>602.88</td>\n",
              "      <td>1351.98</td>\n",
              "      <td>289868.0</td>\n",
              "    </tr>\n",
              "  </tbody>\n",
              "</table>\n",
              "</div>"
            ],
            "text/plain": [
              "      report_year agency_code  ... robberies_percapita  Total_crimes\n",
              "1076         1990     NY03030  ...             1369.47      351074.0\n",
              "1145         1991     NY03030  ...             1340.30      342771.0\n",
              "1007         1989     NY03030  ...             1267.08      340963.0\n",
              "938          1988     NY03030  ...             1178.52      327820.0\n",
              "1214         1992     NY03030  ...             1237.12      321148.0\n",
              "455          1981     NY03030  ...             1520.06      315873.0\n",
              "1283         1993     NY03030  ...             1170.52      309079.0\n",
              "386          1980     NY03030  ...             1429.21      301078.0\n",
              "869          1987     NY03030  ...             1083.01      298613.0\n",
              "524          1982     NY03030  ...             1351.98      289868.0\n",
              "\n",
              "[10 rows x 16 columns]"
            ]
          },
          "metadata": {},
          "execution_count": 33
        }
      ]
    },
    {
      "cell_type": "markdown",
      "metadata": {
        "id": "v83JDFQnGEN_"
      },
      "source": [
        " \n",
        "# 4) Sort\n",
        "\n",
        "I want to further analyze the years in which the highest crimes were reported. For that, I have created a new dataframe that contains the highest 10 crime-reported years data.\n"
      ]
    },
    {
      "cell_type": "code",
      "metadata": {
        "colab": {
          "base_uri": "https://localhost:8080/",
          "height": 380
        },
        "id": "GXl26Q26xeaj",
        "outputId": "56305659-62d8-486e-e785-4d4ad62c2e24"
      },
      "source": [
        "Top_10_years = ogi_data[['report_year','Total_crimes','agency_jurisdiction','months_reported','population']].sort_values('Total_crimes', ascending=True).nlargest(10, 'Total_crimes')\n",
        "print(type(Top_10_years))\n",
        "Top_10_years"
      ],
      "execution_count": 70,
      "outputs": [
        {
          "output_type": "stream",
          "name": "stdout",
          "text": [
            "<class 'pandas.core.frame.DataFrame'>\n"
          ]
        },
        {
          "output_type": "execute_result",
          "data": {
            "text/html": [
              "<div>\n",
              "<style scoped>\n",
              "    .dataframe tbody tr th:only-of-type {\n",
              "        vertical-align: middle;\n",
              "    }\n",
              "\n",
              "    .dataframe tbody tr th {\n",
              "        vertical-align: top;\n",
              "    }\n",
              "\n",
              "    .dataframe thead th {\n",
              "        text-align: right;\n",
              "    }\n",
              "</style>\n",
              "<table border=\"1\" class=\"dataframe\">\n",
              "  <thead>\n",
              "    <tr style=\"text-align: right;\">\n",
              "      <th></th>\n",
              "      <th>report_year</th>\n",
              "      <th>Total_crimes</th>\n",
              "      <th>agency_jurisdiction</th>\n",
              "      <th>months_reported</th>\n",
              "      <th>population</th>\n",
              "    </tr>\n",
              "  </thead>\n",
              "  <tbody>\n",
              "    <tr>\n",
              "      <th>1076</th>\n",
              "      <td>1990</td>\n",
              "      <td>351074.0</td>\n",
              "      <td>New York City, NY</td>\n",
              "      <td>12.0</td>\n",
              "      <td>7322564.0</td>\n",
              "    </tr>\n",
              "    <tr>\n",
              "      <th>1145</th>\n",
              "      <td>1991</td>\n",
              "      <td>342771.0</td>\n",
              "      <td>New York City, NY</td>\n",
              "      <td>12.0</td>\n",
              "      <td>7350023.0</td>\n",
              "    </tr>\n",
              "    <tr>\n",
              "      <th>1007</th>\n",
              "      <td>1989</td>\n",
              "      <td>340963.0</td>\n",
              "      <td>New York City, NY</td>\n",
              "      <td>12.0</td>\n",
              "      <td>7369454.0</td>\n",
              "    </tr>\n",
              "    <tr>\n",
              "      <th>938</th>\n",
              "      <td>1988</td>\n",
              "      <td>327820.0</td>\n",
              "      <td>New York City, NY</td>\n",
              "      <td>12.0</td>\n",
              "      <td>7346352.0</td>\n",
              "    </tr>\n",
              "    <tr>\n",
              "      <th>1214</th>\n",
              "      <td>1992</td>\n",
              "      <td>321148.0</td>\n",
              "      <td>New York City, NY</td>\n",
              "      <td>12.0</td>\n",
              "      <td>7375097.0</td>\n",
              "    </tr>\n",
              "    <tr>\n",
              "      <th>455</th>\n",
              "      <td>1981</td>\n",
              "      <td>315873.0</td>\n",
              "      <td>New York City, NY</td>\n",
              "      <td>12.0</td>\n",
              "      <td>7070429.0</td>\n",
              "    </tr>\n",
              "    <tr>\n",
              "      <th>1283</th>\n",
              "      <td>1993</td>\n",
              "      <td>309079.0</td>\n",
              "      <td>New York City, NY</td>\n",
              "      <td>12.0</td>\n",
              "      <td>7347257.0</td>\n",
              "    </tr>\n",
              "    <tr>\n",
              "      <th>386</th>\n",
              "      <td>1980</td>\n",
              "      <td>301078.0</td>\n",
              "      <td>New York City, NY</td>\n",
              "      <td>12.0</td>\n",
              "      <td>7035348.0</td>\n",
              "    </tr>\n",
              "    <tr>\n",
              "      <th>869</th>\n",
              "      <td>1987</td>\n",
              "      <td>298613.0</td>\n",
              "      <td>New York City, NY</td>\n",
              "      <td>12.0</td>\n",
              "      <td>7284319.0</td>\n",
              "    </tr>\n",
              "    <tr>\n",
              "      <th>524</th>\n",
              "      <td>1982</td>\n",
              "      <td>289868.0</td>\n",
              "      <td>New York City, NY</td>\n",
              "      <td>12.0</td>\n",
              "      <td>7096559.0</td>\n",
              "    </tr>\n",
              "  </tbody>\n",
              "</table>\n",
              "</div>"
            ],
            "text/plain": [
              "      report_year  Total_crimes  ... months_reported  population\n",
              "1076         1990      351074.0  ...            12.0   7322564.0\n",
              "1145         1991      342771.0  ...            12.0   7350023.0\n",
              "1007         1989      340963.0  ...            12.0   7369454.0\n",
              "938          1988      327820.0  ...            12.0   7346352.0\n",
              "1214         1992      321148.0  ...            12.0   7375097.0\n",
              "455          1981      315873.0  ...            12.0   7070429.0\n",
              "1283         1993      309079.0  ...            12.0   7347257.0\n",
              "386          1980      301078.0  ...            12.0   7035348.0\n",
              "869          1987      298613.0  ...            12.0   7284319.0\n",
              "524          1982      289868.0  ...            12.0   7096559.0\n",
              "\n",
              "[10 rows x 5 columns]"
            ]
          },
          "metadata": {},
          "execution_count": 70
        }
      ]
    },
    {
      "cell_type": "markdown",
      "metadata": {
        "id": "UmBWOM1gGOs7"
      },
      "source": [
        " \n",
        "I have created a new dataframe named **Top_10_years**, which has information for the years of crime, total crimes that took place on these years, the place where the crimes took place, the month when these reports were captured and the population of these places. I have **sorted** the df on year and have captured the Top 10 records of year when the maximum crime was recorded.\n"
      ]
    },
    {
      "cell_type": "code",
      "metadata": {
        "colab": {
          "base_uri": "https://localhost:8080/",
          "height": 313
        },
        "id": "h9kWI_gu4ucJ",
        "outputId": "98acfaf0-42b3-4f97-a4dd-ce4f5d1a5b57"
      },
      "source": [
        "Top_10_years.plot(x=\"report_year\", y=\"Total_crimes\", kind=\"bar\",)"
      ],
      "execution_count": 57,
      "outputs": [
        {
          "output_type": "execute_result",
          "data": {
            "text/plain": [
              "<matplotlib.axes._subplots.AxesSubplot at 0x7f5625f4f250>"
            ]
          },
          "metadata": {},
          "execution_count": 57
        },
        {
          "output_type": "display_data",
          "data": {
            "image/png": "[encoded data removed]",
            "text/plain": [
              "<Figure size 432x288 with 1 Axes>"
            ]
          },
          "metadata": {
            "needs_background": "light"
          }
        }
      ]
    },
    {
      "cell_type": "markdown",
      "metadata": {
        "id": "h0r3a0qPBcuF"
      },
      "source": [
        " \n",
        "From the above plot, it is observed that the year 1990, 1991,1989, 1988, 1992, 1981, 1993, 1980, 1987, and 1982 have reported maximum crimes when we add all the crimes and get the total. The year 1990 has observed maximum crimes of 351074 reported cases and all these crimes took place in $New York City$ itself.\n"
      ]
    },
    {
      "cell_type": "markdown",
      "metadata": {
        "id": "arBMio6dTKlz"
      },
      "source": [
        " \n",
        "# 5) Series\n",
        "\n",
        "As the year 1990 has reported maximum crimes I want to explore more on, for this particular year, which types of crimes were high and what was the duration. \n"
      ]
    },
    {
      "cell_type": "code",
      "metadata": {
        "colab": {
          "base_uri": "https://localhost:8080/",
          "height": 226
        },
        "id": "iBcnlLusIE0F",
        "outputId": "e3379b3b-8b47-416f-e634-36dbdf9e70c5"
      },
      "source": [
        "Highest_crime_year = [1990]\n",
        "Crimes_in_1990 = ogi_data[ogi_data.report_year.isin(Highest_crime_year)]\n",
        "Crimes_in_1990.head(5)\n"
      ],
      "execution_count": 53,
      "outputs": [
        {
          "output_type": "execute_result",
          "data": {
            "text/html": [
              "<div>\n",
              "<style scoped>\n",
              "    .dataframe tbody tr th:only-of-type {\n",
              "        vertical-align: middle;\n",
              "    }\n",
              "\n",
              "    .dataframe tbody tr th {\n",
              "        vertical-align: top;\n",
              "    }\n",
              "\n",
              "    .dataframe thead th {\n",
              "        text-align: right;\n",
              "    }\n",
              "</style>\n",
              "<table border=\"1\" class=\"dataframe\">\n",
              "  <thead>\n",
              "    <tr style=\"text-align: right;\">\n",
              "      <th></th>\n",
              "      <th>report_year</th>\n",
              "      <th>agency_code</th>\n",
              "      <th>agency_jurisdiction</th>\n",
              "      <th>population</th>\n",
              "      <th>violent_crimes</th>\n",
              "      <th>homicides</th>\n",
              "      <th>rapes</th>\n",
              "      <th>assaults</th>\n",
              "      <th>robberies</th>\n",
              "      <th>months_reported</th>\n",
              "      <th>crimes_percapita</th>\n",
              "      <th>homicides_percapita</th>\n",
              "      <th>rapes_percapita</th>\n",
              "      <th>assaults_percapita</th>\n",
              "      <th>robberies_percapita</th>\n",
              "      <th>Total_crimes</th>\n",
              "    </tr>\n",
              "  </thead>\n",
              "  <tbody>\n",
              "    <tr>\n",
              "      <th>1035</th>\n",
              "      <td>1990</td>\n",
              "      <td>NM00101</td>\n",
              "      <td>Albuquerque, NM</td>\n",
              "      <td>384736.0</td>\n",
              "      <td>5121.0</td>\n",
              "      <td>34.0</td>\n",
              "      <td>222.0</td>\n",
              "      <td>3835.0</td>\n",
              "      <td>1030.0</td>\n",
              "      <td>12.0</td>\n",
              "      <td>1331.04</td>\n",
              "      <td>8.84</td>\n",
              "      <td>57.70</td>\n",
              "      <td>996.79</td>\n",
              "      <td>267.72</td>\n",
              "      <td>12232.0</td>\n",
              "    </tr>\n",
              "    <tr>\n",
              "      <th>1036</th>\n",
              "      <td>1990</td>\n",
              "      <td>TX22001</td>\n",
              "      <td>Arlington, TX</td>\n",
              "      <td>261721.0</td>\n",
              "      <td>1876.0</td>\n",
              "      <td>8.0</td>\n",
              "      <td>139.0</td>\n",
              "      <td>1143.0</td>\n",
              "      <td>586.0</td>\n",
              "      <td>12.0</td>\n",
              "      <td>716.79</td>\n",
              "      <td>3.06</td>\n",
              "      <td>53.11</td>\n",
              "      <td>436.72</td>\n",
              "      <td>223.90</td>\n",
              "      <td>5742.0</td>\n",
              "    </tr>\n",
              "    <tr>\n",
              "      <th>1037</th>\n",
              "      <td>1990</td>\n",
              "      <td>GAAPD00</td>\n",
              "      <td>Atlanta, GA</td>\n",
              "      <td>394017.0</td>\n",
              "      <td>16097.0</td>\n",
              "      <td>231.0</td>\n",
              "      <td>695.0</td>\n",
              "      <td>9062.0</td>\n",
              "      <td>6109.0</td>\n",
              "      <td>12.0</td>\n",
              "      <td>4085.36</td>\n",
              "      <td>58.63</td>\n",
              "      <td>176.39</td>\n",
              "      <td>2299.90</td>\n",
              "      <td>1550.44</td>\n",
              "      <td>34184.0</td>\n",
              "    </tr>\n",
              "    <tr>\n",
              "      <th>1038</th>\n",
              "      <td>1990</td>\n",
              "      <td>CO00101</td>\n",
              "      <td>Aurora, CO</td>\n",
              "      <td>222103.0</td>\n",
              "      <td>3191.0</td>\n",
              "      <td>8.0</td>\n",
              "      <td>170.0</td>\n",
              "      <td>2616.0</td>\n",
              "      <td>397.0</td>\n",
              "      <td>12.0</td>\n",
              "      <td>1436.72</td>\n",
              "      <td>3.60</td>\n",
              "      <td>76.54</td>\n",
              "      <td>1177.83</td>\n",
              "      <td>178.75</td>\n",
              "      <td>8372.0</td>\n",
              "    </tr>\n",
              "    <tr>\n",
              "      <th>1039</th>\n",
              "      <td>1990</td>\n",
              "      <td>TX22701</td>\n",
              "      <td>Austin, TX</td>\n",
              "      <td>465622.0</td>\n",
              "      <td>3326.0</td>\n",
              "      <td>46.0</td>\n",
              "      <td>280.0</td>\n",
              "      <td>1539.0</td>\n",
              "      <td>1461.0</td>\n",
              "      <td>12.0</td>\n",
              "      <td>714.31</td>\n",
              "      <td>9.88</td>\n",
              "      <td>60.13</td>\n",
              "      <td>330.53</td>\n",
              "      <td>313.77</td>\n",
              "      <td>8642.0</td>\n",
              "    </tr>\n",
              "  </tbody>\n",
              "</table>\n",
              "</div>"
            ],
            "text/plain": [
              "      report_year agency_code  ... robberies_percapita  Total_crimes\n",
              "1035         1990     NM00101  ...              267.72       12232.0\n",
              "1036         1990     TX22001  ...              223.90        5742.0\n",
              "1037         1990     GAAPD00  ...             1550.44       34184.0\n",
              "1038         1990     CO00101  ...              178.75        8372.0\n",
              "1039         1990     TX22701  ...              313.77        8642.0\n",
              "\n",
              "[5 rows x 16 columns]"
            ]
          },
          "metadata": {},
          "execution_count": 53
        }
      ]
    },
    {
      "cell_type": "markdown",
      "metadata": {
        "id": "wTOF72sZTzmc"
      },
      "source": [
        " \n",
        "To create filter criteria for the year 1990, I have created a new dataframe above **Crimes_in_1990**. This dataset will have information on all the subtypes of crimes that occurred in the year 1990 only.\n",
        "\n",
        "Using this dataframe I have created one more dataframe **details_crime_1990**, with only the column of sub crimes, months reported, and jurisdiction.\n"
      ]
    },
    {
      "cell_type": "code",
      "metadata": {
        "colab": {
          "base_uri": "https://localhost:8080/",
          "height": 143
        },
        "id": "BOZgMtJRSgja",
        "outputId": "c638dde1-49ef-423c-ed3f-58a8db48f172"
      },
      "source": [
        "details_crime_1990 = pd.DataFrame(Crimes_in_1990, columns = ['agency_jurisdiction','report_year','violent_crimes','homicides',\n",
        "                                         'rapes','assaults','robberies','population','Total_crimes'])\n",
        "details_crime_1990.head(3)"
      ],
      "execution_count": 87,
      "outputs": [
        {
          "output_type": "execute_result",
          "data": {
            "text/html": [
              "<div>\n",
              "<style scoped>\n",
              "    .dataframe tbody tr th:only-of-type {\n",
              "        vertical-align: middle;\n",
              "    }\n",
              "\n",
              "    .dataframe tbody tr th {\n",
              "        vertical-align: top;\n",
              "    }\n",
              "\n",
              "    .dataframe thead th {\n",
              "        text-align: right;\n",
              "    }\n",
              "</style>\n",
              "<table border=\"1\" class=\"dataframe\">\n",
              "  <thead>\n",
              "    <tr style=\"text-align: right;\">\n",
              "      <th></th>\n",
              "      <th>agency_jurisdiction</th>\n",
              "      <th>report_year</th>\n",
              "      <th>violent_crimes</th>\n",
              "      <th>homicides</th>\n",
              "      <th>rapes</th>\n",
              "      <th>assaults</th>\n",
              "      <th>robberies</th>\n",
              "      <th>population</th>\n",
              "      <th>Total_crimes</th>\n",
              "    </tr>\n",
              "  </thead>\n",
              "  <tbody>\n",
              "    <tr>\n",
              "      <th>1035</th>\n",
              "      <td>Albuquerque, NM</td>\n",
              "      <td>1990</td>\n",
              "      <td>5121.0</td>\n",
              "      <td>34.0</td>\n",
              "      <td>222.0</td>\n",
              "      <td>3835.0</td>\n",
              "      <td>1030.0</td>\n",
              "      <td>384736.0</td>\n",
              "      <td>12232.0</td>\n",
              "    </tr>\n",
              "    <tr>\n",
              "      <th>1036</th>\n",
              "      <td>Arlington, TX</td>\n",
              "      <td>1990</td>\n",
              "      <td>1876.0</td>\n",
              "      <td>8.0</td>\n",
              "      <td>139.0</td>\n",
              "      <td>1143.0</td>\n",
              "      <td>586.0</td>\n",
              "      <td>261721.0</td>\n",
              "      <td>5742.0</td>\n",
              "    </tr>\n",
              "    <tr>\n",
              "      <th>1037</th>\n",
              "      <td>Atlanta, GA</td>\n",
              "      <td>1990</td>\n",
              "      <td>16097.0</td>\n",
              "      <td>231.0</td>\n",
              "      <td>695.0</td>\n",
              "      <td>9062.0</td>\n",
              "      <td>6109.0</td>\n",
              "      <td>394017.0</td>\n",
              "      <td>34184.0</td>\n",
              "    </tr>\n",
              "  </tbody>\n",
              "</table>\n",
              "</div>"
            ],
            "text/plain": [
              "     agency_jurisdiction  report_year  ...  population  Total_crimes\n",
              "1035     Albuquerque, NM         1990  ...    384736.0       12232.0\n",
              "1036       Arlington, TX         1990  ...    261721.0        5742.0\n",
              "1037         Atlanta, GA         1990  ...    394017.0       34184.0\n",
              "\n",
              "[3 rows x 9 columns]"
            ]
          },
          "metadata": {},
          "execution_count": 87
        }
      ]
    },
    {
      "cell_type": "code",
      "metadata": {
        "colab": {
          "base_uri": "https://localhost:8080/",
          "height": 439
        },
        "id": "eny8KRZY5FN7",
        "outputId": "1b96f987-5201-42da-fa18-789d4a9fe55d"
      },
      "source": [
        "Total_crimes_series = pd.Series(details_crime_1990.Total_crimes)\n",
        "print(Total_crimes_series.describe())\n",
        "Total_crimes_series.plot()"
      ],
      "execution_count": 141,
      "outputs": [
        {
          "output_type": "stream",
          "name": "stdout",
          "text": [
            "count        67.000000\n",
            "mean      27839.820896\n",
            "std       49145.127402\n",
            "min        3794.000000\n",
            "25%       10304.000000\n",
            "50%       15762.000000\n",
            "75%       25691.000000\n",
            "max      351074.000000\n",
            "Name: Total_crimes, dtype: float64\n"
          ]
        },
        {
          "output_type": "execute_result",
          "data": {
            "text/plain": [
              "<matplotlib.axes._subplots.AxesSubplot at 0x7fe4ea2971d0>"
            ]
          },
          "metadata": {},
          "execution_count": 141
        },
        {
          "output_type": "display_data",
          "data": {
            "image/png": "[encoded data removed]",
            "text/plain": [
              "<Figure size 432x288 with 1 Axes>"
            ]
          },
          "metadata": {
            "needs_background": "light"
          }
        }
      ]
    },
    {
      "cell_type": "markdown",
      "metadata": {
        "id": "eZy1Cd2y6IeB"
      },
      "source": [
        " \n",
        "In the year 1990, when maximum crimes took place. The average crime in the year 1990, was **27839** reported cases. With the **maximum of 351074** and a minimum of **3794** reported cases.\n",
        "\n",
        "\n"
      ]
    },
    {
      "cell_type": "code",
      "metadata": {
        "colab": {
          "base_uri": "https://localhost:8080/",
          "height": 449
        },
        "id": "vBQktLGd7HWB",
        "outputId": "f64e8bdc-ba3a-4a8e-a6e4-095849e2d2ae"
      },
      "source": [
        "population_to_crime = pd.Series(details_crime_1990.population)\n",
        "print(population_to_crime.describe())\n",
        "population_to_crime.plot()"
      ],
      "execution_count": 142,
      "outputs": [
        {
          "output_type": "stream",
          "name": "stdout",
          "text": [
            "count    6.700000e+01\n",
            "mean     7.547431e+05\n",
            "std      9.759849e+05\n",
            "min      1.599360e+05\n",
            "25%      3.696220e+05\n",
            "50%      4.969380e+05\n",
            "75%      7.635390e+05\n",
            "max      7.322564e+06\n",
            "Name: population, dtype: float64\n"
          ]
        },
        {
          "output_type": "execute_result",
          "data": {
            "text/plain": [
              "<matplotlib.axes._subplots.AxesSubplot at 0x7fe4ea20b310>"
            ]
          },
          "metadata": {},
          "execution_count": 142
        },
        {
          "output_type": "display_data",
          "data": {
            "image/png": "[encoded data removed]",
            "text/plain": [
              "<Figure size 432x288 with 1 Axes>"
            ]
          },
          "metadata": {
            "needs_background": "light"
          }
        }
      ]
    },
    {
      "cell_type": "markdown",
      "metadata": {
        "id": "gbRBLd_tHFGB"
      },
      "source": [
        " \n",
        "In the year 1990, from the above plot we can see that, where there is **higher population, higher the crime reported**. As we can see near index 1045 and 1075 there is a peak in Total crimes which exactly matched with the population around those values.\n"
      ]
    },
    {
      "cell_type": "code",
      "metadata": {
        "colab": {
          "base_uri": "https://localhost:8080/",
          "height": 283
        },
        "id": "8cxVEyrm9qHE",
        "outputId": "3c374dbd-04de-4e46-e160-3055d61fb3cc"
      },
      "source": [
        "percent_crimes = (population_to_crime / Total_crimes_series)\n",
        "percent_crimes.plot()"
      ],
      "execution_count": 134,
      "outputs": [
        {
          "output_type": "execute_result",
          "data": {
            "text/plain": [
              "<matplotlib.axes._subplots.AxesSubplot at 0x7fe4eaa5ec90>"
            ]
          },
          "metadata": {},
          "execution_count": 134
        },
        {
          "output_type": "display_data",
          "data": {
            "image/png": "[encoded data removed]",
            "text/plain": [
              "<Figure size 432x288 with 1 Axes>"
            ]
          },
          "metadata": {
            "needs_background": "light"
          }
        }
      ]
    },
    {
      "cell_type": "markdown",
      "metadata": {
        "id": "CY81auFJH_FM"
      },
      "source": [
        " \n",
        "From plotting the above series of ratios of Total_crimes to Population, it is observed that around the index values 1052-55, 1072-75, and 1095-1100 the ratio is high. **This indicated its not only population to crimes hight, but there are other factors as well.**\n"
      ]
    },
    {
      "cell_type": "code",
      "metadata": {
        "colab": {
          "base_uri": "https://localhost:8080/",
          "height": 439
        },
        "id": "34ieVtALRP0T",
        "outputId": "d1cb9964-b99a-4ec2-c941-f91f2f6895c9"
      },
      "source": [
        "rape_to_crime = pd.Series(details_crime_1990.rapes)\n",
        "print(rape_to_crime.describe())\n",
        "rape_to_crime.plot()"
      ],
      "execution_count": 146,
      "outputs": [
        {
          "output_type": "stream",
          "name": "stdout",
          "text": [
            "count      67.000000\n",
            "mean      545.388060\n",
            "std       608.734902\n",
            "min        63.000000\n",
            "25%       268.000000\n",
            "50%       384.000000\n",
            "75%       540.000000\n",
            "max      3607.000000\n",
            "Name: rapes, dtype: float64\n"
          ]
        },
        {
          "output_type": "execute_result",
          "data": {
            "text/plain": [
              "<matplotlib.axes._subplots.AxesSubplot at 0x7fe4ea02b810>"
            ]
          },
          "metadata": {},
          "execution_count": 146
        },
        {
          "output_type": "display_data",
          "data": {
            "image/png": "[encoded data removed]",
            "text/plain": [
              "<Figure size 432x288 with 1 Axes>"
            ]
          },
          "metadata": {
            "needs_background": "light"
          }
        }
      ]
    },
    {
      "cell_type": "markdown",
      "metadata": {
        "id": "QKcJC93QSRFq"
      },
      "source": [
        " \n",
        "In the year 1990, the maximum reported rape cases were 3607 and minimum cases were 63, whereas the average reported cases were 545. The plot shows matching trends with the Total_crime plotted data.\n"
      ]
    },
    {
      "cell_type": "code",
      "metadata": {
        "colab": {
          "base_uri": "https://localhost:8080/",
          "height": 439
        },
        "id": "6-9sV7DPRbAm",
        "outputId": "793052a7-600e-41b9-83a0-3f1b6bc1c990"
      },
      "source": [
        "homicide_to_crime = pd.Series(details_crime_1990.homicides)\n",
        "print(homicide_to_crime.describe())\n",
        "homicide_to_crime.plot()"
      ],
      "execution_count": 147,
      "outputs": [
        {
          "output_type": "stream",
          "name": "stdout",
          "text": [
            "count       68.000000\n",
            "mean       519.176471\n",
            "std       2838.577345\n",
            "min          8.000000\n",
            "25%         34.000000\n",
            "50%         73.500000\n",
            "75%        176.250000\n",
            "max      23438.000000\n",
            "Name: homicides, dtype: float64\n"
          ]
        },
        {
          "output_type": "execute_result",
          "data": {
            "text/plain": [
              "<matplotlib.axes._subplots.AxesSubplot at 0x7fe4ea016550>"
            ]
          },
          "metadata": {},
          "execution_count": 147
        },
        {
          "output_type": "display_data",
          "data": {
            "image/png": "[encoded data removed]",
            "text/plain": [
              "<Figure size 432x288 with 1 Axes>"
            ]
          },
          "metadata": {
            "needs_background": "light"
          }
        }
      ]
    },
    {
      "cell_type": "markdown",
      "metadata": {
        "id": "9a0s_EkHS1jE"
      },
      "source": [
        " \n",
        "In the year 1990, the maximum reported homicides cases were 23438 and the minimum cases were 8, whereas the average reported cases were 519. The plot does not show any matching trends with the Total_crime plotted data.\n"
      ]
    },
    {
      "cell_type": "code",
      "metadata": {
        "colab": {
          "base_uri": "https://localhost:8080/",
          "height": 439
        },
        "id": "HSXkxBR7RguJ",
        "outputId": "abacc646-4a77-42e5-8c25-ef9605410163"
      },
      "source": [
        "robberies_to_crime = pd.Series(details_crime_1990.robberies)\n",
        "print(robberies_to_crime.describe())\n",
        "robberies_to_crime.plot()"
      ],
      "execution_count": 148,
      "outputs": [
        {
          "output_type": "stream",
          "name": "stdout",
          "text": [
            "count        67.000000\n",
            "mean       5944.358209\n",
            "std       13368.969161\n",
            "min         275.000000\n",
            "25%        1389.500000\n",
            "50%        2695.000000\n",
            "75%        4812.500000\n",
            "max      100280.000000\n",
            "Name: robberies, dtype: float64\n"
          ]
        },
        {
          "output_type": "execute_result",
          "data": {
            "text/plain": [
              "<matplotlib.axes._subplots.AxesSubplot at 0x7fe4e9f2a1d0>"
            ]
          },
          "metadata": {},
          "execution_count": 148
        },
        {
          "output_type": "display_data",
          "data": {
            "image/png": "[encoded data removed]",
            "text/plain": [
              "<Figure size 432x288 with 1 Axes>"
            ]
          },
          "metadata": {
            "needs_background": "light"
          }
        }
      ]
    },
    {
      "cell_type": "markdown",
      "metadata": {
        "id": "JU9lzLyBTWP7"
      },
      "source": [
        " \n",
        "In the year 1990, the maximum reported robberies cases were 100280 and minimum cases were 275, whereas the average reported cases were 5944. The plot shows matching trends with the Total_crime plotted data.\n"
      ]
    },
    {
      "cell_type": "code",
      "metadata": {
        "colab": {
          "base_uri": "https://localhost:8080/",
          "height": 439
        },
        "id": "iuS19mJYTzn8",
        "outputId": "ba3b269c-f2ad-426e-9574-54e92fa60fdd"
      },
      "source": [
        "\n",
        "assaults_to_crime = pd.Series(details_crime_1990.assaults)\n",
        "print(assaults_to_crime.describe())\n",
        "assaults_to_crime.plot()"
      ],
      "execution_count": 150,
      "outputs": [
        {
          "output_type": "stream",
          "name": "stdout",
          "text": [
            "count       67.000000\n",
            "mean      6258.059701\n",
            "std      10639.006988\n",
            "min        313.000000\n",
            "25%       2090.000000\n",
            "50%       3440.000000\n",
            "75%       6710.500000\n",
            "max      68891.000000\n",
            "Name: assaults, dtype: float64\n"
          ]
        },
        {
          "output_type": "execute_result",
          "data": {
            "text/plain": [
              "<matplotlib.axes._subplots.AxesSubplot at 0x7fe4ea201210>"
            ]
          },
          "metadata": {},
          "execution_count": 150
        },
        {
          "output_type": "display_data",
          "data": {
            "image/png": "[encoded data removed]",
            "text/plain": [
              "<Figure size 432x288 with 1 Axes>"
            ]
          },
          "metadata": {
            "needs_background": "light"
          }
        }
      ]
    },
    {
      "cell_type": "markdown",
      "metadata": {
        "id": "wL7e4OxXUHN5"
      },
      "source": [
        " \n",
        "In the year 1990, the maximum reported assaults cases were 68891 and minimum cases were 313, whereas the average reported cases were 6258. The plot shows matching trends with the Total_crime plotted data.\n",
        "\n",
        "After looking at all data, apart from homicides crime cases rest of the sub-crimes show almost the same trend towards the total_crime cases.\n"
      ]
    },
    {
      "cell_type": "markdown",
      "metadata": {
        "id": "oB7dsAC5Vk_B"
      },
      "source": [
        "# 6) Plot"
      ]
    },
    {
      "cell_type": "markdown",
      "metadata": {
        "id": "7xp9a_O3lZ4l"
      },
      "source": [
        " \n",
        "The below plots shows the most unsafe and safe area during the year 1990 when maximum crimes took place.\n"
      ]
    },
    {
      "cell_type": "code",
      "metadata": {
        "id": "M9fxVeVbW_6I"
      },
      "source": [
        "Unsafe_area_1990 = details_crime_1990[['agency_jurisdiction','Total_crimes']].sort_values('Total_crimes',ascending=False).head(10)\n",
        "#print(Unsafe_area_1990)\n",
        "safe_area_1990 = details_crime_1990[['agency_jurisdiction','Total_crimes']].sort_values('Total_crimes',ascending=False).tail(10)\n",
        "#safe_area_1990"
      ],
      "execution_count": 82,
      "outputs": []
    },
    {
      "cell_type": "code",
      "metadata": {
        "colab": {
          "base_uri": "https://localhost:8080/",
          "height": 405
        },
        "id": "1zF9Y45AWSC0",
        "outputId": "f0d9d9c9-acba-4c40-b67f-80de3f8fe26e"
      },
      "source": [
        "Unsafe_area_1990.plot(x=\"agency_jurisdiction\", y=\"Total_crimes\", kind=\"bar\")"
      ],
      "execution_count": 90,
      "outputs": [
        {
          "output_type": "execute_result",
          "data": {
            "text/plain": [
              "<matplotlib.axes._subplots.AxesSubplot at 0x7fe4ea883c10>"
            ]
          },
          "metadata": {},
          "execution_count": 90
        },
        {
          "output_type": "display_data",
          "data": {
            "image/png": "[encoded data removed]",
            "text/plain": [
              "<Figure size 432x288 with 1 Axes>"
            ]
          },
          "metadata": {
            "needs_background": "light"
          }
        }
      ]
    },
    {
      "cell_type": "markdown",
      "metadata": {
        "id": "My8jFZBv1HKG"
      },
      "source": [
        " \n",
        "Most unsafe areas of 1990 - From the plots above, we can see that the most crimes took place in **New York** which is the highest and double in numbers compared to crimes in the rest of the areas. Like **LA and Chicago** also has max crimes but almost half of the number of crimes than NY. Post that the rest of the other areas have almost the same number of crimes that occurred in the year 1990.\n"
      ]
    },
    {
      "cell_type": "code",
      "metadata": {
        "colab": {
          "base_uri": "https://localhost:8080/",
          "height": 411
        },
        "id": "rlpC7bBu2mun",
        "outputId": "e2e8479d-199d-421d-efa7-29ce8a7efafd"
      },
      "source": [
        "safe_area_1990.plot(x=\"agency_jurisdiction\", y=\"Total_crimes\", kind=\"bar\")"
      ],
      "execution_count": 89,
      "outputs": [
        {
          "output_type": "execute_result",
          "data": {
            "text/plain": [
              "<matplotlib.axes._subplots.AxesSubplot at 0x7fe4eb181bd0>"
            ]
          },
          "metadata": {},
          "execution_count": 89
        },
        {
          "output_type": "display_data",
          "data": {
            "image/png": "[encoded data removed]",
            "text/plain": [
              "<Figure size 432x288 with 1 Axes>"
            ]
          },
          "metadata": {
            "needs_background": "light"
          }
        }
      ]
    },
    {
      "cell_type": "markdown",
      "metadata": {
        "id": "4c2wZJwB3R27"
      },
      "source": [
        " \n",
        "Comparatively Safe areas of 1990 - From the above plot, we can see that the **Virginia Beach** has reported the least number of crime cases. Similarly, other areas like **Fairfax County, Raleigh, Salt lake city, Mesa, Arlington** have reported little higher crimes but very less than NY, which is the topmost crime areas of the year 1990.\n"
      ]
    },
    {
      "cell_type": "code",
      "metadata": {
        "colab": {
          "base_uri": "https://localhost:8080/",
          "height": 167
        },
        "id": "9M50hyAj8ZER",
        "outputId": "40b26f82-d0d6-40b3-ade3-d2d003e1c721"
      },
      "source": [
        "sub_crimes_total = details_crime_1990.groupby(\"report_year\")['violent_crimes','homicides','rapes','assaults','robberies'].sum()\n",
        "sub_crimes_total.head()"
      ],
      "execution_count": 86,
      "outputs": [
        {
          "output_type": "stream",
          "name": "stderr",
          "text": [
            "/usr/local/lib/python3.7/dist-packages/ipykernel_launcher.py:1: FutureWarning: Indexing with multiple keys (implicitly converted to a tuple of keys) will be deprecated, use a list instead.\n",
            "  \"\"\"Entry point for launching an IPython kernel.\n"
          ]
        },
        {
          "output_type": "execute_result",
          "data": {
            "text/html": [
              "<div>\n",
              "<style scoped>\n",
              "    .dataframe tbody tr th:only-of-type {\n",
              "        vertical-align: middle;\n",
              "    }\n",
              "\n",
              "    .dataframe tbody tr th {\n",
              "        vertical-align: top;\n",
              "    }\n",
              "\n",
              "    .dataframe thead th {\n",
              "        text-align: right;\n",
              "    }\n",
              "</style>\n",
              "<table border=\"1\" class=\"dataframe\">\n",
              "  <thead>\n",
              "    <tr style=\"text-align: right;\">\n",
              "      <th></th>\n",
              "      <th>violent_crimes</th>\n",
              "      <th>homicides</th>\n",
              "      <th>rapes</th>\n",
              "      <th>assaults</th>\n",
              "      <th>robberies</th>\n",
              "    </tr>\n",
              "    <tr>\n",
              "      <th>report_year</th>\n",
              "      <th></th>\n",
              "      <th></th>\n",
              "      <th></th>\n",
              "      <th></th>\n",
              "      <th></th>\n",
              "    </tr>\n",
              "  </thead>\n",
              "  <tbody>\n",
              "    <tr>\n",
              "      <th>1990</th>\n",
              "      <td>2686096.0</td>\n",
              "      <td>35304.0</td>\n",
              "      <td>36541.0</td>\n",
              "      <td>419290.0</td>\n",
              "      <td>398272.0</td>\n",
              "    </tr>\n",
              "  </tbody>\n",
              "</table>\n",
              "</div>"
            ],
            "text/plain": [
              "             violent_crimes  homicides    rapes  assaults  robberies\n",
              "report_year                                                         \n",
              "1990              2686096.0    35304.0  36541.0  419290.0   398272.0"
            ]
          },
          "metadata": {},
          "execution_count": 86
        }
      ]
    },
    {
      "cell_type": "markdown",
      "metadata": {
        "id": "JCAuo0XoJOAf"
      },
      "source": [
        " \n",
        "The summary count of all the sub-crimes which took place in the year 1990 is shown in the above code. The detailed pictorial representation is as below.\n"
      ]
    },
    {
      "cell_type": "code",
      "metadata": {
        "colab": {
          "base_uri": "https://localhost:8080/",
          "height": 427
        },
        "id": "qtl3kslAJ0yo",
        "outputId": "b82dc882-70f4-4bc8-d805-db06232080a3"
      },
      "source": [
        "#prints the sums of all crimes for year 1990\n",
        "T_homi = Crimes_in_1990.homicides.sum()\n",
        "T_rapes = Crimes_in_1990.rapes.sum()\n",
        "T_assaults = Crimes_in_1990.assaults.sum()\n",
        "T_robberies = Crimes_in_1990.robberies.sum()\n",
        "T_violent = Crimes_in_1990.violent_crimes.sum()\n",
        "\n",
        "#code for size of plot\n",
        "plt.figure(figsize=(12,7))\n",
        "\n",
        "#labelling for plot\n",
        "label = ['Homicides','Rapes','Assaults','Robberies','Violent_crimes']\n",
        "explode = [0.6,0.3,0,0,0]\n",
        "\n",
        "#code for pieplot\n",
        "plt.pie([T_homi,T_rapes,T_assaults,T_robberies,T_violent], labels=label, autopct='%.2f %%', explode=explode)\n",
        "plt.title('Total Crimes in 1990', fontweight='bold')\n",
        "plt.show()"
      ],
      "execution_count": 128,
      "outputs": [
        {
          "output_type": "display_data",
          "data": {
            "image/png": "[encoded data removed]",
            "text/plain": [
              "<Figure size 864x504 with 1 Axes>"
            ]
          },
          "metadata": {}
        }
      ]
    },
    {
      "cell_type": "markdown",
      "metadata": {
        "id": "pBQg0Xd4LWvr"
      },
      "source": [
        " \n",
        "# 7) Summary\n",
        "\n",
        "- The crimes were on the increasing trend at the start of the dataset and reached their highest at the year 1090.\n",
        "- Post year 1991 the crime rates have started dropping and towards the end of the year 2015, it was flat.\n",
        "- NY city is the highest reported crimes area and also with the highest population.\n",
        "- In the year 1990 highest crimes were observed in Violent crimes to about 75.12%, followed by 11.73% Assaults, 11.14% Robberies, 1.02% Rapes, and 0.99% Homicides.\n"
      ]
    },
    {
      "cell_type": "markdown",
      "metadata": {
        "id": "yWla2yEaLeov"
      },
      "source": [
        "# 8) Recommendations"
      ]
    },
    {
      "cell_type": "markdown",
      "metadata": {
        "id": "lL6vzIDdMl4P"
      },
      "source": [
        "From overall observations, the NY city does have higher crimes as its one of the populated areas. More attention can be given to these areas with the new technical support as the maximum crimes are related to violence. Some major steps were taken during the year 1991 which helped to reduce crime rates drastically if we get more details what has chanced from the year 1990 to 1991 can also help to plan next steps now.\n"
      ]
    }
  ]
}