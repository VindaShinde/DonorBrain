{
  "nbformat": 4,
  "nbformat_minor": 0,
  "metadata": {
    "colab": {
      "name": "First_Python_notebook_Basic4_Dates and Times.ipynb",
      "provenance": [],
      "include_colab_link": true
    },
    "kernelspec": {
      "display_name": "Python 3",
      "language": "python",
      "name": "python3"
    },
    "language_info": {
      "codemirror_mode": {
        "name": "ipython",
        "version": 3
      },
      "file_extension": ".py",
      "mimetype": "text/x-python",
      "name": "python",
      "nbconvert_exporter": "python",
      "pygments_lexer": "ipython3",
      "version": "3.7.3"
    }
  },
  "cells": [
    {
      "cell_type": "markdown",
      "metadata": {
        "id": "view-in-github",
        "colab_type": "text"
      },
      "source": [
        "<a href=\"https://colab.research.google.com/github/VindaShinde/DonorBrain/blob/master/First_Python_notebook_Basic4_Dates_and_Times.ipynb\" target=\"_parent\"><img src=\"https://colab.research.google.com/assets/colab-badge.svg\" alt=\"Open In Colab\"/></a>"
      ]
    },
    {
      "cell_type": "markdown",
      "metadata": {
        "id": "upqWL8jNkNCo"
      },
      "source": [
        "<p class=\"pull-left\">\n",
        "ANLT 212 - Analytics Computing\n",
        "</p>\n",
        "<div class=\"pull-right\">\n",
        "<ul class=\"list-inline\">\n",
        "Copyright © Dana Nehoran 2017\n",
        "</ul>\n",
        "</div>"
      ]
    },
    {
      "cell_type": "markdown",
      "metadata": {
        "id": "kZmyL9OHkNCr"
      },
      "source": [
        "# <font color='navy' size=6>Dates</font>\n",
        "\n"
      ]
    },
    {
      "cell_type": "markdown",
      "metadata": {
        "id": "GXrb4fLckNCu"
      },
      "source": [
        "# 1) Date & Time"
      ]
    },
    {
      "cell_type": "code",
      "metadata": {
        "id": "_V-MPxa6kNCw",
        "outputId": "4e621043-32ca-49c9-9a49-3624404645f1"
      },
      "source": [
        "import datetime\n",
        "right_now = datetime.datetime.now()\n",
        "right_now"
      ],
      "execution_count": null,
      "outputs": [
        {
          "output_type": "execute_result",
          "data": {
            "text/plain": [
              "datetime.datetime(2017, 6, 7, 18, 3, 35, 355560)"
            ]
          },
          "metadata": {
            "tags": []
          },
          "execution_count": 2
        }
      ]
    },
    {
      "cell_type": "code",
      "metadata": {
        "id": "W0ODY2hPkNC8",
        "outputId": "ba32ea53-2d50-41a6-dfc9-c9c3562baffb"
      },
      "source": [
        "another_day = datetime.time(4, 20, 1)\n",
        "another_day"
      ],
      "execution_count": null,
      "outputs": [
        {
          "output_type": "execute_result",
          "data": {
            "text/plain": [
              "datetime.time(4, 20, 1)"
            ]
          },
          "metadata": {
            "tags": []
          },
          "execution_count": 3
        }
      ]
    },
    {
      "cell_type": "code",
      "metadata": {
        "id": "fu-V8TeQkNDE",
        "outputId": "04259988-6578-47db-a8e8-d999192354e8"
      },
      "source": [
        "#print (t)\n",
        "print ('day   :',right_now.day)\n",
        "print ('month  :',right_now.month)\n",
        "print ('year   :',right_now.year)\n",
        "print ('hour  :', right_now.hour)\n",
        "print ('minute:', right_now.minute)\n",
        "print ('second:', right_now.second)\n",
        "print ('microsecond:', right_now.microsecond)\n",
        "print ('tzinfo:', right_now.tzinfo)"
      ],
      "execution_count": null,
      "outputs": [
        {
          "output_type": "stream",
          "text": [
            "day   : 13\n",
            "month  : 5\n",
            "year   : 2017\n",
            "hour  : 20\n",
            "minute: 25\n",
            "second: 29\n",
            "microsecond: 992962\n",
            "tzinfo: None\n"
          ],
          "name": "stdout"
        }
      ]
    },
    {
      "cell_type": "markdown",
      "metadata": {
        "id": "a3qt-_PVkNDJ"
      },
      "source": [
        "# 2) Date\n"
      ]
    },
    {
      "cell_type": "code",
      "metadata": {
        "id": "HMK_XuiNkNDK",
        "outputId": "c8e1b765-e37f-4ad5-be8f-e47ddf3194d6"
      },
      "source": [
        "today = datetime.date.today()\n",
        "print (today)\n",
        "print ('ctime:', today.ctime())\n",
        "print ('tuple:', today.timetuple())\n",
        "print ('ordinal:', today.toordinal())\n",
        "print ('Year:', today.year)\n",
        "print ('Mon :', today.month)\n",
        "print ('Day :', today.day)"
      ],
      "execution_count": null,
      "outputs": [
        {
          "output_type": "stream",
          "text": [
            "2017-05-13\n",
            "ctime: Sat May 13 00:00:00 2017\n",
            "tuple: time.struct_time(tm_year=2017, tm_mon=5, tm_mday=13, tm_hour=0, tm_min=0, tm_sec=0, tm_wday=5, tm_yday=133, tm_isdst=-1)\n",
            "ordinal: 736462\n",
            "Year: 2017\n",
            "Mon : 5\n",
            "Day : 13\n"
          ],
          "name": "stdout"
        }
      ]
    },
    {
      "cell_type": "code",
      "metadata": {
        "id": "Qt5ZGbbWkNDP",
        "outputId": "01df041a-0dbb-4fa0-af5b-150e115b0c21"
      },
      "source": [
        "d1 = datetime.date(2015, 3, 11)\n",
        "print('d1:', d1)"
      ],
      "execution_count": null,
      "outputs": [
        {
          "output_type": "stream",
          "text": [
            "d1: 2015-03-11\n"
          ],
          "name": "stdout"
        }
      ]
    },
    {
      "cell_type": "code",
      "metadata": {
        "id": "pKyb1ToykNDU",
        "outputId": "a028d60c-e60e-4782-caab-a928b732d11d"
      },
      "source": [
        "d2 = d1.replace(year=1990)\n",
        "print('d2:', d2)"
      ],
      "execution_count": null,
      "outputs": [
        {
          "output_type": "stream",
          "text": [
            "d2: 1990-03-11\n"
          ],
          "name": "stdout"
        }
      ]
    },
    {
      "cell_type": "markdown",
      "metadata": {
        "id": "2hC8snukkNDe"
      },
      "source": [
        "# 3) Comparison"
      ]
    },
    {
      "cell_type": "code",
      "metadata": {
        "id": "SkVzwiHnkNDe",
        "outputId": "a9c40f79-b85c-42e9-817c-7156fa2b7332"
      },
      "source": [
        "halloween2015 = datetime.datetime(2015, 10, 31, 0, 0, 0)\n",
        "newyears2016 = datetime.datetime(2016, 1, 1, 0, 0, 0)\n",
        "oct31_2015 = datetime.datetime(2015, 10, 31, 0, 0, 0)\n",
        "halloween2015 == oct31_2015"
      ],
      "execution_count": null,
      "outputs": [
        {
          "output_type": "execute_result",
          "data": {
            "text/plain": [
              "True"
            ]
          },
          "metadata": {
            "tags": []
          },
          "execution_count": 7
        }
      ]
    },
    {
      "cell_type": "code",
      "metadata": {
        "id": "r4syMJgSkNDk",
        "outputId": "fa86a53c-535a-424b-8e98-b136aac1be1c"
      },
      "source": [
        "halloween2015 > newyears2016"
      ],
      "execution_count": null,
      "outputs": [
        {
          "output_type": "execute_result",
          "data": {
            "text/plain": [
              "False"
            ]
          },
          "metadata": {
            "tags": []
          },
          "execution_count": 8
        }
      ]
    },
    {
      "cell_type": "code",
      "metadata": {
        "id": "Rugvh3FikNDo",
        "outputId": "4adea4d4-3194-431a-9ffa-2c47768bf433"
      },
      "source": [
        "newyears2016 > halloween2015"
      ],
      "execution_count": null,
      "outputs": [
        {
          "output_type": "execute_result",
          "data": {
            "text/plain": [
              "True"
            ]
          },
          "metadata": {
            "tags": []
          },
          "execution_count": 9
        }
      ]
    },
    {
      "cell_type": "markdown",
      "metadata": {
        "id": "v0rztNSnkNDt"
      },
      "source": [
        "newyears2016 != oct31_2015"
      ]
    },
    {
      "cell_type": "markdown",
      "metadata": {
        "id": "Ijo7QFYmkNDt"
      },
      "source": [
        "# 4) Converting datetime Objects into Strings"
      ]
    },
    {
      "cell_type": "code",
      "metadata": {
        "id": "08O5Rn-DkNDu",
        "outputId": "c72bf3a3-b43f-47be-b500-bf22b062abee"
      },
      "source": [
        "oct21st = datetime.datetime(2015, 10, 21, 16, 29, 0)\n",
        "oct21st.strftime('%Y/%m/%d %H:%M:%S')"
      ],
      "execution_count": null,
      "outputs": [
        {
          "output_type": "execute_result",
          "data": {
            "text/plain": [
              "'2015/10/21 16:29:00'"
            ]
          },
          "metadata": {
            "tags": []
          },
          "execution_count": 5
        }
      ]
    },
    {
      "cell_type": "code",
      "metadata": {
        "id": "CTUAVdbGkNDz",
        "outputId": "87654296-a30d-4b44-f3b8-c26d837c2caf"
      },
      "source": [
        "oct21st.strftime('%I:%M %p')"
      ],
      "execution_count": null,
      "outputs": [
        {
          "output_type": "execute_result",
          "data": {
            "text/plain": [
              "'04:29 PM'"
            ]
          },
          "metadata": {
            "tags": []
          },
          "execution_count": 6
        }
      ]
    },
    {
      "cell_type": "code",
      "metadata": {
        "id": "5B8cTniMkND1",
        "outputId": "e7aefc4f-677a-4bf6-8f25-cc874e692a82"
      },
      "source": [
        "oct21st.strftime(\"%y of %B\")"
      ],
      "execution_count": null,
      "outputs": [
        {
          "output_type": "execute_result",
          "data": {
            "text/plain": [
              "'15 of October'"
            ]
          },
          "metadata": {
            "tags": []
          },
          "execution_count": 7
        }
      ]
    },
    {
      "cell_type": "markdown",
      "metadata": {
        "id": "wFW0BJNckND6"
      },
      "source": [
        "# 5) Converting Strings into datetime Objects"
      ]
    },
    {
      "cell_type": "code",
      "metadata": {
        "id": "2_9udbRtkND6",
        "outputId": "59d8aa6d-7f83-4287-aa75-5aec77a3ef8b"
      },
      "source": [
        "date1 = datetime.datetime.strptime('October 21, 2015', '%B %d, %Y')\n",
        "date1"
      ],
      "execution_count": null,
      "outputs": [
        {
          "output_type": "execute_result",
          "data": {
            "text/plain": [
              "datetime.datetime(2015, 10, 21, 0, 0)"
            ]
          },
          "metadata": {
            "tags": []
          },
          "execution_count": 13
        }
      ]
    },
    {
      "cell_type": "code",
      "metadata": {
        "id": "2wHliYzKkND9",
        "outputId": "4aaa898b-16dd-4cf9-e932-d650cd75a15a"
      },
      "source": [
        "datetime.datetime.strptime('2015/10/21 16:29:00', '%Y/%m/%d %H:%M:%S')"
      ],
      "execution_count": null,
      "outputs": [
        {
          "output_type": "execute_result",
          "data": {
            "text/plain": [
              "datetime.datetime(2015, 10, 21, 16, 29)"
            ]
          },
          "metadata": {
            "tags": []
          },
          "execution_count": 14
        }
      ]
    },
    {
      "cell_type": "code",
      "metadata": {
        "id": "S9JZlL22kNEB",
        "outputId": "dcc1beb9-49e9-452b-bb70-6637193f0fc2"
      },
      "source": [
        "datetime.datetime.strptime(\"October of '15\", \"%B of '%y\")"
      ],
      "execution_count": null,
      "outputs": [
        {
          "output_type": "execute_result",
          "data": {
            "text/plain": [
              "datetime.datetime(2015, 10, 1, 0, 0)"
            ]
          },
          "metadata": {
            "tags": []
          },
          "execution_count": 15
        }
      ]
    },
    {
      "cell_type": "code",
      "metadata": {
        "id": "6VUV86J2kNEE",
        "outputId": "f01a85e3-49f5-496b-fa16-beb1bf327c01"
      },
      "source": [
        "datetime.datetime.strptime(\"November of '63\", \"%B of '%y\")"
      ],
      "execution_count": null,
      "outputs": [
        {
          "output_type": "execute_result",
          "data": {
            "text/plain": [
              "datetime.datetime(2063, 11, 1, 0, 0)"
            ]
          },
          "metadata": {
            "tags": []
          },
          "execution_count": 16
        }
      ]
    },
    {
      "cell_type": "code",
      "metadata": {
        "id": "XiOKPJfdkNEG"
      },
      "source": [
        ""
      ],
      "execution_count": null,
      "outputs": []
    }
  ]
}